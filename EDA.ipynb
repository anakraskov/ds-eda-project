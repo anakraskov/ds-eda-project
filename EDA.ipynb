{
 "cells": [
  {
   "cell_type": "markdown",
   "metadata": {},
   "source": [
    "# EDA\n",
    "\n",
    "![](data:image/jpeg;base64,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)"
   ]
  },
  {
   "cell_type": "code",
   "execution_count": 3,
   "metadata": {},
   "outputs": [],
   "source": [
    "import warnings\n",
    "\n",
    "warnings.filterwarnings(\"ignore\")\n",
    "\n",
    "import pandas as pd\n",
    "import numpy as np\n",
    "import matplotlib.pyplot as plt\n",
    "import seaborn as sns\n",
    "\n",
    "\n",
    "from matplotlib.ticker import PercentFormatter\n",
    "plt.rcParams.update({ \"figure.figsize\" : (8, 5),\"axes.facecolor\" : \"white\", \"axes.edgecolor\":  \"black\"})\n",
    "plt.rcParams[\"figure.facecolor\"]= \"w\"\n",
    "pd.plotting.register_matplotlib_converters()\n",
    "pd.set_option('display.float_format', lambda x: '%.3f' % x)"
   ]
  },
  {
   "cell_type": "code",
   "execution_count": 4,
   "metadata": {},
   "outputs": [],
   "source": [
    "import os\n",
    "from dotenv import load_dotenv\n",
    "from sqlalchemy import create_engine\n",
    "\n",
    "#read the database string from the .env\n",
    "load_dotenv()\n",
    "\n",
    "DB_STRING = os.getenv('DB_STRING')\n",
    "\n",
    "db = create_engine(DB_STRING)"
   ]
  },
  {
   "cell_type": "code",
   "execution_count": 5,
   "metadata": {},
   "outputs": [],
   "source": [
    "#import the data to a pandas dataframe\n",
    "query_string = \"SELECT * FROM eda.king_county_house_sales\"\n",
    "sales_sqlalchemy = pd.read_sql(query_string, db)"
   ]
  },
  {
   "cell_type": "code",
   "execution_count": 6,
   "metadata": {},
   "outputs": [
    {
     "data": {
      "text/html": [
       "<div>\n",
       "<style scoped>\n",
       "    .dataframe tbody tr th:only-of-type {\n",
       "        vertical-align: middle;\n",
       "    }\n",
       "\n",
       "    .dataframe tbody tr th {\n",
       "        vertical-align: top;\n",
       "    }\n",
       "\n",
       "    .dataframe thead th {\n",
       "        text-align: right;\n",
       "    }\n",
       "</style>\n",
       "<table border=\"1\" class=\"dataframe\">\n",
       "  <thead>\n",
       "    <tr style=\"text-align: right;\">\n",
       "      <th></th>\n",
       "      <th>date</th>\n",
       "      <th>price</th>\n",
       "      <th>house_id</th>\n",
       "      <th>id</th>\n",
       "    </tr>\n",
       "  </thead>\n",
       "  <tbody>\n",
       "    <tr>\n",
       "      <th>0</th>\n",
       "      <td>2014-10-13</td>\n",
       "      <td>221900.000</td>\n",
       "      <td>7129300520</td>\n",
       "      <td>1</td>\n",
       "    </tr>\n",
       "    <tr>\n",
       "      <th>1</th>\n",
       "      <td>2014-12-09</td>\n",
       "      <td>538000.000</td>\n",
       "      <td>6414100192</td>\n",
       "      <td>2</td>\n",
       "    </tr>\n",
       "    <tr>\n",
       "      <th>2</th>\n",
       "      <td>2015-02-25</td>\n",
       "      <td>180000.000</td>\n",
       "      <td>5631500400</td>\n",
       "      <td>3</td>\n",
       "    </tr>\n",
       "    <tr>\n",
       "      <th>3</th>\n",
       "      <td>2014-12-09</td>\n",
       "      <td>604000.000</td>\n",
       "      <td>2487200875</td>\n",
       "      <td>4</td>\n",
       "    </tr>\n",
       "    <tr>\n",
       "      <th>4</th>\n",
       "      <td>2015-02-18</td>\n",
       "      <td>510000.000</td>\n",
       "      <td>1954400510</td>\n",
       "      <td>5</td>\n",
       "    </tr>\n",
       "  </tbody>\n",
       "</table>\n",
       "</div>"
      ],
      "text/plain": [
       "         date      price    house_id  id\n",
       "0  2014-10-13 221900.000  7129300520   1\n",
       "1  2014-12-09 538000.000  6414100192   2\n",
       "2  2015-02-25 180000.000  5631500400   3\n",
       "3  2014-12-09 604000.000  2487200875   4\n",
       "4  2015-02-18 510000.000  1954400510   5"
      ]
     },
     "execution_count": 6,
     "metadata": {},
     "output_type": "execute_result"
    }
   ],
   "source": [
    "sales_sqlalchemy.head()"
   ]
  },
  {
   "cell_type": "code",
   "execution_count": 7,
   "metadata": {},
   "outputs": [],
   "source": [
    "#import the data to a pandas dataframe\n",
    "query_string = \"SELECT * FROM eda.king_county_house_details\"\n",
    "details_sqlalchemy = pd.read_sql(query_string, db)"
   ]
  },
  {
   "cell_type": "code",
   "execution_count": 8,
   "metadata": {},
   "outputs": [
    {
     "data": {
      "text/html": [
       "<div>\n",
       "<style scoped>\n",
       "    .dataframe tbody tr th:only-of-type {\n",
       "        vertical-align: middle;\n",
       "    }\n",
       "\n",
       "    .dataframe tbody tr th {\n",
       "        vertical-align: top;\n",
       "    }\n",
       "\n",
       "    .dataframe thead th {\n",
       "        text-align: right;\n",
       "    }\n",
       "</style>\n",
       "<table border=\"1\" class=\"dataframe\">\n",
       "  <thead>\n",
       "    <tr style=\"text-align: right;\">\n",
       "      <th></th>\n",
       "      <th>id</th>\n",
       "      <th>bedrooms</th>\n",
       "      <th>bathrooms</th>\n",
       "      <th>sqft_living</th>\n",
       "      <th>sqft_lot</th>\n",
       "      <th>floors</th>\n",
       "      <th>waterfront</th>\n",
       "      <th>view</th>\n",
       "      <th>condition</th>\n",
       "      <th>grade</th>\n",
       "      <th>sqft_above</th>\n",
       "      <th>sqft_basement</th>\n",
       "      <th>yr_built</th>\n",
       "      <th>yr_renovated</th>\n",
       "      <th>zipcode</th>\n",
       "      <th>lat</th>\n",
       "      <th>long</th>\n",
       "      <th>sqft_living15</th>\n",
       "      <th>sqft_lot15</th>\n",
       "    </tr>\n",
       "  </thead>\n",
       "  <tbody>\n",
       "    <tr>\n",
       "      <th>0</th>\n",
       "      <td>1000102</td>\n",
       "      <td>6.000</td>\n",
       "      <td>3.000</td>\n",
       "      <td>2400.000</td>\n",
       "      <td>9373.000</td>\n",
       "      <td>2.000</td>\n",
       "      <td>NaN</td>\n",
       "      <td>0.000</td>\n",
       "      <td>3</td>\n",
       "      <td>7</td>\n",
       "      <td>2400.000</td>\n",
       "      <td>0.000</td>\n",
       "      <td>1991</td>\n",
       "      <td>0.000</td>\n",
       "      <td>98002</td>\n",
       "      <td>47.326</td>\n",
       "      <td>-122.214</td>\n",
       "      <td>2060.000</td>\n",
       "      <td>7316.000</td>\n",
       "    </tr>\n",
       "    <tr>\n",
       "      <th>1</th>\n",
       "      <td>100100050</td>\n",
       "      <td>3.000</td>\n",
       "      <td>1.000</td>\n",
       "      <td>1320.000</td>\n",
       "      <td>11090.000</td>\n",
       "      <td>1.000</td>\n",
       "      <td>0.000</td>\n",
       "      <td>0.000</td>\n",
       "      <td>3</td>\n",
       "      <td>7</td>\n",
       "      <td>1320.000</td>\n",
       "      <td>0.000</td>\n",
       "      <td>1955</td>\n",
       "      <td>0.000</td>\n",
       "      <td>98155</td>\n",
       "      <td>47.775</td>\n",
       "      <td>-122.304</td>\n",
       "      <td>1320.000</td>\n",
       "      <td>8319.000</td>\n",
       "    </tr>\n",
       "    <tr>\n",
       "      <th>2</th>\n",
       "      <td>1001200035</td>\n",
       "      <td>3.000</td>\n",
       "      <td>1.000</td>\n",
       "      <td>1350.000</td>\n",
       "      <td>7973.000</td>\n",
       "      <td>1.500</td>\n",
       "      <td>NaN</td>\n",
       "      <td>0.000</td>\n",
       "      <td>3</td>\n",
       "      <td>7</td>\n",
       "      <td>1350.000</td>\n",
       "      <td>0.000</td>\n",
       "      <td>1954</td>\n",
       "      <td>0.000</td>\n",
       "      <td>98188</td>\n",
       "      <td>47.432</td>\n",
       "      <td>-122.292</td>\n",
       "      <td>1310.000</td>\n",
       "      <td>7491.000</td>\n",
       "    </tr>\n",
       "    <tr>\n",
       "      <th>3</th>\n",
       "      <td>1001200050</td>\n",
       "      <td>4.000</td>\n",
       "      <td>1.500</td>\n",
       "      <td>1260.000</td>\n",
       "      <td>7248.000</td>\n",
       "      <td>1.500</td>\n",
       "      <td>NaN</td>\n",
       "      <td>0.000</td>\n",
       "      <td>5</td>\n",
       "      <td>7</td>\n",
       "      <td>1260.000</td>\n",
       "      <td>0.000</td>\n",
       "      <td>1955</td>\n",
       "      <td>NaN</td>\n",
       "      <td>98188</td>\n",
       "      <td>47.433</td>\n",
       "      <td>-122.292</td>\n",
       "      <td>1300.000</td>\n",
       "      <td>7732.000</td>\n",
       "    </tr>\n",
       "    <tr>\n",
       "      <th>4</th>\n",
       "      <td>1003000175</td>\n",
       "      <td>3.000</td>\n",
       "      <td>1.000</td>\n",
       "      <td>980.000</td>\n",
       "      <td>7606.000</td>\n",
       "      <td>1.000</td>\n",
       "      <td>0.000</td>\n",
       "      <td>0.000</td>\n",
       "      <td>3</td>\n",
       "      <td>7</td>\n",
       "      <td>980.000</td>\n",
       "      <td>0.000</td>\n",
       "      <td>1954</td>\n",
       "      <td>0.000</td>\n",
       "      <td>98188</td>\n",
       "      <td>47.436</td>\n",
       "      <td>-122.290</td>\n",
       "      <td>980.000</td>\n",
       "      <td>8125.000</td>\n",
       "    </tr>\n",
       "    <tr>\n",
       "      <th>5</th>\n",
       "      <td>100300280</td>\n",
       "      <td>3.000</td>\n",
       "      <td>2.250</td>\n",
       "      <td>1430.000</td>\n",
       "      <td>4777.000</td>\n",
       "      <td>2.000</td>\n",
       "      <td>0.000</td>\n",
       "      <td>0.000</td>\n",
       "      <td>3</td>\n",
       "      <td>7</td>\n",
       "      <td>1430.000</td>\n",
       "      <td>0.000</td>\n",
       "      <td>2010</td>\n",
       "      <td>0.000</td>\n",
       "      <td>98059</td>\n",
       "      <td>47.487</td>\n",
       "      <td>-122.152</td>\n",
       "      <td>1639.000</td>\n",
       "      <td>3854.000</td>\n",
       "    </tr>\n",
       "    <tr>\n",
       "      <th>6</th>\n",
       "      <td>100300500</td>\n",
       "      <td>3.000</td>\n",
       "      <td>2.500</td>\n",
       "      <td>1520.000</td>\n",
       "      <td>3041.000</td>\n",
       "      <td>2.000</td>\n",
       "      <td>0.000</td>\n",
       "      <td>0.000</td>\n",
       "      <td>3</td>\n",
       "      <td>7</td>\n",
       "      <td>1520.000</td>\n",
       "      <td>0.000</td>\n",
       "      <td>2009</td>\n",
       "      <td>NaN</td>\n",
       "      <td>98059</td>\n",
       "      <td>47.487</td>\n",
       "      <td>-122.152</td>\n",
       "      <td>1820.000</td>\n",
       "      <td>3229.000</td>\n",
       "    </tr>\n",
       "    <tr>\n",
       "      <th>7</th>\n",
       "      <td>100300530</td>\n",
       "      <td>3.000</td>\n",
       "      <td>2.500</td>\n",
       "      <td>1520.000</td>\n",
       "      <td>3003.000</td>\n",
       "      <td>2.000</td>\n",
       "      <td>0.000</td>\n",
       "      <td>0.000</td>\n",
       "      <td>3</td>\n",
       "      <td>7</td>\n",
       "      <td>1520.000</td>\n",
       "      <td>0.000</td>\n",
       "      <td>2009</td>\n",
       "      <td>0.000</td>\n",
       "      <td>98059</td>\n",
       "      <td>47.488</td>\n",
       "      <td>-122.153</td>\n",
       "      <td>1820.000</td>\n",
       "      <td>3030.000</td>\n",
       "    </tr>\n",
       "    <tr>\n",
       "      <th>8</th>\n",
       "      <td>1003400155</td>\n",
       "      <td>3.000</td>\n",
       "      <td>1.000</td>\n",
       "      <td>1100.000</td>\n",
       "      <td>7657.000</td>\n",
       "      <td>1.000</td>\n",
       "      <td>0.000</td>\n",
       "      <td>0.000</td>\n",
       "      <td>3</td>\n",
       "      <td>7</td>\n",
       "      <td>1100.000</td>\n",
       "      <td>0.000</td>\n",
       "      <td>1955</td>\n",
       "      <td>0.000</td>\n",
       "      <td>98188</td>\n",
       "      <td>47.437</td>\n",
       "      <td>-122.285</td>\n",
       "      <td>1300.000</td>\n",
       "      <td>8000.000</td>\n",
       "    </tr>\n",
       "    <tr>\n",
       "      <th>9</th>\n",
       "      <td>1003400245</td>\n",
       "      <td>3.000</td>\n",
       "      <td>1.000</td>\n",
       "      <td>1130.000</td>\n",
       "      <td>9907.000</td>\n",
       "      <td>1.000</td>\n",
       "      <td>0.000</td>\n",
       "      <td>0.000</td>\n",
       "      <td>3</td>\n",
       "      <td>7</td>\n",
       "      <td>1130.000</td>\n",
       "      <td>0.000</td>\n",
       "      <td>1954</td>\n",
       "      <td>0.000</td>\n",
       "      <td>98188</td>\n",
       "      <td>47.436</td>\n",
       "      <td>-122.286</td>\n",
       "      <td>1320.000</td>\n",
       "      <td>9907.000</td>\n",
       "    </tr>\n",
       "  </tbody>\n",
       "</table>\n",
       "</div>"
      ],
      "text/plain": [
       "           id  bedrooms  bathrooms  sqft_living  sqft_lot  floors  waterfront  \\\n",
       "0     1000102     6.000      3.000     2400.000  9373.000   2.000         NaN   \n",
       "1   100100050     3.000      1.000     1320.000 11090.000   1.000       0.000   \n",
       "2  1001200035     3.000      1.000     1350.000  7973.000   1.500         NaN   \n",
       "3  1001200050     4.000      1.500     1260.000  7248.000   1.500         NaN   \n",
       "4  1003000175     3.000      1.000      980.000  7606.000   1.000       0.000   \n",
       "5   100300280     3.000      2.250     1430.000  4777.000   2.000       0.000   \n",
       "6   100300500     3.000      2.500     1520.000  3041.000   2.000       0.000   \n",
       "7   100300530     3.000      2.500     1520.000  3003.000   2.000       0.000   \n",
       "8  1003400155     3.000      1.000     1100.000  7657.000   1.000       0.000   \n",
       "9  1003400245     3.000      1.000     1130.000  9907.000   1.000       0.000   \n",
       "\n",
       "   view  condition  grade  sqft_above  sqft_basement  yr_built  yr_renovated  \\\n",
       "0 0.000          3      7    2400.000          0.000      1991         0.000   \n",
       "1 0.000          3      7    1320.000          0.000      1955         0.000   \n",
       "2 0.000          3      7    1350.000          0.000      1954         0.000   \n",
       "3 0.000          5      7    1260.000          0.000      1955           NaN   \n",
       "4 0.000          3      7     980.000          0.000      1954         0.000   \n",
       "5 0.000          3      7    1430.000          0.000      2010         0.000   \n",
       "6 0.000          3      7    1520.000          0.000      2009           NaN   \n",
       "7 0.000          3      7    1520.000          0.000      2009         0.000   \n",
       "8 0.000          3      7    1100.000          0.000      1955         0.000   \n",
       "9 0.000          3      7    1130.000          0.000      1954         0.000   \n",
       "\n",
       "   zipcode    lat     long  sqft_living15  sqft_lot15  \n",
       "0    98002 47.326 -122.214       2060.000    7316.000  \n",
       "1    98155 47.775 -122.304       1320.000    8319.000  \n",
       "2    98188 47.432 -122.292       1310.000    7491.000  \n",
       "3    98188 47.433 -122.292       1300.000    7732.000  \n",
       "4    98188 47.436 -122.290        980.000    8125.000  \n",
       "5    98059 47.487 -122.152       1639.000    3854.000  \n",
       "6    98059 47.487 -122.152       1820.000    3229.000  \n",
       "7    98059 47.488 -122.153       1820.000    3030.000  \n",
       "8    98188 47.437 -122.285       1300.000    8000.000  \n",
       "9    98188 47.436 -122.286       1320.000    9907.000  "
      ]
     },
     "execution_count": 8,
     "metadata": {},
     "output_type": "execute_result"
    }
   ],
   "source": [
    "details_sqlalchemy.head(10)"
   ]
  },
  {
   "cell_type": "code",
   "execution_count": 9,
   "metadata": {},
   "outputs": [
    {
     "name": "stdout",
     "output_type": "stream",
     "text": [
      "<class 'pandas.core.frame.DataFrame'>\n",
      "RangeIndex: 21597 entries, 0 to 21596\n",
      "Data columns (total 21 columns):\n",
      " #   Column         Non-Null Count  Dtype         \n",
      "---  ------         --------------  -----         \n",
      " 0   id             21597 non-null  int64         \n",
      " 1   bedrooms       21597 non-null  float64       \n",
      " 2   bathrooms      21597 non-null  float64       \n",
      " 3   sqft_living    21597 non-null  float64       \n",
      " 4   sqft_lot       21597 non-null  float64       \n",
      " 5   floors         21597 non-null  float64       \n",
      " 6   waterfront     19206 non-null  float64       \n",
      " 7   view           21534 non-null  float64       \n",
      " 8   condition      21597 non-null  int64         \n",
      " 9   grade          21597 non-null  int64         \n",
      " 10  sqft_above     21597 non-null  float64       \n",
      " 11  sqft_basement  21145 non-null  float64       \n",
      " 12  yr_built       21597 non-null  int64         \n",
      " 13  yr_renovated   17749 non-null  float64       \n",
      " 14  zipcode        21597 non-null  int64         \n",
      " 15  lat            21597 non-null  float64       \n",
      " 16  long           21597 non-null  float64       \n",
      " 17  sqft_living15  21597 non-null  float64       \n",
      " 18  sqft_lot15     21597 non-null  float64       \n",
      " 19  date           21597 non-null  datetime64[ns]\n",
      " 20  price          21597 non-null  float64       \n",
      "dtypes: datetime64[ns](1), float64(15), int64(5)\n",
      "memory usage: 3.5 MB\n"
     ]
    }
   ],
   "source": [
    "from sqlalchemy import text\n",
    "\n",
    "# Your SQL query\n",
    "query = text(\"\"\"\n",
    "SELECT\n",
    "    kchd.*,\n",
    "    kchs.date,\n",
    "    kchs.price\n",
    "FROM eda.king_county_house_details AS kchd\n",
    "LEFT JOIN eda.king_county_house_sales AS kchs\n",
    "    ON kchd.id = kchs.house_id\n",
    "\"\"\")\n",
    "\n",
    "# Execute and read into a Pandas DataFrame\n",
    "df = pd.read_sql_query(query, db, parse_dates=[\"date\"])\n",
    "\n",
    "# Inspect the result\n",
    "df.info()\n"
   ]
  },
  {
   "cell_type": "code",
   "execution_count": 10,
   "metadata": {},
   "outputs": [],
   "source": [
    "df.to_csv('data/eda_merged_2025-10-15.csv', index=False)"
   ]
  },
  {
   "cell_type": "code",
   "execution_count": 11,
   "metadata": {},
   "outputs": [
    {
     "data": {
      "text/plain": [
       "(21597, 21)"
      ]
     },
     "execution_count": 11,
     "metadata": {},
     "output_type": "execute_result"
    }
   ],
   "source": [
    "df.shape"
   ]
  },
  {
   "cell_type": "code",
   "execution_count": 16,
   "metadata": {},
   "outputs": [
    {
     "data": {
      "text/html": [
       "<div>\n",
       "<style scoped>\n",
       "    .dataframe tbody tr th:only-of-type {\n",
       "        vertical-align: middle;\n",
       "    }\n",
       "\n",
       "    .dataframe tbody tr th {\n",
       "        vertical-align: top;\n",
       "    }\n",
       "\n",
       "    .dataframe thead th {\n",
       "        text-align: right;\n",
       "    }\n",
       "</style>\n",
       "<table border=\"1\" class=\"dataframe\">\n",
       "  <thead>\n",
       "    <tr style=\"text-align: right;\">\n",
       "      <th></th>\n",
       "      <th>id</th>\n",
       "      <th>bedrooms</th>\n",
       "      <th>bathrooms</th>\n",
       "      <th>sqft_living</th>\n",
       "      <th>sqft_lot</th>\n",
       "      <th>floors</th>\n",
       "      <th>waterfront</th>\n",
       "      <th>view</th>\n",
       "      <th>condition</th>\n",
       "      <th>grade</th>\n",
       "      <th>...</th>\n",
       "      <th>sqft_basement</th>\n",
       "      <th>yr_built</th>\n",
       "      <th>yr_renovated</th>\n",
       "      <th>zipcode</th>\n",
       "      <th>lat</th>\n",
       "      <th>long</th>\n",
       "      <th>sqft_living15</th>\n",
       "      <th>sqft_lot15</th>\n",
       "      <th>date</th>\n",
       "      <th>price</th>\n",
       "    </tr>\n",
       "  </thead>\n",
       "  <tbody>\n",
       "    <tr>\n",
       "      <th>0</th>\n",
       "      <td>7129300520</td>\n",
       "      <td>3.000</td>\n",
       "      <td>1.000</td>\n",
       "      <td>1180.000</td>\n",
       "      <td>5650.000</td>\n",
       "      <td>1.000</td>\n",
       "      <td>NaN</td>\n",
       "      <td>0.000</td>\n",
       "      <td>3</td>\n",
       "      <td>7</td>\n",
       "      <td>...</td>\n",
       "      <td>0.000</td>\n",
       "      <td>1955</td>\n",
       "      <td>0.000</td>\n",
       "      <td>98178</td>\n",
       "      <td>47.511</td>\n",
       "      <td>-122.257</td>\n",
       "      <td>1340.000</td>\n",
       "      <td>5650.000</td>\n",
       "      <td>2014-10-13</td>\n",
       "      <td>221900.000</td>\n",
       "    </tr>\n",
       "    <tr>\n",
       "      <th>1</th>\n",
       "      <td>6414100192</td>\n",
       "      <td>3.000</td>\n",
       "      <td>2.250</td>\n",
       "      <td>2570.000</td>\n",
       "      <td>7242.000</td>\n",
       "      <td>2.000</td>\n",
       "      <td>0.000</td>\n",
       "      <td>0.000</td>\n",
       "      <td>3</td>\n",
       "      <td>7</td>\n",
       "      <td>...</td>\n",
       "      <td>400.000</td>\n",
       "      <td>1951</td>\n",
       "      <td>19910.000</td>\n",
       "      <td>98125</td>\n",
       "      <td>47.721</td>\n",
       "      <td>-122.319</td>\n",
       "      <td>1690.000</td>\n",
       "      <td>7639.000</td>\n",
       "      <td>2014-12-09</td>\n",
       "      <td>538000.000</td>\n",
       "    </tr>\n",
       "    <tr>\n",
       "      <th>2</th>\n",
       "      <td>5631500400</td>\n",
       "      <td>2.000</td>\n",
       "      <td>1.000</td>\n",
       "      <td>770.000</td>\n",
       "      <td>10000.000</td>\n",
       "      <td>1.000</td>\n",
       "      <td>0.000</td>\n",
       "      <td>0.000</td>\n",
       "      <td>3</td>\n",
       "      <td>6</td>\n",
       "      <td>...</td>\n",
       "      <td>0.000</td>\n",
       "      <td>1933</td>\n",
       "      <td>NaN</td>\n",
       "      <td>98028</td>\n",
       "      <td>47.738</td>\n",
       "      <td>-122.233</td>\n",
       "      <td>2720.000</td>\n",
       "      <td>8062.000</td>\n",
       "      <td>2015-02-25</td>\n",
       "      <td>180000.000</td>\n",
       "    </tr>\n",
       "    <tr>\n",
       "      <th>3</th>\n",
       "      <td>2487200875</td>\n",
       "      <td>4.000</td>\n",
       "      <td>3.000</td>\n",
       "      <td>1960.000</td>\n",
       "      <td>5000.000</td>\n",
       "      <td>1.000</td>\n",
       "      <td>0.000</td>\n",
       "      <td>0.000</td>\n",
       "      <td>5</td>\n",
       "      <td>7</td>\n",
       "      <td>...</td>\n",
       "      <td>910.000</td>\n",
       "      <td>1965</td>\n",
       "      <td>0.000</td>\n",
       "      <td>98136</td>\n",
       "      <td>47.521</td>\n",
       "      <td>-122.393</td>\n",
       "      <td>1360.000</td>\n",
       "      <td>5000.000</td>\n",
       "      <td>2014-12-09</td>\n",
       "      <td>604000.000</td>\n",
       "    </tr>\n",
       "    <tr>\n",
       "      <th>4</th>\n",
       "      <td>1954400510</td>\n",
       "      <td>3.000</td>\n",
       "      <td>2.000</td>\n",
       "      <td>1680.000</td>\n",
       "      <td>8080.000</td>\n",
       "      <td>1.000</td>\n",
       "      <td>0.000</td>\n",
       "      <td>0.000</td>\n",
       "      <td>3</td>\n",
       "      <td>8</td>\n",
       "      <td>...</td>\n",
       "      <td>0.000</td>\n",
       "      <td>1987</td>\n",
       "      <td>0.000</td>\n",
       "      <td>98074</td>\n",
       "      <td>47.617</td>\n",
       "      <td>-122.045</td>\n",
       "      <td>1800.000</td>\n",
       "      <td>7503.000</td>\n",
       "      <td>2015-02-18</td>\n",
       "      <td>510000.000</td>\n",
       "    </tr>\n",
       "  </tbody>\n",
       "</table>\n",
       "<p>5 rows × 21 columns</p>\n",
       "</div>"
      ],
      "text/plain": [
       "           id  bedrooms  bathrooms  sqft_living  sqft_lot  floors  waterfront  \\\n",
       "0  7129300520     3.000      1.000     1180.000  5650.000   1.000         NaN   \n",
       "1  6414100192     3.000      2.250     2570.000  7242.000   2.000       0.000   \n",
       "2  5631500400     2.000      1.000      770.000 10000.000   1.000       0.000   \n",
       "3  2487200875     4.000      3.000     1960.000  5000.000   1.000       0.000   \n",
       "4  1954400510     3.000      2.000     1680.000  8080.000   1.000       0.000   \n",
       "\n",
       "   view  condition  grade  ...  sqft_basement  yr_built  yr_renovated  \\\n",
       "0 0.000          3      7  ...          0.000      1955         0.000   \n",
       "1 0.000          3      7  ...        400.000      1951     19910.000   \n",
       "2 0.000          3      6  ...          0.000      1933           NaN   \n",
       "3 0.000          5      7  ...        910.000      1965         0.000   \n",
       "4 0.000          3      8  ...          0.000      1987         0.000   \n",
       "\n",
       "   zipcode    lat     long  sqft_living15  sqft_lot15       date      price  \n",
       "0    98178 47.511 -122.257       1340.000    5650.000 2014-10-13 221900.000  \n",
       "1    98125 47.721 -122.319       1690.000    7639.000 2014-12-09 538000.000  \n",
       "2    98028 47.738 -122.233       2720.000    8062.000 2015-02-25 180000.000  \n",
       "3    98136 47.521 -122.393       1360.000    5000.000 2014-12-09 604000.000  \n",
       "4    98074 47.617 -122.045       1800.000    7503.000 2015-02-18 510000.000  \n",
       "\n",
       "[5 rows x 21 columns]"
      ]
     },
     "execution_count": 16,
     "metadata": {},
     "output_type": "execute_result"
    }
   ],
   "source": [
    "df.head()"
   ]
  },
  {
   "cell_type": "code",
   "execution_count": 13,
   "metadata": {},
   "outputs": [
    {
     "data": {
      "text/plain": [
       "172    2014-05-02\n",
       "312    2014-05-02\n",
       "502    2014-05-02\n",
       "775    2014-05-02\n",
       "1040   2014-05-02\n",
       "Name: date, dtype: datetime64[ns]"
      ]
     },
     "execution_count": 13,
     "metadata": {},
     "output_type": "execute_result"
    }
   ],
   "source": [
    "df['date'].nsmallest()"
   ]
  },
  {
   "cell_type": "code",
   "execution_count": 14,
   "metadata": {},
   "outputs": [
    {
     "data": {
      "text/html": [
       "<div>\n",
       "<style scoped>\n",
       "    .dataframe tbody tr th:only-of-type {\n",
       "        vertical-align: middle;\n",
       "    }\n",
       "\n",
       "    .dataframe tbody tr th {\n",
       "        vertical-align: top;\n",
       "    }\n",
       "\n",
       "    .dataframe thead th {\n",
       "        text-align: right;\n",
       "    }\n",
       "</style>\n",
       "<table border=\"1\" class=\"dataframe\">\n",
       "  <thead>\n",
       "    <tr style=\"text-align: right;\">\n",
       "      <th></th>\n",
       "      <th>id</th>\n",
       "      <th>bedrooms</th>\n",
       "      <th>bathrooms</th>\n",
       "      <th>sqft_living</th>\n",
       "      <th>sqft_lot</th>\n",
       "      <th>floors</th>\n",
       "      <th>waterfront</th>\n",
       "      <th>view</th>\n",
       "      <th>condition</th>\n",
       "      <th>grade</th>\n",
       "      <th>...</th>\n",
       "      <th>sqft_basement</th>\n",
       "      <th>yr_built</th>\n",
       "      <th>yr_renovated</th>\n",
       "      <th>zipcode</th>\n",
       "      <th>lat</th>\n",
       "      <th>long</th>\n",
       "      <th>sqft_living15</th>\n",
       "      <th>sqft_lot15</th>\n",
       "      <th>date</th>\n",
       "      <th>price</th>\n",
       "    </tr>\n",
       "  </thead>\n",
       "  <tbody>\n",
       "    <tr>\n",
       "      <th>count</th>\n",
       "      <td>21597.000</td>\n",
       "      <td>21597.000</td>\n",
       "      <td>21597.000</td>\n",
       "      <td>21597.000</td>\n",
       "      <td>21597.000</td>\n",
       "      <td>21597.000</td>\n",
       "      <td>19206.000</td>\n",
       "      <td>21534.000</td>\n",
       "      <td>21597.000</td>\n",
       "      <td>21597.000</td>\n",
       "      <td>...</td>\n",
       "      <td>21145.000</td>\n",
       "      <td>21597.000</td>\n",
       "      <td>17749.000</td>\n",
       "      <td>21597.000</td>\n",
       "      <td>21597.000</td>\n",
       "      <td>21597.000</td>\n",
       "      <td>21597.000</td>\n",
       "      <td>21597.000</td>\n",
       "      <td>21597</td>\n",
       "      <td>21597.000</td>\n",
       "    </tr>\n",
       "    <tr>\n",
       "      <th>mean</th>\n",
       "      <td>4580474287.771</td>\n",
       "      <td>3.373</td>\n",
       "      <td>2.116</td>\n",
       "      <td>2080.322</td>\n",
       "      <td>15099.409</td>\n",
       "      <td>1.494</td>\n",
       "      <td>0.008</td>\n",
       "      <td>0.234</td>\n",
       "      <td>3.410</td>\n",
       "      <td>7.658</td>\n",
       "      <td>...</td>\n",
       "      <td>291.857</td>\n",
       "      <td>1971.000</td>\n",
       "      <td>836.651</td>\n",
       "      <td>98077.952</td>\n",
       "      <td>47.560</td>\n",
       "      <td>-122.214</td>\n",
       "      <td>1986.620</td>\n",
       "      <td>12758.284</td>\n",
       "      <td>2014-10-29 04:20:38.171968512</td>\n",
       "      <td>540296.574</td>\n",
       "    </tr>\n",
       "    <tr>\n",
       "      <th>min</th>\n",
       "      <td>1000102.000</td>\n",
       "      <td>1.000</td>\n",
       "      <td>0.500</td>\n",
       "      <td>370.000</td>\n",
       "      <td>520.000</td>\n",
       "      <td>1.000</td>\n",
       "      <td>0.000</td>\n",
       "      <td>0.000</td>\n",
       "      <td>1.000</td>\n",
       "      <td>3.000</td>\n",
       "      <td>...</td>\n",
       "      <td>0.000</td>\n",
       "      <td>1900.000</td>\n",
       "      <td>0.000</td>\n",
       "      <td>98001.000</td>\n",
       "      <td>47.156</td>\n",
       "      <td>-122.519</td>\n",
       "      <td>399.000</td>\n",
       "      <td>651.000</td>\n",
       "      <td>2014-05-02 00:00:00</td>\n",
       "      <td>78000.000</td>\n",
       "    </tr>\n",
       "    <tr>\n",
       "      <th>25%</th>\n",
       "      <td>2123049175.000</td>\n",
       "      <td>3.000</td>\n",
       "      <td>1.750</td>\n",
       "      <td>1430.000</td>\n",
       "      <td>5040.000</td>\n",
       "      <td>1.000</td>\n",
       "      <td>0.000</td>\n",
       "      <td>0.000</td>\n",
       "      <td>3.000</td>\n",
       "      <td>7.000</td>\n",
       "      <td>...</td>\n",
       "      <td>0.000</td>\n",
       "      <td>1951.000</td>\n",
       "      <td>0.000</td>\n",
       "      <td>98033.000</td>\n",
       "      <td>47.471</td>\n",
       "      <td>-122.328</td>\n",
       "      <td>1490.000</td>\n",
       "      <td>5100.000</td>\n",
       "      <td>2014-07-22 00:00:00</td>\n",
       "      <td>322000.000</td>\n",
       "    </tr>\n",
       "    <tr>\n",
       "      <th>50%</th>\n",
       "      <td>3904930410.000</td>\n",
       "      <td>3.000</td>\n",
       "      <td>2.250</td>\n",
       "      <td>1910.000</td>\n",
       "      <td>7618.000</td>\n",
       "      <td>1.500</td>\n",
       "      <td>0.000</td>\n",
       "      <td>0.000</td>\n",
       "      <td>3.000</td>\n",
       "      <td>7.000</td>\n",
       "      <td>...</td>\n",
       "      <td>0.000</td>\n",
       "      <td>1975.000</td>\n",
       "      <td>0.000</td>\n",
       "      <td>98065.000</td>\n",
       "      <td>47.572</td>\n",
       "      <td>-122.231</td>\n",
       "      <td>1840.000</td>\n",
       "      <td>7620.000</td>\n",
       "      <td>2014-10-16 00:00:00</td>\n",
       "      <td>450000.000</td>\n",
       "    </tr>\n",
       "    <tr>\n",
       "      <th>75%</th>\n",
       "      <td>7308900490.000</td>\n",
       "      <td>4.000</td>\n",
       "      <td>2.500</td>\n",
       "      <td>2550.000</td>\n",
       "      <td>10685.000</td>\n",
       "      <td>2.000</td>\n",
       "      <td>0.000</td>\n",
       "      <td>0.000</td>\n",
       "      <td>4.000</td>\n",
       "      <td>8.000</td>\n",
       "      <td>...</td>\n",
       "      <td>560.000</td>\n",
       "      <td>1997.000</td>\n",
       "      <td>0.000</td>\n",
       "      <td>98118.000</td>\n",
       "      <td>47.678</td>\n",
       "      <td>-122.125</td>\n",
       "      <td>2360.000</td>\n",
       "      <td>10083.000</td>\n",
       "      <td>2015-02-17 00:00:00</td>\n",
       "      <td>645000.000</td>\n",
       "    </tr>\n",
       "    <tr>\n",
       "      <th>max</th>\n",
       "      <td>9900000190.000</td>\n",
       "      <td>33.000</td>\n",
       "      <td>8.000</td>\n",
       "      <td>13540.000</td>\n",
       "      <td>1651359.000</td>\n",
       "      <td>3.500</td>\n",
       "      <td>1.000</td>\n",
       "      <td>4.000</td>\n",
       "      <td>5.000</td>\n",
       "      <td>13.000</td>\n",
       "      <td>...</td>\n",
       "      <td>4820.000</td>\n",
       "      <td>2015.000</td>\n",
       "      <td>20150.000</td>\n",
       "      <td>98199.000</td>\n",
       "      <td>47.778</td>\n",
       "      <td>-121.315</td>\n",
       "      <td>6210.000</td>\n",
       "      <td>871200.000</td>\n",
       "      <td>2015-05-27 00:00:00</td>\n",
       "      <td>7700000.000</td>\n",
       "    </tr>\n",
       "    <tr>\n",
       "      <th>std</th>\n",
       "      <td>2876735715.748</td>\n",
       "      <td>0.926</td>\n",
       "      <td>0.769</td>\n",
       "      <td>918.106</td>\n",
       "      <td>41412.637</td>\n",
       "      <td>0.540</td>\n",
       "      <td>0.087</td>\n",
       "      <td>0.766</td>\n",
       "      <td>0.651</td>\n",
       "      <td>1.173</td>\n",
       "      <td>...</td>\n",
       "      <td>442.491</td>\n",
       "      <td>29.375</td>\n",
       "      <td>4000.111</td>\n",
       "      <td>53.513</td>\n",
       "      <td>0.139</td>\n",
       "      <td>0.141</td>\n",
       "      <td>685.230</td>\n",
       "      <td>27274.442</td>\n",
       "      <td>NaN</td>\n",
       "      <td>367368.140</td>\n",
       "    </tr>\n",
       "  </tbody>\n",
       "</table>\n",
       "<p>8 rows × 21 columns</p>\n",
       "</div>"
      ],
      "text/plain": [
       "                  id  bedrooms  bathrooms  sqft_living    sqft_lot    floors  \\\n",
       "count      21597.000 21597.000  21597.000    21597.000   21597.000 21597.000   \n",
       "mean  4580474287.771     3.373      2.116     2080.322   15099.409     1.494   \n",
       "min      1000102.000     1.000      0.500      370.000     520.000     1.000   \n",
       "25%   2123049175.000     3.000      1.750     1430.000    5040.000     1.000   \n",
       "50%   3904930410.000     3.000      2.250     1910.000    7618.000     1.500   \n",
       "75%   7308900490.000     4.000      2.500     2550.000   10685.000     2.000   \n",
       "max   9900000190.000    33.000      8.000    13540.000 1651359.000     3.500   \n",
       "std   2876735715.748     0.926      0.769      918.106   41412.637     0.540   \n",
       "\n",
       "       waterfront      view  condition     grade  ...  sqft_basement  \\\n",
       "count   19206.000 21534.000  21597.000 21597.000  ...      21145.000   \n",
       "mean        0.008     0.234      3.410     7.658  ...        291.857   \n",
       "min         0.000     0.000      1.000     3.000  ...          0.000   \n",
       "25%         0.000     0.000      3.000     7.000  ...          0.000   \n",
       "50%         0.000     0.000      3.000     7.000  ...          0.000   \n",
       "75%         0.000     0.000      4.000     8.000  ...        560.000   \n",
       "max         1.000     4.000      5.000    13.000  ...       4820.000   \n",
       "std         0.087     0.766      0.651     1.173  ...        442.491   \n",
       "\n",
       "       yr_built  yr_renovated   zipcode       lat      long  sqft_living15  \\\n",
       "count 21597.000     17749.000 21597.000 21597.000 21597.000      21597.000   \n",
       "mean   1971.000       836.651 98077.952    47.560  -122.214       1986.620   \n",
       "min    1900.000         0.000 98001.000    47.156  -122.519        399.000   \n",
       "25%    1951.000         0.000 98033.000    47.471  -122.328       1490.000   \n",
       "50%    1975.000         0.000 98065.000    47.572  -122.231       1840.000   \n",
       "75%    1997.000         0.000 98118.000    47.678  -122.125       2360.000   \n",
       "max    2015.000     20150.000 98199.000    47.778  -121.315       6210.000   \n",
       "std      29.375      4000.111    53.513     0.139     0.141        685.230   \n",
       "\n",
       "       sqft_lot15                           date       price  \n",
       "count   21597.000                          21597   21597.000  \n",
       "mean    12758.284  2014-10-29 04:20:38.171968512  540296.574  \n",
       "min       651.000            2014-05-02 00:00:00   78000.000  \n",
       "25%      5100.000            2014-07-22 00:00:00  322000.000  \n",
       "50%      7620.000            2014-10-16 00:00:00  450000.000  \n",
       "75%     10083.000            2015-02-17 00:00:00  645000.000  \n",
       "max    871200.000            2015-05-27 00:00:00 7700000.000  \n",
       "std     27274.442                            NaN  367368.140  \n",
       "\n",
       "[8 rows x 21 columns]"
      ]
     },
     "execution_count": 14,
     "metadata": {},
     "output_type": "execute_result"
    }
   ],
   "source": [
    "df.describe()"
   ]
  },
  {
   "cell_type": "code",
   "execution_count": 21,
   "metadata": {},
   "outputs": [
    {
     "data": {
      "text/plain": [
       "array([1. , 2. , 1.5, 3. , 2.5, 3.5])"
      ]
     },
     "execution_count": 21,
     "metadata": {},
     "output_type": "execute_result"
    }
   ],
   "source": [
    "df['floors'].unique()"
   ]
  },
  {
   "cell_type": "code",
   "execution_count": 15,
   "metadata": {},
   "outputs": [
    {
     "data": {
      "text/plain": [
       "False    21597\n",
       "Name: count, dtype: int64"
      ]
     },
     "execution_count": 15,
     "metadata": {},
     "output_type": "execute_result"
    }
   ],
   "source": [
    "df.duplicated().value_counts()"
   ]
  },
  {
   "cell_type": "code",
   "execution_count": 19,
   "metadata": {},
   "outputs": [
    {
     "data": {
      "text/plain": [
       "id                  0\n",
       "bedrooms            0\n",
       "bathrooms           0\n",
       "sqft_living         0\n",
       "sqft_lot            0\n",
       "floors              0\n",
       "waterfront       2391\n",
       "view               63\n",
       "condition           0\n",
       "grade               0\n",
       "sqft_above          0\n",
       "sqft_basement     452\n",
       "yr_built            0\n",
       "yr_renovated     3848\n",
       "zipcode             0\n",
       "lat                 0\n",
       "long                0\n",
       "sqft_living15       0\n",
       "sqft_lot15          0\n",
       "date                0\n",
       "price               0\n",
       "dtype: int64"
      ]
     },
     "execution_count": 19,
     "metadata": {},
     "output_type": "execute_result"
    }
   ],
   "source": [
    "import missingno as msno\n",
    "df.isna().sum()"
   ]
  },
  {
   "cell_type": "markdown",
   "metadata": {},
   "source": [
    "Finding the ZIP codes for city center and countryside. First figure out how many and what kinds of different ZIP codes there are. (Answer: 70 zip codes + see below.) Google for the zip codes that are concidered Seattle center or the country side. Country zips correspond to nicer rural areas suitable for a vacation home."
   ]
  },
  {
   "cell_type": "code",
   "execution_count": 25,
   "metadata": {},
   "outputs": [
    {
     "data": {
      "text/plain": [
       "70"
      ]
     },
     "execution_count": 25,
     "metadata": {},
     "output_type": "execute_result"
    }
   ],
   "source": [
    "df['zipcode'].nunique()\n",
    "#df['zipcode'].value_counts()"
   ]
  },
  {
   "cell_type": "code",
   "execution_count": 31,
   "metadata": {},
   "outputs": [],
   "source": [
    "central_zips = [98101, 98102, 98104, 98109, 98119, 98122, 98144, 98105]\n",
    "#urban_zips_extended = central_zips + [\n",
    "#    98103, 98107, 98115, 98116, 98117, 98118, 98125, 98126, 98133, 98136, 98146,\n",
    "#    98004, 98005, 98006, 98007, 98008, 98033, 98034, 98039, 98040, 98052\n",
    "#]\n",
    "country_zips = [98010, 98014, 98024, 98045, 98051, 98065, 98068, 98072, 98077]\n",
    "\n",
    "#df['area_type'] = df['zipcode'].apply(lambda x: 'country' if x in country_zips else 'city')\n"
   ]
  },
  {
   "cell_type": "markdown",
   "metadata": {},
   "source": [
    "Central houses.\n",
    "Since the client wants a house for two people, we only need houses with two bedrooms. This reduces the number of options to 274."
   ]
  },
  {
   "cell_type": "code",
   "execution_count": 32,
   "metadata": {},
   "outputs": [
    {
     "data": {
      "text/plain": [
       "(274, 21)"
      ]
     },
     "execution_count": 32,
     "metadata": {},
     "output_type": "execute_result"
    }
   ],
   "source": [
    "df_2bed_central = df[(df['bedrooms'] == 2) & (df['zipcode']).isin(central_zips)]\n",
    "df_2bed_central.shape"
   ]
  },
  {
   "cell_type": "code",
   "execution_count": 69,
   "metadata": {},
   "outputs": [
    {
     "data": {
      "application/vnd.plotly.v1+json": {
       "config": {
        "plotlyServerURL": "https://plot.ly"
       },
       "data": [
        {
         "customdata": {
          "bdata": "AAAAAKDwGUEAAAAAYPP3QAAAAADAzRdBAAAAAGDz90AAAAAAcAonQQAAAABg8/dAAAAAAIBPIkEAAAAAYPP3QAAAAABAax1BAAAAAGDz90AAAAAAQHcrQQAAAABg8/dAAAAAAMBcFUEAAAAAYPP3QAAAAAAA2xpBAAAAAGDz90AAAAAA8O8gQQAAAABg8/dAAAAAAPBgI0EAAAAAYPP3QAAAAABAiRhBAAAAAGDz90AAAAAAoCwgQQAAAABg8/dAAAAAAODIIEEAAAAAYPP3QAAAAAC4pxhBAAAAAGDz90AAAAAAMN8YQQAAAABg8/dAAAAAADhpGEEAAAAAYPP3QAAAAABwHCRBAAAAAGDz90AAAAAA7EokQQAAAABg8/dAAAAAAKDSHkEAAAAAYPP3QAAAAAB48SNBAAAAAGDz90AAAAAAuIMeQQAAAABg8/dAAAAAAKAOJUEAAAAAYPP3QAAAAAA4aRhBAAAAAGDz90A=",
          "dtype": "f8",
          "shape": "23, 2"
         },
         "hovertemplate": "zip_str=98102<br>lat=%{lat}<br>long=%{lon}<br>price=%{customdata[0]}<br>zipcode=%{customdata[1]}<extra></extra>",
         "lat": {
          "bdata": "ZMxdS8jPR0CaCBueXtFHQEMc6+I20kdA7Q2+MJnSR0DuWkI+6NFHQAn5oGez0kdARwN4CyTQR0BEi2zn+9FHQO5aQj7o0UdAcvkP6bfPR0D8GHPXEtJHQHPXEvJBz0dAZMxdS8jPR0DD0ytlGdJHQP5l9+Rh0UdAYHZPHhbSR0DEQq1p3tFHQGDl0CLb0UdARGlv8IXRR0BvgQTFj9FHQAskKH6M0UdAcRsN4C3QR0Bgdk8eFtJHQA==",
          "dtype": "f8"
         },
         "legendgroup": "98102",
         "lon": {
          "bdata": "I9v5fmqUXsD4U+Olm5RewJMYBFYOlV7AsHJoke2UXsAUrkfhepRewD81XrpJlF7A2/l+aryUXsDb+X5qvJRewBSuR+F6lF7AI9v5fmqUXsCTGARWDpVewE5iEFg5lF7AI9v5fmqUXsCTGARWDpVewPhT46WblF7AkxgEVg6VXsCTGARWDpVewJMYBFYOlV7AsHJoke2UXsDb+X5qvJRewLByaJHtlF7A6SYxCKyUXsCTGARWDpVewA==",
          "dtype": "f8"
         },
         "marker": {
          "color": "rgb(102,194,165)"
         },
         "mode": "markers",
         "name": "98102",
         "showlegend": true,
         "subplot": "map",
         "type": "scattermap"
        },
        {
         "customdata": {
          "bdata": "AAAAAFjOIEEAAAAAkPP3QAAAAADQjyNBAAAAAJDz90AAAAAAYIogQQAAAACQ8/dAAAAAADjkIEEAAAAAkPP3QAAAAAAAQB9BAAAAAJDz90AAAAAAQOgdQQAAAACQ8/dAAAAAADAVIEEAAAAAkPP3QAAAAACIhCRBAAAAAJDz90AAAAAAoHMZQQAAAACQ8/dAAAAAAOAbGEEAAAAAkPP3QAAAAAAgoBxBAAAAAJDz90AAAAAA4G4fQQAAAACQ8/dAAAAAAHDyGkEAAAAAkPP3QAAAAAAgXyJBAAAAAJDz90AAAAAACBUfQQAAAACQ8/dAAAAAAMAgH0EAAAAAkPP3QAAAAABAdxtBAAAAAJDz90AAAAAAQF8fQQAAAACQ8/dAAAAAAOB6HUEAAAAAkPP3QAAAAABgsx5BAAAAAJDz90AAAAAAINAkQQAAAACQ8/dAAAAAAADbGkEAAAAAkPP3QAAAAABgSBtBAAAAAJDz90AAAAAAoGEcQQAAAACQ8/dAAAAAANCbIUEAAAAAkPP3QAAAAABI8yRBAAAAAJDz90AAAAAAgBMcQQAAAACQ8/dAAAAAAOCMGkEAAAAAkPP3QAAAAABIZCdBAAAAAJDz90AAAAAAgDEXQQAAAACQ8/dAAAAAAFjOIEEAAAAAkPP3QAAAAABg4yZBAAAAAJDz90AAAAAAIEcmQQAAAACQ8/dAAAAAAICKHUEAAAAAkPP3QAAAAAAwjCFBAAAAAJDz90AAAAAA4KolQQAAAACQ8/dAAAAAACDWI0EAAAAAkPP3QAAAAADAeiBBAAAAAJDz90AAAAAAGMggQQAAAACQ8/dAAAAAAPDvIEEAAAAAkPP3QAAAAABgASJBAAAAAJDz90A=",
          "dtype": "f8",
          "shape": "41, 2"
         },
         "hovertemplate": "zip_str=98105<br>lat=%{lat}<br>long=%{lon}<br>price=%{customdata[0]}<br>zipcode=%{customdata[1]}<extra></extra>",
         "lat": {
          "bdata": "2T15WKjVR0Ch+DHmrtVHQJOpglFJ1UdArrZif9nVR0Ch+DHmrtVHQC9uowG81UdAkxgEVg7VR0B2cRsN4NVHQAXFjzF31UdAWYY41sXVR0BLyAc9m9VHQIV80LNZ1UdAWmQ730/VR0Au/yH99tVHQL1SliGO1UdAaLPqc7XVR0DZPXlYqNVHQD0s1Jrm1UdAryXkg57VR0DLEMe6uNVHQL7BFyZT1UdA6Gor9pfVR0C9UpYhjtVHQECk374O1EdA24r9ZffUR0BZhjjWxdVHQJM6AU2E1UdAh6dXyjLUR0Dn+6nx0tVHQEvIBz2b1UdAvsEXJlPVR0BLyAc9m9VHQGdEaW/w1UdAaW/whcnUR0CTGARWDtVHQGlv8IXJ1EdAzhlR2hvUR0CvJeSDntVHQFvTvOMU1UdAW9O84xTVR0CF61G4HtVHQA==",
          "dtype": "f8"
         },
         "legendgroup": "98105",
         "lon": {
          "bdata": "XrpJDAKTXsCamZmZmZFewL6fGi/dlF7AokW28/2UXsBQjZduEpNewOkmMQislF7Avp8aL92UXsCLbOf7qZFewNv5fmq8lF7A/Knx0k2SXsDb+X5qvJRewArXo3A9kl7A7nw/NV6SXsBg5dAi25FewOkmMQislF7ADAIrhxaRXsBg5dAi25FewKJFtvP9lF7Avp8aL92UXsDD9Shcj5JewGDl0CLbkV7A30+Nl26SXsBOYhBYOZRewLByaJHtlF7AppvEILCSXsDfT42XbpJewNv5fmq8lF7A2/l+aryUXsB9PzVeupFewOkmMQislF7ACtejcD2SXsCkcD0K15NewJMYBFYOlV7AtMh2vp+SXsDfT42XbpJewM3MzMzMlF7Avp8aL92UXsBqvHSTGJRewBkEVg4tkl7AGQRWDi2SXsAK16NwPZJewA==",
          "dtype": "f8"
         },
         "marker": {
          "color": "rgb(252,141,98)"
         },
         "mode": "markers",
         "name": "98105",
         "showlegend": true,
         "subplot": "map",
         "type": "scattermap"
        },
        {
         "customdata": {
          "bdata": "AAAAAPCtG0EAAAAA0PP3QAAAAAAALR5BAAAAANDz90AAAAAAgMAkQQAAAADQ8/dAAAAAAKCpIEEAAAAA0PP3QAAAAABwKCJBAAAAANDz90AAAAAA0BIjQQAAAADQ8/dAAAAAACBlIUEAAAAA0PP3QAAAAABQLSlBAAAAANDz90AAAAAAEA4ZQQAAAADQ8/dAAAAAAID7H0EAAAAA0PP3QAAAAACgYSxBAAAAANDz90AAAAAAsBcaQQAAAADQ8/dAAAAAAKDwOUEAAAAA0PP3QAAAAABA7hxBAAAAANDz90AAAAAAyBkpQQAAAADQ8/dAAAAAAJhFI0EAAAAA0PP3QAAAAAAAdiZBAAAAANDz90AAAAAAwCwdQQAAAADQ8/dAAAAAAKDwKUEAAAAA0PP3QAAAAADAXCVBAAAAANDz90A=",
          "dtype": "f8",
          "shape": "20, 2"
         },
         "hovertemplate": "zip_str=98109<br>lat=%{lat}<br>long=%{lon}<br>price=%{customdata[0]}<br>zipcode=%{customdata[1]}<extra></extra>",
         "lat": {
          "bdata": "RwN4CyTQR0C3Yn/ZPdFHQG/whclU0UdAbcX+snvSR0C0yHa+n9JHQKg1zTtO0UdAqFfKMsTRR0Bhw9MrZdFHQFHaG3xh0kdAUWuad5zSR0BiEFg5tNBHQGEyVTAq0UdA8fRKWYbQR0B9PzVeutFHQHE9Ctej0EdAGJXUCWjSR0DSAN4CCdJHQMdLN4lB0EdA8fRKWYbQR0A2qz5XW9FHQA==",
          "dtype": "f8"
         },
         "legendgroup": "98109",
         "lon": {
          "bdata": "H4XrUbiWXsAfhetRuJZewKAaL90kll7AAiuHFtmWXsBKDAIrh5ZewEoMAiuHll7AZmZmZmaWXsBYObTIdpZewEoMAiuHll7ALbKd76eWXsCR7Xw/NZZewNnO91PjlV7AWDm0yHaWXsC8dJMYBJZewHWTGARWll7AAiuHFtmWXsA730+Nl5ZewK5H4XoUll7Ake18PzWWXsCgGi/dJJZewA==",
          "dtype": "f8"
         },
         "marker": {
          "color": "rgb(141,160,203)"
         },
         "mode": "markers",
         "name": "98109",
         "showlegend": true,
         "subplot": "map",
         "type": "scattermap"
        },
        {
         "customdata": {
          "bdata": "AAAAAFBLJEEAAAAAcPT3QAAAAACwxCJBAAAAAHD090AAAAAAdJwiQQAAAABw9PdAAAAAAHAWJUEAAAAAcPT3QAAAAABAdxtBAAAAAHD090AAAAAAoCwgQQAAAABw9PdAAAAAANASI0EAAAAAcPT3QAAAAADgqiVBAAAAAHD090AAAAAAcCgiQQAAAABw9PdAAAAAAJB2IkEAAAAAcPT3QAAAAADQEjNBAAAAAHD090AAAAAA0GUqQQAAAABw9PdAAAAAAFAtKUEAAAAAcPT3QAAAAABAlRZBAAAAAHD090AAAAAAgE8iQQAAAABw9PdAAAAAACBHFkEAAAAAcPT3QAAAAABg4yZBAAAAAHD090AAAAAAcCgiQQAAAABw9PdAAAAAABC1IkEAAAAAcPT3QAAAAADAaCNBAAAAAHD090AAAAAACGkhQQAAAABw9PdAAAAAAACOIkEAAAAAcPT3QAAAAACQBSBBAAAAAHD090AAAAAAYN0nQQAAAABw9PdAAAAAAGBIG0EAAAAAcPT3QAAAAAA6riJBAAAAAHD090AAAAAAkAUgQQAAAABw9PdAAAAAAKDwGUEAAAAAcPT3QAAAAAD43SBBAAAAAHD090AAAAAAwM0XQQAAAABw9PdAAAAAAODIIEEAAAAAcPT3QAAAAAAQAitBAAAAAHD090AAAAAAMP0jQQAAAABw9PdAAAAAAICiKUEAAAAAcPT3QAAAAABgxRtBAAAAAHD090AAAAAA4AMcQQAAAABw9PdAAAAAAHCrIUEAAAAAcPT3QAAAAADgdB5BAAAAAHD090AAAAAAkAUgQQAAAABw9PdAAAAAALCILEEAAAAAcPT3QAAAAADAuxpBAAAAAHD090A=",
          "dtype": "f8",
          "shape": "41, 2"
         },
         "hovertemplate": "zip_str=98119<br>lat=%{lat}<br>long=%{lon}<br>price=%{customdata[0]}<br>zipcode=%{customdata[1]}<extra></extra>",
         "lat": {
          "bdata": "NxrAWyDRR0BRa5p3nNJHQE9AE2HD00dAF7fRAN7SR0BBguLHmNNHQH3Qs1n10UdAU5YhjnXRR0CmCkYlddJHQLN78rBQ00dAYTJVMCrRR0BwzojS3tBHQNJvXwfO0UdAJzEIrBzSR0A2PL1SltFHQH/7OnDO0EdAF9nO91PTR0BSJ6CJsNFHQBpR2ht80UdAGXPXEvLRR0BDHOviNtJHQIqO5PIf0kdA4L4OnDPSR0DhC5OpgtFHQBpR2ht80UdAi2zn+6nRR0DPZtXnatNHQP5l9+Rh0UdA7zhFR3LRR0Aofoy5a9FHQKmkTkAT0UdA7C+7Jw/TR0BEaW/whdFHQAn5oGez0kdAm+Ydp+jQR0DHSzeJQdBHQO84RUdy0UdA8WPMXUvQR0DUK2UZ4tBHQBniWBe30UdAN4lBYOXQR0DvycNCrdFHQA==",
          "dtype": "f8"
         },
         "legendgroup": "98119",
         "lon": {
          "bdata": "9P3UeOmWXsAdWmQ735dewB1aZDvfl17AukkMAiuXXsAdWmQ735dewCuHFtnOl17AObTIdr6XXsBWDi2ynZdewEjhehSul17AyXa+nxqXXsCPwvUoXJdewNejcD0Kl17AHVpkO9+XXsAAAAAAAJhewGQ730+Nl17AZDvfT42XXsDl0CLb+ZZewI/C9Shcl17AObTIdr6XXsDJdr6fGpdewMl2vp8al17A16NwPQqXXsA5tMh2vpdewKwcWmQ7l17AAAAAAACYXsAOLbKd75dewJ7vp8ZLl17AZDvfT42XXsA5tMh2vpdewDm0yHa+l17AK4cW2c6XXsCPwvUoXJdewLpJDAIrl17AyXa+nxqXXsDJdr6fGpdewDm0yHa+l17A5dAi2/mWXsC6SQwCK5dewB1aZDvfl17AyXa+nxqXXsAAAAAAAJhewA==",
          "dtype": "f8"
         },
         "marker": {
          "color": "rgb(231,138,195)"
         },
         "mode": "markers",
         "name": "98119",
         "showlegend": true,
         "subplot": "map",
         "type": "scattermap"
        },
        {
         "customdata": {
          "bdata": "AAAAAGDjFkEAAAAAoPT3QAAAAADgkhlBAAAAAKD090AAAAAAIC8aQQAAAACg9PdAAAAAAGA2HkEAAAAAoPT3QAAAAACAJRlBAAAAAKD090AAAAAAwD4aQQAAAACg9PdAAAAAAICiGUEAAAAAoPT3QAAAAAAocxJBAAAAAKD090AAAAAA4IwaQQAAAACg9PdAAAAAAGABEkEAAAAAoPT3QAAAAAAAvQ9BAAAAAKD090AAAAAAwD4aQQAAAACg9PdAAAAAADBQG0EAAAAAoPT3QAAAAABg4yZBAAAAAKD090AAAAAAkHYiQQAAAACg9PdAAAAAAOCeF0EAAAAAoPT3QAAAAADwoR1BAAAAAKD090AAAAAAINYjQQAAAACg9PdAAAAAAMA4G0EAAAAAoPT3QAAAAACAExxBAAAAAKD090AAAAAAsMQiQQAAAACg9PdAAAAAAMDZFUEAAAAAoPT3QAAAAADAzRdBAAAAAKD090AAAAAAvFobQQAAAACg9PdAAAAAAPBgE0EAAAAAoPT3QAAAAACgVR5BAAAAAKD090AAAAAAwCAfQQAAAACg9PdAAAAAAIBPIkEAAAAAoPT3QAAAAAAA2xpBAAAAAKD090AAAAAAgIQeQQAAAACg9PdAAAAAAICcGkEAAAAAoPT3QAAAAABgURRBAAAAAKD090AAAAAAAGoYQQAAAACg9PdAAAAAAECVFkEAAAAAoPT3QAAAAADAnR9BAAAAAKD090AAAAAAwCAfQQAAAACg9PdAAAAAAMh4LkEAAAAAoPT3QAAAAABg4xZBAAAAAKD090AAAAAAAGoYQQAAAACg9PdAAAAAAKCpIEEAAAAAoPT3QAAAAAAgRxZBAAAAAKD090AAAAAAoPApQQAAAACg9PdAAAAAAJDnJEEAAAAAoPT3QAAAAABghCFBAAAAAKD090AAAAAAII4fQQAAAACg9PdAAAAAAMBcFUEAAAAAoPT3QAAAAABgARJBAAAAAKD090AAAAAAkAUgQQAAAACg9PdAAAAAABCSF0EAAAAAoPT3QAAAAADgPxJBAAAAAKD090AAAAAA4DkzQQAAAACg9PdAAAAAAAD5FUEAAAAAoPT3QAAAAADw7yBBAAAAAKD090AAAAAAAIgjQQAAAACg9PdAAAAAANASI0EAAAAAoPT3QAAAAAAAvR9BAAAAAKD090AAAAAAOPgVQQAAAACg9PdAAAAAACC4GEEAAAAAoPT3QAAAAADgAxxBAAAAAKD090AAAAAA4BUZQQAAAACg9PdAAAAAAACII0EAAAAAoPT3QAAAAABAdxtBAAAAAKD090AAAAAAgIQeQQAAAACg9PdAAAAAAB5HJkEAAAAAoPT3QAAAAABg4xZBAAAAAKD090A=",
          "dtype": "f8",
          "shape": "65, 2"
         },
         "hovertemplate": "zip_str=98122<br>lat=%{lat}<br>long=%{lon}<br>price=%{customdata[0]}<br>zipcode=%{customdata[1]}<extra></extra>",
         "lat": {
          "bdata": "L26jAbzNR0ADCYofY85HQCBB8WPMzUdAA3gLJCjOR0B2Tx4Was1HQDBMpgpGzUdAH/RsVn3OR0Ba9bnais1HQFpkO99PzUdABFYOLbLNR0D0bFZ9rs5HQPRsVn2uzkdAPnlYqDXNR0DmriXkg85HQNjw9EpZzkdAvJaQD3rOR0Dl0CLb+c5HQKyL22gAz0dA9wZfmEzNR0AQejarPs9HQMpUwaikzkdA845TdCTPR0ATYcPTK81HQPd14JwRzUdABOeMKO3NR0B1ApoIG85HQL1SliGOzUdAWmQ730/NR0DXo3A9Cs9HQMuhRbbzzUdAuycPC7XOR0DMXUvIB81HQCzUmuYdz0dA16NwPQrPR0ADCYofY85HQB4Wak3zzkdAWKg1zTvOR0CwA+eMKM1HQB/0bFZ9zkdAPnlYqDXNR0B2cRsN4M1HQDxO0ZFczkdAg1FJnYDOR0AsZRniWM9HQK7YX3ZPzkdAWvW52orNR0C6SQwCK89HQEoMAiuHzkdAPnlYqDXNR0DXo3A9Cs9HQFdbsb/szkdAc9cS8kHPR0BmiGNd3M5HQGUZ4lgXz0dAHhZqTfPOR0DJdr6fGs9HQIEExY8xz0dAdZMYBFbOR0CTGARWDs1HQL4wmSoYzUdALNSa5h3PR0CTGARWDs1HQFioNc07zkdAvAUSFD/OR0D1udqK/c1HQA==",
          "dtype": "f8"
         },
         "legendgroup": "98122",
         "lon": {
          "bdata": "wcqhRbaTXsCyne+nxpNewLTIdr6fkl7ApHA9CteTXsCHFtnO95NewM/3U+Olk17AXrpJDAKTXsB56SYxCJRewM/3U+Olk17AXrpJDAKTXsAzMzMzM5NewDMzMzMzk17ApHA9CteTXsDByqFFtpNewIlBYOXQkl7AXrpJDAKTXsCyne+nxpNewFCNl24Sk17Az/dT46WTXsAlBoGVQ5NewHsUrkfhkl7AUI2XbhKTXsCyne+nxpNewHsUrkfhkl7Az/dT46WTXsBCYOXQIpNewHsUrkfhkl7AlkOLbOeTXsBQjZduEpNewGq8dJMYlF7AmG4Sg8CSXsBCYOXQIpNewBfZzvdTk17AJQaBlUOTXsBqvHSTGJRewAisHFpkk17AmG4Sg8CSXsCyne+nxpNewF66SQwCk17AlkOLbOeTXsD6fmq8dJNewN9PjZdukl7AwcqhRbaTXsD6fmq8dJNewEJg5dAik17AI9v5fmqUXsB7FK5H4ZJewF66SQwCk17AwcqhRbaTXsBeukkMApNewLTIdr6fkl7AXrpJDAKTXsAX2c73U5NewDEIrBxalF7Aarx0kxiUXsCWQ4ts55NewCUGgZVDk17AexSuR+GSXsDByqFFtpNewGq8dJMYlF7AMQisHFqUXsDdJAaBlZNewLKd76fGk17Aarx0kxiUXsCkcD0K15NewA==",
          "dtype": "f8"
         },
         "marker": {
          "color": "rgb(166,216,84)"
         },
         "mode": "markers",
         "name": "98122",
         "showlegend": true,
         "subplot": "map",
         "type": "scattermap"
        },
        {
         "customdata": {
          "bdata": "AAAAALBTMEEAAAAAAPb3QAAAAACg8BlBAAAAAAD290AAAAAAOI8QQQAAAAAA9vdAAAAAAOAnFkEAAAAAAPb3QAAAAACgDhVBAAAAAAD290AAAAAA0KEgQQAAAAAA9vdAAAAAAEB3G0EAAAAAAPb3QAAAAABg4xZBAAAAAAD290AAAAAAmOIWQQAAAAAA9vdAAAAAACAwDkEAAAAAAPb3QAAAAADAUR5BAAAAAAD290AAAAAAQBgGQQAAAAAA9vdAAAAAAACIE0EAAAAAAPb3QAAAAABQsBhBAAAAAAD290AAAAAA4J4XQQAAAAAA9vdAAAAAAEAeFUEAAAAAAPb3QAAAAACQBSBBAAAAAAD290AAAAAAYH4SQQAAAAAA9vdAAAAAAACOEkEAAAAAAPb3QAAAAABAXw9BAAAAAAD290AAAAAAoA4VQQAAAAAA9vdAAAAAAICiGUEAAAAAAPb3QAAAAABgxRtBAAAAAAD290AAAAAAINYjQQAAAAAA9vdAAAAAACBlEUEAAAAAAPb3QAAAAABA6A1BAAAAAAD290AAAAAAuJ8hQQAAAAAA9vdAAAAAAGBOGkEAAAAAAPb3QAAAAADgmBhBAAAAAAD290AAAAAAAGoYQQAAAAAA9vdAAAAAACBlIUEAAAAAAPb3QAAAAACgnRJBAAAAAAD290AAAAAA0PQXQQAAAAAA9vdAAAAAAECVFkEAAAAAAPb3QAAAAACATxJBAAAAAAD290AAAAAAED4hQQAAAAAA9vdAAAAAAKAOFUEAAAAAAPb3QAAAAADgqhVBAAAAAAD290AAAAAAQLMRQQAAAAAA9vdAAAAAAEB3G0EAAAAAAPb3QAAAAACg8BlBAAAAAAD290AAAAAAwFwlQQAAAAAA9vdAAAAAAOAbGEEAAAAAAPb3QAAAAAAgRxZBAAAAAAD290AAAAAAEIoVQQAAAAAA9vdAAAAAALiHFUEAAAAAAPb3QAAAAAAAaihBAAAAAAD290AAAAAAQOgNQQAAAAAA9vdAAAAAAIA3FkEAAAAAAPb3QAAAAADAehBBAAAAAAD290AAAAAAICkbQQAAAAAA9vdAAAAAAKAOFUEAAAAAAPb3QAAAAADAzRdBAAAAAAD290AAAAAAgDEXQQAAAAAA9vdAAAAAAEB3G0EAAAAAAPb3QAAAAACIjxVBAAAAAAD290AAAAAAINAUQQAAAAAA9vdAAAAAAIDYEEEAAAAAAPb3QAAAAACgTx9BAAAAAAD290AAAAAAIE0VQQAAAAAA9vdAAAAAAPAvF0EAAAAAAPb3QAAAAACQ5xRBAAAAAAD290AAAAAAkGoUQQAAAAAA9vdAAAAAAJAFMEEAAAAAAPb3QAAAAABAEhdBAAAAAAD290AAAAAAILgYQQAAAAAA9vdAAAAAAIDAFEEAAAAAAPb3QAAAAACUGxRBAAAAAAD290AAAAAAwM0XQQAAAAAA9vdAAAAAABA+IUEAAAAAAPb3QAAAAACg6hpBAAAAAAD290AAAAAA8O8gQQAAAAAA9vdAAAAAAKAOFUEAAAAAAPb3QAAAAABAlRZBAAAAAAD290AAAAAAeKYTQQAAAAAA9vdAAAAAAFhAF0EAAAAAAPb3QAAAAADA0xZBAAAAAAD290AAAAAAwD4aQQAAAAAA9vdAAAAAAOCYGEEAAAAAAPb3QAAAAAAg1hNBAAAAAAD290AAAAAAoGcbQQAAAAAA9vdAAAAAABAgFkEAAAAAAPb3QAAAAADUihhBAAAAAAD290AAAAAAINYTQQAAAAAA9vdA",
          "dtype": "f8",
          "shape": "84, 2"
         },
         "hovertemplate": "zip_str=98144<br>lat=%{lat}<br>long=%{lon}<br>price=%{customdata[0]}<br>zipcode=%{customdata[1]}<extra></extra>",
         "lat": {
          "bdata": "s3vysFDLR0DOqs/VVsxHQBe30QDeykdAB84ZUdrLR0AGEhQ/xsxHQHctIR/0zEdAB84ZUdrLR0AkKH6MuctHQPrt68A5y0dAPzVeuknMR0BeukkMAstHQEMc6+I2ykdADJOpglHJR0D5MeauJcxHQECk374OzEdARdjw9ErJR0DPZtXnastHQEVHcvkPyUdAvp8aL93MR0Cyne+nxstHQNuK/WX3zEdAJQaBlUPLR0AwKqkT0MxHQEI+6NmsykdAT0ATYcPLR0Dr4jYawMtHQIenV8oyzEdATtGRXP7LR0DvOEVHcslHQAyTqYJRyUdAB84ZUdrLR0CIhVrTvMtHQCh+jLlryUdACRueXinLR0DQ1VbsL8tHQHicoiO5zEdABhIUP8bMR0Am5IOezcpHQPrt68A5y0dAwFsgQfHLR0B6Nqs+V8tHQF66SQwCy0dAexSuR+HKR0CkcD0K18tHQMHKoUW2y0dAaW/whcnMR0BOYhBYOcxHQOviNhrAy0dAFYxK6gTMR0Bv8IXJVMlHQOwvuycPy0dAB84ZUdrLR0CjAbwFEsxHQIZa07zjzEdAbHh6pSzLR0BB8WPMXctHQMSxLm6jyUdA8BZIUPzIR0ALtaZ5x8lHQFtCPujZzEdA3NeBc0bMR0DBqKROQMtHQO0NvjCZykdAaW/whcnMR0CkcD0K18tHQGB2Tx4WykdAiIVa07zLR0DtDb4wmcpHQCUGgZVDy0dApHA9CtfLR0Ai/fZ14MxHQKRwPQrXy0dAJQaBlUPLR0BAE2HD08tHQF8pyxDHykdAYHZPHhbKR0BdbcX+sstHQMP1KFyPykdAtoR80LPJR0AJih9j7spHQN21hHzQy0dApHA9CtfLR0AHX5hMFcxHQNxGA3gLzEdA",
          "dtype": "f8"
         },
         "legendgroup": "98144",
         "lon": {
          "bdata": "tMh2vp+SXsBCYOXQIpNewBfZzvdTk17AexSuR+GSXsDdJAaBlZNewLTIdr6fkl7Abef7qfGSXsCYbhKDwJJewE5iEFg5lF7AlkOLbOeTXsB7FK5H4ZJewN0kBoGVk17AhxbZzveTXsDP91PjpZNewFCNl24Sk17AwcqhRbaTXsCyne+nxpNewN9PjZdukl7A3SQGgZWTXsB7FK5H4ZJewEJg5dAik17A+n5qvHSTXsBQjZduEpNewJhuEoPAkl7AXrpJDAKTXsB7FK5H4ZJewIlBYOXQkl7AJQaBlUOTXsB56SYxCJRewN0kBoGVk17AmG4Sg8CSXsBeukkMApNewM/3U+Olk17AwcqhRbaTXsCWQ4ts55NewO58PzVekl7AMzMzMzOTXsBOYhBYOZRewFCNl24Sk17AwcqhRbaTXsCmm8QgsJJewKabxCCwkl7AiUFg5dCSXsB7FK5H4ZJewHsUrkfhkl7AMzMzMzOTXsCJQWDl0JJewHsUrkfhkl7AF9nO91OTXsCkcD0K15NewCUGgZVDk17AMzMzMzOTXsAX2c73U5NewOxRuB6Fk17AiUFg5dCSXsCJQWDl0JJewAisHFpkk17A7nw/NV6SXsDRItv5fpJewEJg5dAik17AUI2XbhKTXsD6fmq8dJNewGq8dJMYlF7A/Knx0k2SXsB7FK5H4ZJewFyPwvUolF7AexSuR+GSXsBqvHSTGJRewPp+arx0k17AF9nO91OTXsDsUbgehZNewBfZzvdTk17A7FG4HoWTXsB7FK5H4ZJewGq8dJMYlF7AXI/C9SiUXsB7FK5H4ZJewHnpJjEIlF7Asp3vp8aTXsB56SYxCJRewG3n+6nxkl7AexSuR+GSXsBCYOXQIpNewEJg5dAik17A",
          "dtype": "f8"
         },
         "marker": {
          "color": "rgb(255,217,47)"
         },
         "mode": "markers",
         "name": "98144",
         "showlegend": true,
         "subplot": "map",
         "type": "scattermap"
        }
       ],
       "layout": {
        "height": 600,
        "legend": {
         "title": {
          "text": "ZIP code"
         },
         "tracegroupgap": 0
        },
        "map": {
         "center": {
          "lat": 47.62087481751824,
          "lon": -122.31726277372263
         },
         "domain": {
          "x": [
           0,
           1
          ],
          "y": [
           0,
           1
          ]
         },
         "zoom": 9
        },
        "mapbox": {
         "center": {
          "lat": 47.62087481751824,
          "lon": -122.31726277372263
         },
         "style": "open-street-map",
         "zoom": 9
        },
        "margin": {
         "b": 0,
         "l": 0,
         "r": 0,
         "t": 40
        },
        "template": {
         "data": {
          "bar": [
           {
            "error_x": {
             "color": "#2a3f5f"
            },
            "error_y": {
             "color": "#2a3f5f"
            },
            "marker": {
             "line": {
              "color": "#E5ECF6",
              "width": 0.5
             },
             "pattern": {
              "fillmode": "overlay",
              "size": 10,
              "solidity": 0.2
             }
            },
            "type": "bar"
           }
          ],
          "barpolar": [
           {
            "marker": {
             "line": {
              "color": "#E5ECF6",
              "width": 0.5
             },
             "pattern": {
              "fillmode": "overlay",
              "size": 10,
              "solidity": 0.2
             }
            },
            "type": "barpolar"
           }
          ],
          "carpet": [
           {
            "aaxis": {
             "endlinecolor": "#2a3f5f",
             "gridcolor": "white",
             "linecolor": "white",
             "minorgridcolor": "white",
             "startlinecolor": "#2a3f5f"
            },
            "baxis": {
             "endlinecolor": "#2a3f5f",
             "gridcolor": "white",
             "linecolor": "white",
             "minorgridcolor": "white",
             "startlinecolor": "#2a3f5f"
            },
            "type": "carpet"
           }
          ],
          "choropleth": [
           {
            "colorbar": {
             "outlinewidth": 0,
             "ticks": ""
            },
            "type": "choropleth"
           }
          ],
          "contour": [
           {
            "colorbar": {
             "outlinewidth": 0,
             "ticks": ""
            },
            "colorscale": [
             [
              0,
              "#0d0887"
             ],
             [
              0.1111111111111111,
              "#46039f"
             ],
             [
              0.2222222222222222,
              "#7201a8"
             ],
             [
              0.3333333333333333,
              "#9c179e"
             ],
             [
              0.4444444444444444,
              "#bd3786"
             ],
             [
              0.5555555555555556,
              "#d8576b"
             ],
             [
              0.6666666666666666,
              "#ed7953"
             ],
             [
              0.7777777777777778,
              "#fb9f3a"
             ],
             [
              0.8888888888888888,
              "#fdca26"
             ],
             [
              1,
              "#f0f921"
             ]
            ],
            "type": "contour"
           }
          ],
          "contourcarpet": [
           {
            "colorbar": {
             "outlinewidth": 0,
             "ticks": ""
            },
            "type": "contourcarpet"
           }
          ],
          "heatmap": [
           {
            "colorbar": {
             "outlinewidth": 0,
             "ticks": ""
            },
            "colorscale": [
             [
              0,
              "#0d0887"
             ],
             [
              0.1111111111111111,
              "#46039f"
             ],
             [
              0.2222222222222222,
              "#7201a8"
             ],
             [
              0.3333333333333333,
              "#9c179e"
             ],
             [
              0.4444444444444444,
              "#bd3786"
             ],
             [
              0.5555555555555556,
              "#d8576b"
             ],
             [
              0.6666666666666666,
              "#ed7953"
             ],
             [
              0.7777777777777778,
              "#fb9f3a"
             ],
             [
              0.8888888888888888,
              "#fdca26"
             ],
             [
              1,
              "#f0f921"
             ]
            ],
            "type": "heatmap"
           }
          ],
          "histogram": [
           {
            "marker": {
             "pattern": {
              "fillmode": "overlay",
              "size": 10,
              "solidity": 0.2
             }
            },
            "type": "histogram"
           }
          ],
          "histogram2d": [
           {
            "colorbar": {
             "outlinewidth": 0,
             "ticks": ""
            },
            "colorscale": [
             [
              0,
              "#0d0887"
             ],
             [
              0.1111111111111111,
              "#46039f"
             ],
             [
              0.2222222222222222,
              "#7201a8"
             ],
             [
              0.3333333333333333,
              "#9c179e"
             ],
             [
              0.4444444444444444,
              "#bd3786"
             ],
             [
              0.5555555555555556,
              "#d8576b"
             ],
             [
              0.6666666666666666,
              "#ed7953"
             ],
             [
              0.7777777777777778,
              "#fb9f3a"
             ],
             [
              0.8888888888888888,
              "#fdca26"
             ],
             [
              1,
              "#f0f921"
             ]
            ],
            "type": "histogram2d"
           }
          ],
          "histogram2dcontour": [
           {
            "colorbar": {
             "outlinewidth": 0,
             "ticks": ""
            },
            "colorscale": [
             [
              0,
              "#0d0887"
             ],
             [
              0.1111111111111111,
              "#46039f"
             ],
             [
              0.2222222222222222,
              "#7201a8"
             ],
             [
              0.3333333333333333,
              "#9c179e"
             ],
             [
              0.4444444444444444,
              "#bd3786"
             ],
             [
              0.5555555555555556,
              "#d8576b"
             ],
             [
              0.6666666666666666,
              "#ed7953"
             ],
             [
              0.7777777777777778,
              "#fb9f3a"
             ],
             [
              0.8888888888888888,
              "#fdca26"
             ],
             [
              1,
              "#f0f921"
             ]
            ],
            "type": "histogram2dcontour"
           }
          ],
          "mesh3d": [
           {
            "colorbar": {
             "outlinewidth": 0,
             "ticks": ""
            },
            "type": "mesh3d"
           }
          ],
          "parcoords": [
           {
            "line": {
             "colorbar": {
              "outlinewidth": 0,
              "ticks": ""
             }
            },
            "type": "parcoords"
           }
          ],
          "pie": [
           {
            "automargin": true,
            "type": "pie"
           }
          ],
          "scatter": [
           {
            "fillpattern": {
             "fillmode": "overlay",
             "size": 10,
             "solidity": 0.2
            },
            "type": "scatter"
           }
          ],
          "scatter3d": [
           {
            "line": {
             "colorbar": {
              "outlinewidth": 0,
              "ticks": ""
             }
            },
            "marker": {
             "colorbar": {
              "outlinewidth": 0,
              "ticks": ""
             }
            },
            "type": "scatter3d"
           }
          ],
          "scattercarpet": [
           {
            "marker": {
             "colorbar": {
              "outlinewidth": 0,
              "ticks": ""
             }
            },
            "type": "scattercarpet"
           }
          ],
          "scattergeo": [
           {
            "marker": {
             "colorbar": {
              "outlinewidth": 0,
              "ticks": ""
             }
            },
            "type": "scattergeo"
           }
          ],
          "scattergl": [
           {
            "marker": {
             "colorbar": {
              "outlinewidth": 0,
              "ticks": ""
             }
            },
            "type": "scattergl"
           }
          ],
          "scattermap": [
           {
            "marker": {
             "colorbar": {
              "outlinewidth": 0,
              "ticks": ""
             }
            },
            "type": "scattermap"
           }
          ],
          "scattermapbox": [
           {
            "marker": {
             "colorbar": {
              "outlinewidth": 0,
              "ticks": ""
             }
            },
            "type": "scattermapbox"
           }
          ],
          "scatterpolar": [
           {
            "marker": {
             "colorbar": {
              "outlinewidth": 0,
              "ticks": ""
             }
            },
            "type": "scatterpolar"
           }
          ],
          "scatterpolargl": [
           {
            "marker": {
             "colorbar": {
              "outlinewidth": 0,
              "ticks": ""
             }
            },
            "type": "scatterpolargl"
           }
          ],
          "scatterternary": [
           {
            "marker": {
             "colorbar": {
              "outlinewidth": 0,
              "ticks": ""
             }
            },
            "type": "scatterternary"
           }
          ],
          "surface": [
           {
            "colorbar": {
             "outlinewidth": 0,
             "ticks": ""
            },
            "colorscale": [
             [
              0,
              "#0d0887"
             ],
             [
              0.1111111111111111,
              "#46039f"
             ],
             [
              0.2222222222222222,
              "#7201a8"
             ],
             [
              0.3333333333333333,
              "#9c179e"
             ],
             [
              0.4444444444444444,
              "#bd3786"
             ],
             [
              0.5555555555555556,
              "#d8576b"
             ],
             [
              0.6666666666666666,
              "#ed7953"
             ],
             [
              0.7777777777777778,
              "#fb9f3a"
             ],
             [
              0.8888888888888888,
              "#fdca26"
             ],
             [
              1,
              "#f0f921"
             ]
            ],
            "type": "surface"
           }
          ],
          "table": [
           {
            "cells": {
             "fill": {
              "color": "#EBF0F8"
             },
             "line": {
              "color": "white"
             }
            },
            "header": {
             "fill": {
              "color": "#C8D4E3"
             },
             "line": {
              "color": "white"
             }
            },
            "type": "table"
           }
          ]
         },
         "layout": {
          "annotationdefaults": {
           "arrowcolor": "#2a3f5f",
           "arrowhead": 0,
           "arrowwidth": 1
          },
          "autotypenumbers": "strict",
          "coloraxis": {
           "colorbar": {
            "outlinewidth": 0,
            "ticks": ""
           }
          },
          "colorscale": {
           "diverging": [
            [
             0,
             "#8e0152"
            ],
            [
             0.1,
             "#c51b7d"
            ],
            [
             0.2,
             "#de77ae"
            ],
            [
             0.3,
             "#f1b6da"
            ],
            [
             0.4,
             "#fde0ef"
            ],
            [
             0.5,
             "#f7f7f7"
            ],
            [
             0.6,
             "#e6f5d0"
            ],
            [
             0.7,
             "#b8e186"
            ],
            [
             0.8,
             "#7fbc41"
            ],
            [
             0.9,
             "#4d9221"
            ],
            [
             1,
             "#276419"
            ]
           ],
           "sequential": [
            [
             0,
             "#0d0887"
            ],
            [
             0.1111111111111111,
             "#46039f"
            ],
            [
             0.2222222222222222,
             "#7201a8"
            ],
            [
             0.3333333333333333,
             "#9c179e"
            ],
            [
             0.4444444444444444,
             "#bd3786"
            ],
            [
             0.5555555555555556,
             "#d8576b"
            ],
            [
             0.6666666666666666,
             "#ed7953"
            ],
            [
             0.7777777777777778,
             "#fb9f3a"
            ],
            [
             0.8888888888888888,
             "#fdca26"
            ],
            [
             1,
             "#f0f921"
            ]
           ],
           "sequentialminus": [
            [
             0,
             "#0d0887"
            ],
            [
             0.1111111111111111,
             "#46039f"
            ],
            [
             0.2222222222222222,
             "#7201a8"
            ],
            [
             0.3333333333333333,
             "#9c179e"
            ],
            [
             0.4444444444444444,
             "#bd3786"
            ],
            [
             0.5555555555555556,
             "#d8576b"
            ],
            [
             0.6666666666666666,
             "#ed7953"
            ],
            [
             0.7777777777777778,
             "#fb9f3a"
            ],
            [
             0.8888888888888888,
             "#fdca26"
            ],
            [
             1,
             "#f0f921"
            ]
           ]
          },
          "colorway": [
           "#636efa",
           "#EF553B",
           "#00cc96",
           "#ab63fa",
           "#FFA15A",
           "#19d3f3",
           "#FF6692",
           "#B6E880",
           "#FF97FF",
           "#FECB52"
          ],
          "font": {
           "color": "#2a3f5f"
          },
          "geo": {
           "bgcolor": "white",
           "lakecolor": "white",
           "landcolor": "#E5ECF6",
           "showlakes": true,
           "showland": true,
           "subunitcolor": "white"
          },
          "hoverlabel": {
           "align": "left"
          },
          "hovermode": "closest",
          "mapbox": {
           "style": "light"
          },
          "paper_bgcolor": "white",
          "plot_bgcolor": "#E5ECF6",
          "polar": {
           "angularaxis": {
            "gridcolor": "white",
            "linecolor": "white",
            "ticks": ""
           },
           "bgcolor": "#E5ECF6",
           "radialaxis": {
            "gridcolor": "white",
            "linecolor": "white",
            "ticks": ""
           }
          },
          "scene": {
           "xaxis": {
            "backgroundcolor": "#E5ECF6",
            "gridcolor": "white",
            "gridwidth": 2,
            "linecolor": "white",
            "showbackground": true,
            "ticks": "",
            "zerolinecolor": "white"
           },
           "yaxis": {
            "backgroundcolor": "#E5ECF6",
            "gridcolor": "white",
            "gridwidth": 2,
            "linecolor": "white",
            "showbackground": true,
            "ticks": "",
            "zerolinecolor": "white"
           },
           "zaxis": {
            "backgroundcolor": "#E5ECF6",
            "gridcolor": "white",
            "gridwidth": 2,
            "linecolor": "white",
            "showbackground": true,
            "ticks": "",
            "zerolinecolor": "white"
           }
          },
          "shapedefaults": {
           "line": {
            "color": "#2a3f5f"
           }
          },
          "ternary": {
           "aaxis": {
            "gridcolor": "white",
            "linecolor": "white",
            "ticks": ""
           },
           "baxis": {
            "gridcolor": "white",
            "linecolor": "white",
            "ticks": ""
           },
           "bgcolor": "#E5ECF6",
           "caxis": {
            "gridcolor": "white",
            "linecolor": "white",
            "ticks": ""
           }
          },
          "title": {
           "x": 0.05
          },
          "xaxis": {
           "automargin": true,
           "gridcolor": "white",
           "linecolor": "white",
           "ticks": "",
           "title": {
            "standoff": 15
           },
           "zerolinecolor": "white",
           "zerolinewidth": 2
          },
          "yaxis": {
           "automargin": true,
           "gridcolor": "white",
           "linecolor": "white",
           "ticks": "",
           "title": {
            "standoff": 15
           },
           "zerolinecolor": "white",
           "zerolinewidth": 2
          }
         }
        },
        "title": {
         "text": "Houses by ZIP"
        }
       }
      }
     },
     "metadata": {},
     "output_type": "display_data"
    }
   ],
   "source": [
    "import plotly.express as px\n",
    "df_2bed_central_map = (df_2bed_central.rename(columns={\"latitude\":\"lat\",\"longitude\":\"lon\"})\n",
    "                       .assign(zip_str=lambda d: d[\"zipcode\"].astype(str)))\n",
    "\n",
    "zip_order = sorted(df_2bed_central_map[\"zip_str\"].unique())\n",
    "\n",
    "palette = px.colors.qualitative.Set2\n",
    "\n",
    "fig_map_center = px.scatter_map(\n",
    "    df_2bed_central_map,\n",
    "    lat=\"lat\", \n",
    "    lon=\"long\",\n",
    "    color=\"zip_str\",\n",
    "    category_orders={\"zip_str\": zip_order},\n",
    "    color_discrete_sequence=palette,\n",
    "    hover_data=[\"price\",\"zipcode\"],\n",
    "    zoom=9, \n",
    "    height=600,\n",
    "    title=\"Houses by ZIP\"\n",
    ")\n",
    "fig_map_center.update_layout(mapbox_style=\"open-street-map\", margin=dict(l=0,r=0,t=40,b=0), legend_title_text=\"ZIP code\")\n",
    "\n",
    "fig_map_center"
   ]
  },
  {
   "cell_type": "markdown",
   "metadata": {},
   "source": [
    "Now let's figure out the pricing."
   ]
  },
  {
   "cell_type": "code",
   "execution_count": 40,
   "metadata": {},
   "outputs": [
    {
     "data": {
      "text/plain": [
       "18061   1700000.000\n",
       "19896   1260000.000\n",
       "7421    1250000.000\n",
       "218     1070000.000\n",
       "20234   1050000.000\n",
       "13015    998500.000\n",
       "21301    935000.000\n",
       "15148    930000.000\n",
       "7189     900000.000\n",
       "19464    885000.000\n",
       "Name: price, dtype: float64"
      ]
     },
     "execution_count": 40,
     "metadata": {},
     "output_type": "execute_result"
    }
   ],
   "source": [
    "df_2bed_central['price'].nunique()\n",
    "df_2bed_central['price'].nsmallest(5)\n",
    "df_2bed_central['price'].nlargest(10)"
   ]
  },
  {
   "cell_type": "code",
   "execution_count": 64,
   "metadata": {},
   "outputs": [
    {
     "data": {
      "text/html": [
       "<div>\n",
       "<style scoped>\n",
       "    .dataframe tbody tr th:only-of-type {\n",
       "        vertical-align: middle;\n",
       "    }\n",
       "\n",
       "    .dataframe tbody tr th {\n",
       "        vertical-align: top;\n",
       "    }\n",
       "\n",
       "    .dataframe thead th {\n",
       "        text-align: right;\n",
       "    }\n",
       "</style>\n",
       "<table border=\"1\" class=\"dataframe\">\n",
       "  <thead>\n",
       "    <tr style=\"text-align: right;\">\n",
       "      <th></th>\n",
       "      <th>zipcode</th>\n",
       "      <th>price</th>\n",
       "    </tr>\n",
       "  </thead>\n",
       "  <tbody>\n",
       "    <tr>\n",
       "      <th>0</th>\n",
       "      <td>98102</td>\n",
       "      <td>534684.783</td>\n",
       "    </tr>\n",
       "    <tr>\n",
       "      <th>1</th>\n",
       "      <td>98105</td>\n",
       "      <td>544411.561</td>\n",
       "    </tr>\n",
       "    <tr>\n",
       "      <th>2</th>\n",
       "      <td>98109</td>\n",
       "      <td>673645.000</td>\n",
       "    </tr>\n",
       "    <tr>\n",
       "      <th>3</th>\n",
       "      <td>98119</td>\n",
       "      <td>615175.000</td>\n",
       "    </tr>\n",
       "    <tr>\n",
       "      <th>4</th>\n",
       "      <td>98122</td>\n",
       "      <td>486638.062</td>\n",
       "    </tr>\n",
       "    <tr>\n",
       "      <th>5</th>\n",
       "      <td>98144</td>\n",
       "      <td>407804.262</td>\n",
       "    </tr>\n",
       "  </tbody>\n",
       "</table>\n",
       "</div>"
      ],
      "text/plain": [
       "   zipcode      price\n",
       "0    98102 534684.783\n",
       "1    98105 544411.561\n",
       "2    98109 673645.000\n",
       "3    98119 615175.000\n",
       "4    98122 486638.062\n",
       "5    98144 407804.262"
      ]
     },
     "execution_count": 64,
     "metadata": {},
     "output_type": "execute_result"
    }
   ],
   "source": [
    "av_price_by_zip = df_2bed_central.groupby('zipcode')['price'].mean().reset_index().sort_values(by='zipcode')\n",
    "av_price_by_zip.head(8)"
   ]
  },
  {
   "cell_type": "code",
   "execution_count": 73,
   "metadata": {},
   "outputs": [
    {
     "data": {
      "image/png": "[encoded data removed]",
      "text/plain": [
       "<Figure size 800x400 with 1 Axes>"
      ]
     },
     "metadata": {},
     "output_type": "display_data"
    }
   ],
   "source": [
    "plt.figure(figsize=(8,4))\n",
    "sns.barplot(data=av_price_by_zip, x=\"zipcode\", y=\"price\", palette=\"viridis\")\n",
    "plt.title(\"Average House Price by ZIP Code\")\n",
    "plt.xlabel(\"ZIP Code\")\n",
    "plt.ylabel(\"Average Price (USD)\")\n",
    "plt.xticks(rotation=90)\n",
    "plt.ticklabel_format(style='plain', axis='y')\n",
    "plt.show()\n"
   ]
  },
  {
   "cell_type": "markdown",
   "metadata": {},
   "source": [
    "Apparently, some of the zip areas are more affluent than the others. What about the total distribution of prices?"
   ]
  },
  {
   "cell_type": "code",
   "execution_count": 35,
   "metadata": {},
   "outputs": [
    {
     "data": {
      "text/plain": [
       "count       274.000\n",
       "mean     508031.865\n",
       "std      182264.717\n",
       "min      181000.000\n",
       "25%      387000.000\n",
       "50%      460000.000\n",
       "75%      595000.000\n",
       "max     1700000.000\n",
       "Name: price, dtype: float64"
      ]
     },
     "execution_count": 35,
     "metadata": {},
     "output_type": "execute_result"
    }
   ],
   "source": [
    "df_2bed_central['price'].describe()"
   ]
  },
  {
   "cell_type": "code",
   "execution_count": 38,
   "metadata": {},
   "outputs": [
    {
     "data": {
      "image/png": "[encoded data removed]",
      "text/plain": [
       "<Figure size 800x500 with 1 Axes>"
      ]
     },
     "metadata": {},
     "output_type": "display_data"
    }
   ],
   "source": [
    "sns.histplot(df_2bed_central['price'], bins=50, kde=True)\n",
    "plt.title(\"Distribution of House Prices\")\n",
    "plt.xlabel(\"Price in USD\")\n",
    "plt.ylabel(\"Number of houses\")\n",
    "plt.ticklabel_format(style='plain', axis='x')\n",
    "plt.show()"
   ]
  },
  {
   "cell_type": "markdown",
   "metadata": {},
   "source": [
    "Because the distribution is skewed, it would be reasonable to focus on the bulk of the houses, prices for which lay between approximately 250000 and 800000 USD. Let's separate them into price categories and see what each of them has to offer. The categories are based on the largest and smallest prices (the extremes were removed) and the quartiles from the descriptive statistics above. "
   ]
  },
  {
   "cell_type": "code",
   "execution_count": 82,
   "metadata": {},
   "outputs": [
    {
     "data": {
      "text/plain": [
       "price_category\n",
       "up to 390000    74\n",
       "up to 460000    63\n",
       "up to 595000    69\n",
       "up to 800000    50\n",
       "Name: count, dtype: int64"
      ]
     },
     "execution_count": 82,
     "metadata": {},
     "output_type": "execute_result"
    }
   ],
   "source": [
    "bins = [245000, 390000, 460000, 595000, 800000]\n",
    "labels = ['up to 390000', 'up to 460000', 'up to 595000', 'up to 800000']\n",
    "df_2bed_central[\"price_category\"] = pd.cut(df_2bed_central[\"price\"], bins=bins, labels=labels, include_lowest=True)\n",
    "df_2bed_central[\"price_category\"].value_counts().sort_index()"
   ]
  },
  {
   "cell_type": "code",
   "execution_count": 86,
   "metadata": {},
   "outputs": [
    {
     "data": {
      "text/html": [
       "<div>\n",
       "<style scoped>\n",
       "    .dataframe tbody tr th:only-of-type {\n",
       "        vertical-align: middle;\n",
       "    }\n",
       "\n",
       "    .dataframe tbody tr th {\n",
       "        vertical-align: top;\n",
       "    }\n",
       "\n",
       "    .dataframe thead th {\n",
       "        text-align: right;\n",
       "    }\n",
       "</style>\n",
       "<table border=\"1\" class=\"dataframe\">\n",
       "  <thead>\n",
       "    <tr style=\"text-align: right;\">\n",
       "      <th></th>\n",
       "      <th>sqft_living</th>\n",
       "      <th>sqft_lot</th>\n",
       "      <th>bathrooms</th>\n",
       "      <th>floors</th>\n",
       "      <th>condition</th>\n",
       "      <th>grade</th>\n",
       "    </tr>\n",
       "    <tr>\n",
       "      <th>price_category</th>\n",
       "      <th></th>\n",
       "      <th></th>\n",
       "      <th></th>\n",
       "      <th></th>\n",
       "      <th></th>\n",
       "      <th></th>\n",
       "    </tr>\n",
       "  </thead>\n",
       "  <tbody>\n",
       "    <tr>\n",
       "      <th>up to 390000</th>\n",
       "      <td>991.900</td>\n",
       "      <td>2070.100</td>\n",
       "      <td>1.400</td>\n",
       "      <td>1.700</td>\n",
       "      <td>3.100</td>\n",
       "      <td>7.000</td>\n",
       "    </tr>\n",
       "    <tr>\n",
       "      <th>up to 460000</th>\n",
       "      <td>1119.900</td>\n",
       "      <td>2509.700</td>\n",
       "      <td>1.600</td>\n",
       "      <td>1.700</td>\n",
       "      <td>3.400</td>\n",
       "      <td>7.200</td>\n",
       "    </tr>\n",
       "    <tr>\n",
       "      <th>up to 595000</th>\n",
       "      <td>1291.200</td>\n",
       "      <td>2897.300</td>\n",
       "      <td>1.600</td>\n",
       "      <td>1.500</td>\n",
       "      <td>3.300</td>\n",
       "      <td>7.200</td>\n",
       "    </tr>\n",
       "    <tr>\n",
       "      <th>up to 800000</th>\n",
       "      <td>1459.400</td>\n",
       "      <td>3407.800</td>\n",
       "      <td>1.600</td>\n",
       "      <td>1.600</td>\n",
       "      <td>3.500</td>\n",
       "      <td>7.800</td>\n",
       "    </tr>\n",
       "  </tbody>\n",
       "</table>\n",
       "</div>"
      ],
      "text/plain": [
       "                sqft_living  sqft_lot  bathrooms  floors  condition  grade\n",
       "price_category                                                            \n",
       "up to 390000        991.900  2070.100      1.400   1.700      3.100  7.000\n",
       "up to 460000       1119.900  2509.700      1.600   1.700      3.400  7.200\n",
       "up to 595000       1291.200  2897.300      1.600   1.500      3.300  7.200\n",
       "up to 800000       1459.400  3407.800      1.600   1.600      3.500  7.800"
      ]
     },
     "execution_count": 86,
     "metadata": {},
     "output_type": "execute_result"
    }
   ],
   "source": [
    "df_2bed_central.groupby(\"price_category\")[[\"sqft_living\", \"sqft_lot\", \"bathrooms\", \"floors\", \"condition\", \"grade\"]].mean().round(1)"
   ]
  },
  {
   "cell_type": "code",
   "execution_count": 80,
   "metadata": {},
   "outputs": [
    {
     "data": {
      "image/png": "[encoded data removed]",
      "text/plain": [
       "<Figure size 800x500 with 1 Axes>"
      ]
     },
     "metadata": {},
     "output_type": "display_data"
    }
   ],
   "source": [
    "sns.histplot(df_2bed_central[df_2bed_central['price_category'] == 'up to 390000'], x='yr_built', bins=50, kde=True)\n",
    "plt.title(\"Year of construction - up to 390.000 USD\")\n",
    "plt.xlabel(\"Year\")\n",
    "plt.ylabel(\"Number of houses\")\n",
    "plt.ticklabel_format(style='plain', axis='x')\n",
    "plt.show()"
   ]
  },
  {
   "cell_type": "code",
   "execution_count": 81,
   "metadata": {},
   "outputs": [
    {
     "data": {
      "image/png": "[encoded data removed]",
      "text/plain": [
       "<Figure size 800x500 with 1 Axes>"
      ]
     },
     "metadata": {},
     "output_type": "display_data"
    }
   ],
   "source": [
    "df_2bed_central[\"decade\"] = (df_2bed_central[\"yr_built\"] // 10) * 10\n",
    "\n",
    "sns.countplot(\n",
    "    data=df_2bed_central[df_2bed_central[\"price_category\"] == \"up to 390000\"],\n",
    "    x=\"decade\",\n",
    "    color=\"skyblue\"\n",
    ")\n",
    "plt.title(\"Number of Houses Built per Decade (≤390k USD)\")\n",
    "plt.xlabel(\"Decade\")\n",
    "plt.ylabel(\"Count\")\n",
    "plt.xticks(rotation=45)\n",
    "plt.show()"
   ]
  },
  {
   "cell_type": "code",
   "execution_count": 87,
   "metadata": {},
   "outputs": [
    {
     "data": {
      "image/png": "[encoded data removed]",
      "text/plain": [
       "<Figure size 800x500 with 1 Axes>"
      ]
     },
     "metadata": {},
     "output_type": "display_data"
    }
   ],
   "source": [
    "sns.countplot(\n",
    "    data=df_2bed_central[df_2bed_central[\"price_category\"] == \"up to 460000\"],\n",
    "    x=\"decade\",\n",
    "    color=\"skyblue\"\n",
    ")\n",
    "plt.title(\"Number of Houses Built per Decade (≤460k USD)\")\n",
    "plt.xlabel(\"Decade\")\n",
    "plt.ylabel(\"Count\")\n",
    "plt.xticks(rotation=45)\n",
    "plt.show()"
   ]
  },
  {
   "cell_type": "code",
   "execution_count": 88,
   "metadata": {},
   "outputs": [
    {
     "data": {
      "text/plain": [
       "price_category\n",
       "up to 390000    2000\n",
       "up to 460000    2000\n",
       "up to 595000    2000\n",
       "up to 800000    1920\n",
       "Name: decade, dtype: int64"
      ]
     },
     "execution_count": 88,
     "metadata": {},
     "output_type": "execute_result"
    }
   ],
   "source": [
    "df_2bed_central.groupby('price_category')['decade'].agg(pd.Series.mode)"
   ]
  },
  {
   "cell_type": "markdown",
   "metadata": {},
   "source": [
    "Placeholder: 1. map of the houses based on their coordinates, 2. what sort of houses there are. E.g. price in each zip code. Price vs living area. What you get in each price category (create).\n",
    "id                  0\n",
    "bedrooms            0\n",
    "bathrooms           0\n",
    "sqft_living         0\n",
    "sqft_lot            0\n",
    "floors              0\n",
    "waterfront       2391\n",
    "view               63\n",
    "condition           0\n",
    "grade               0\n",
    "sqft_above          0\n",
    "sqft_basement     452\n",
    "yr_built            0\n",
    "yr_renovated     3848\n",
    "zipcode             0\n",
    "lat                 0\n",
    "long                0\n",
    "sqft_living15       0\n",
    "sqft_lot15          0\n",
    "date                0\n",
    "price               0"
   ]
  },
  {
   "cell_type": "code",
   "execution_count": null,
   "metadata": {},
   "outputs": [],
   "source": []
  },
  {
   "cell_type": "code",
   "execution_count": null,
   "metadata": {},
   "outputs": [],
   "source": []
  }
 ],
 "metadata": {
  "kernelspec": {
   "display_name": ".venv",
   "language": "python",
   "name": "python3"
  },
  "language_info": {
   "codemirror_mode": {
    "name": "ipython",
    "version": 3
   },
   "file_extension": ".py",
   "mimetype": "text/x-python",
   "name": "python",
   "nbconvert_exporter": "python",
   "pygments_lexer": "ipython3",
   "version": "3.11.3"
  },
  "orig_nbformat": 4
 },
 "nbformat": 4,
 "nbformat_minor": 2
}
