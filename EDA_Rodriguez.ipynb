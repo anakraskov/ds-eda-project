{
 "cells": [
  {
   "cell_type": "code",
   "execution_count": 2,
   "id": "6645fdee",
   "metadata": {},
   "outputs": [],
   "source": [
    "#np.sum(np.arange(1_000_000)), pd.__version__, sns.__version__\n"
   ]
  },
  {
   "cell_type": "code",
   "execution_count": 3,
   "id": "4a952415",
   "metadata": {},
   "outputs": [],
   "source": [
    "#x = np.linspace(0, 10, 200)\n",
    "#y = np.sin(x)\n",
    "#plt.plot(x, y)\n",
    "#plt.title(\"OK plot\"); plt.show()\n"
   ]
  },
  {
   "cell_type": "code",
   "execution_count": 4,
   "id": "7db092d2",
   "metadata": {},
   "outputs": [],
   "source": [
    "#plt.rcParams.update({\"figure.figsize\": (8,5), \"axes.facecolor\":\"white\", \"axes.edgecolor\":\"black\"})\n"
   ]
  },
  {
   "cell_type": "code",
   "execution_count": 5,
   "id": "d84a2a3e",
   "metadata": {},
   "outputs": [],
   "source": [
    "import warnings\n",
    "\n",
    "warnings.filterwarnings(\"ignore\")"
   ]
  },
  {
   "cell_type": "code",
   "execution_count": 6,
   "id": "7425fd76",
   "metadata": {},
   "outputs": [],
   "source": [
    "import pandas as pd\n",
    "import numpy as np\n",
    "import matplotlib.pyplot as plt\n",
    "import seaborn as sns"
   ]
  },
  {
   "cell_type": "code",
   "execution_count": 7,
   "id": "466dac31",
   "metadata": {},
   "outputs": [],
   "source": [
    "from matplotlib.ticker import PercentFormatter\n",
    "plt.rcParams.update({ \"figure.figsize\" : (8, 5),\"axes.facecolor\" : \"white\", \"axes.edgecolor\":  \"black\"})\n",
    "plt.rcParams[\"figure.facecolor\"]= \"w\"\n",
    "pd.plotting.register_matplotlib_converters()\n",
    "pd.set_option('display.float_format', lambda x: '%.3f' % x)"
   ]
  },
  {
   "cell_type": "code",
   "execution_count": 8,
   "id": "58e5fe97",
   "metadata": {},
   "outputs": [],
   "source": [
    "import os\n",
    "from dotenv import load_dotenv\n",
    "from sqlalchemy import create_engine\n",
    "\n",
    "#read the database string from the .env\n",
    "load_dotenv()\n",
    "\n",
    "DB_STRING = os.getenv('DB_STRING')\n",
    "\n",
    "db = create_engine(DB_STRING)"
   ]
  },
  {
   "cell_type": "code",
   "execution_count": 9,
   "id": "e5bcffe6",
   "metadata": {},
   "outputs": [],
   "source": [
    "#import the data to a pandas dataframe\n",
    "query_string = \"SELECT * FROM eda.king_county_house_sales\"\n",
    "sales_sqlalchemy = pd.read_sql(query_string, db)"
   ]
  },
  {
   "cell_type": "code",
   "execution_count": 10,
   "id": "602ded69",
   "metadata": {},
   "outputs": [
    {
     "data": {
      "text/html": [
       "<div>\n",
       "<style scoped>\n",
       "    .dataframe tbody tr th:only-of-type {\n",
       "        vertical-align: middle;\n",
       "    }\n",
       "\n",
       "    .dataframe tbody tr th {\n",
       "        vertical-align: top;\n",
       "    }\n",
       "\n",
       "    .dataframe thead th {\n",
       "        text-align: right;\n",
       "    }\n",
       "</style>\n",
       "<table border=\"1\" class=\"dataframe\">\n",
       "  <thead>\n",
       "    <tr style=\"text-align: right;\">\n",
       "      <th></th>\n",
       "      <th>date</th>\n",
       "      <th>price</th>\n",
       "      <th>house_id</th>\n",
       "      <th>id</th>\n",
       "    </tr>\n",
       "  </thead>\n",
       "  <tbody>\n",
       "    <tr>\n",
       "      <th>0</th>\n",
       "      <td>2014-10-13</td>\n",
       "      <td>221900.000</td>\n",
       "      <td>7129300520</td>\n",
       "      <td>1</td>\n",
       "    </tr>\n",
       "    <tr>\n",
       "      <th>1</th>\n",
       "      <td>2014-12-09</td>\n",
       "      <td>538000.000</td>\n",
       "      <td>6414100192</td>\n",
       "      <td>2</td>\n",
       "    </tr>\n",
       "    <tr>\n",
       "      <th>2</th>\n",
       "      <td>2015-02-25</td>\n",
       "      <td>180000.000</td>\n",
       "      <td>5631500400</td>\n",
       "      <td>3</td>\n",
       "    </tr>\n",
       "    <tr>\n",
       "      <th>3</th>\n",
       "      <td>2014-12-09</td>\n",
       "      <td>604000.000</td>\n",
       "      <td>2487200875</td>\n",
       "      <td>4</td>\n",
       "    </tr>\n",
       "    <tr>\n",
       "      <th>4</th>\n",
       "      <td>2015-02-18</td>\n",
       "      <td>510000.000</td>\n",
       "      <td>1954400510</td>\n",
       "      <td>5</td>\n",
       "    </tr>\n",
       "  </tbody>\n",
       "</table>\n",
       "</div>"
      ],
      "text/plain": [
       "         date      price    house_id  id\n",
       "0  2014-10-13 221900.000  7129300520   1\n",
       "1  2014-12-09 538000.000  6414100192   2\n",
       "2  2015-02-25 180000.000  5631500400   3\n",
       "3  2014-12-09 604000.000  2487200875   4\n",
       "4  2015-02-18 510000.000  1954400510   5"
      ]
     },
     "execution_count": 10,
     "metadata": {},
     "output_type": "execute_result"
    }
   ],
   "source": [
    "sales_sqlalchemy.head()"
   ]
  },
  {
   "cell_type": "code",
   "execution_count": 11,
   "id": "3e8205ee",
   "metadata": {},
   "outputs": [],
   "source": [
    "#import the data to a pandas dataframe\n",
    "query_string = \"SELECT * FROM eda.king_county_house_details\"\n",
    "details_sqlalchemy = pd.read_sql(query_string, db)"
   ]
  },
  {
   "cell_type": "code",
   "execution_count": 12,
   "id": "144aa37b",
   "metadata": {},
   "outputs": [
    {
     "data": {
      "text/html": [
       "<div>\n",
       "<style scoped>\n",
       "    .dataframe tbody tr th:only-of-type {\n",
       "        vertical-align: middle;\n",
       "    }\n",
       "\n",
       "    .dataframe tbody tr th {\n",
       "        vertical-align: top;\n",
       "    }\n",
       "\n",
       "    .dataframe thead th {\n",
       "        text-align: right;\n",
       "    }\n",
       "</style>\n",
       "<table border=\"1\" class=\"dataframe\">\n",
       "  <thead>\n",
       "    <tr style=\"text-align: right;\">\n",
       "      <th></th>\n",
       "      <th>id</th>\n",
       "      <th>bedrooms</th>\n",
       "      <th>bathrooms</th>\n",
       "      <th>sqft_living</th>\n",
       "      <th>sqft_lot</th>\n",
       "      <th>floors</th>\n",
       "      <th>waterfront</th>\n",
       "      <th>view</th>\n",
       "      <th>condition</th>\n",
       "      <th>grade</th>\n",
       "      <th>sqft_above</th>\n",
       "      <th>sqft_basement</th>\n",
       "      <th>yr_built</th>\n",
       "      <th>yr_renovated</th>\n",
       "      <th>zipcode</th>\n",
       "      <th>lat</th>\n",
       "      <th>long</th>\n",
       "      <th>sqft_living15</th>\n",
       "      <th>sqft_lot15</th>\n",
       "    </tr>\n",
       "  </thead>\n",
       "  <tbody>\n",
       "    <tr>\n",
       "      <th>0</th>\n",
       "      <td>1000102</td>\n",
       "      <td>6.000</td>\n",
       "      <td>3.000</td>\n",
       "      <td>2400.000</td>\n",
       "      <td>9373.000</td>\n",
       "      <td>2.000</td>\n",
       "      <td>NaN</td>\n",
       "      <td>0.000</td>\n",
       "      <td>3</td>\n",
       "      <td>7</td>\n",
       "      <td>2400.000</td>\n",
       "      <td>0.000</td>\n",
       "      <td>1991</td>\n",
       "      <td>0.000</td>\n",
       "      <td>98002</td>\n",
       "      <td>47.326</td>\n",
       "      <td>-122.214</td>\n",
       "      <td>2060.000</td>\n",
       "      <td>7316.000</td>\n",
       "    </tr>\n",
       "    <tr>\n",
       "      <th>1</th>\n",
       "      <td>100100050</td>\n",
       "      <td>3.000</td>\n",
       "      <td>1.000</td>\n",
       "      <td>1320.000</td>\n",
       "      <td>11090.000</td>\n",
       "      <td>1.000</td>\n",
       "      <td>0.000</td>\n",
       "      <td>0.000</td>\n",
       "      <td>3</td>\n",
       "      <td>7</td>\n",
       "      <td>1320.000</td>\n",
       "      <td>0.000</td>\n",
       "      <td>1955</td>\n",
       "      <td>0.000</td>\n",
       "      <td>98155</td>\n",
       "      <td>47.775</td>\n",
       "      <td>-122.304</td>\n",
       "      <td>1320.000</td>\n",
       "      <td>8319.000</td>\n",
       "    </tr>\n",
       "    <tr>\n",
       "      <th>2</th>\n",
       "      <td>1001200035</td>\n",
       "      <td>3.000</td>\n",
       "      <td>1.000</td>\n",
       "      <td>1350.000</td>\n",
       "      <td>7973.000</td>\n",
       "      <td>1.500</td>\n",
       "      <td>NaN</td>\n",
       "      <td>0.000</td>\n",
       "      <td>3</td>\n",
       "      <td>7</td>\n",
       "      <td>1350.000</td>\n",
       "      <td>0.000</td>\n",
       "      <td>1954</td>\n",
       "      <td>0.000</td>\n",
       "      <td>98188</td>\n",
       "      <td>47.432</td>\n",
       "      <td>-122.292</td>\n",
       "      <td>1310.000</td>\n",
       "      <td>7491.000</td>\n",
       "    </tr>\n",
       "    <tr>\n",
       "      <th>3</th>\n",
       "      <td>1001200050</td>\n",
       "      <td>4.000</td>\n",
       "      <td>1.500</td>\n",
       "      <td>1260.000</td>\n",
       "      <td>7248.000</td>\n",
       "      <td>1.500</td>\n",
       "      <td>NaN</td>\n",
       "      <td>0.000</td>\n",
       "      <td>5</td>\n",
       "      <td>7</td>\n",
       "      <td>1260.000</td>\n",
       "      <td>0.000</td>\n",
       "      <td>1955</td>\n",
       "      <td>NaN</td>\n",
       "      <td>98188</td>\n",
       "      <td>47.433</td>\n",
       "      <td>-122.292</td>\n",
       "      <td>1300.000</td>\n",
       "      <td>7732.000</td>\n",
       "    </tr>\n",
       "    <tr>\n",
       "      <th>4</th>\n",
       "      <td>1003000175</td>\n",
       "      <td>3.000</td>\n",
       "      <td>1.000</td>\n",
       "      <td>980.000</td>\n",
       "      <td>7606.000</td>\n",
       "      <td>1.000</td>\n",
       "      <td>0.000</td>\n",
       "      <td>0.000</td>\n",
       "      <td>3</td>\n",
       "      <td>7</td>\n",
       "      <td>980.000</td>\n",
       "      <td>0.000</td>\n",
       "      <td>1954</td>\n",
       "      <td>0.000</td>\n",
       "      <td>98188</td>\n",
       "      <td>47.436</td>\n",
       "      <td>-122.290</td>\n",
       "      <td>980.000</td>\n",
       "      <td>8125.000</td>\n",
       "    </tr>\n",
       "    <tr>\n",
       "      <th>5</th>\n",
       "      <td>100300280</td>\n",
       "      <td>3.000</td>\n",
       "      <td>2.250</td>\n",
       "      <td>1430.000</td>\n",
       "      <td>4777.000</td>\n",
       "      <td>2.000</td>\n",
       "      <td>0.000</td>\n",
       "      <td>0.000</td>\n",
       "      <td>3</td>\n",
       "      <td>7</td>\n",
       "      <td>1430.000</td>\n",
       "      <td>0.000</td>\n",
       "      <td>2010</td>\n",
       "      <td>0.000</td>\n",
       "      <td>98059</td>\n",
       "      <td>47.487</td>\n",
       "      <td>-122.152</td>\n",
       "      <td>1639.000</td>\n",
       "      <td>3854.000</td>\n",
       "    </tr>\n",
       "    <tr>\n",
       "      <th>6</th>\n",
       "      <td>100300500</td>\n",
       "      <td>3.000</td>\n",
       "      <td>2.500</td>\n",
       "      <td>1520.000</td>\n",
       "      <td>3041.000</td>\n",
       "      <td>2.000</td>\n",
       "      <td>0.000</td>\n",
       "      <td>0.000</td>\n",
       "      <td>3</td>\n",
       "      <td>7</td>\n",
       "      <td>1520.000</td>\n",
       "      <td>0.000</td>\n",
       "      <td>2009</td>\n",
       "      <td>NaN</td>\n",
       "      <td>98059</td>\n",
       "      <td>47.487</td>\n",
       "      <td>-122.152</td>\n",
       "      <td>1820.000</td>\n",
       "      <td>3229.000</td>\n",
       "    </tr>\n",
       "    <tr>\n",
       "      <th>7</th>\n",
       "      <td>100300530</td>\n",
       "      <td>3.000</td>\n",
       "      <td>2.500</td>\n",
       "      <td>1520.000</td>\n",
       "      <td>3003.000</td>\n",
       "      <td>2.000</td>\n",
       "      <td>0.000</td>\n",
       "      <td>0.000</td>\n",
       "      <td>3</td>\n",
       "      <td>7</td>\n",
       "      <td>1520.000</td>\n",
       "      <td>0.000</td>\n",
       "      <td>2009</td>\n",
       "      <td>0.000</td>\n",
       "      <td>98059</td>\n",
       "      <td>47.488</td>\n",
       "      <td>-122.153</td>\n",
       "      <td>1820.000</td>\n",
       "      <td>3030.000</td>\n",
       "    </tr>\n",
       "    <tr>\n",
       "      <th>8</th>\n",
       "      <td>1003400155</td>\n",
       "      <td>3.000</td>\n",
       "      <td>1.000</td>\n",
       "      <td>1100.000</td>\n",
       "      <td>7657.000</td>\n",
       "      <td>1.000</td>\n",
       "      <td>0.000</td>\n",
       "      <td>0.000</td>\n",
       "      <td>3</td>\n",
       "      <td>7</td>\n",
       "      <td>1100.000</td>\n",
       "      <td>0.000</td>\n",
       "      <td>1955</td>\n",
       "      <td>0.000</td>\n",
       "      <td>98188</td>\n",
       "      <td>47.437</td>\n",
       "      <td>-122.285</td>\n",
       "      <td>1300.000</td>\n",
       "      <td>8000.000</td>\n",
       "    </tr>\n",
       "    <tr>\n",
       "      <th>9</th>\n",
       "      <td>1003400245</td>\n",
       "      <td>3.000</td>\n",
       "      <td>1.000</td>\n",
       "      <td>1130.000</td>\n",
       "      <td>9907.000</td>\n",
       "      <td>1.000</td>\n",
       "      <td>0.000</td>\n",
       "      <td>0.000</td>\n",
       "      <td>3</td>\n",
       "      <td>7</td>\n",
       "      <td>1130.000</td>\n",
       "      <td>0.000</td>\n",
       "      <td>1954</td>\n",
       "      <td>0.000</td>\n",
       "      <td>98188</td>\n",
       "      <td>47.436</td>\n",
       "      <td>-122.286</td>\n",
       "      <td>1320.000</td>\n",
       "      <td>9907.000</td>\n",
       "    </tr>\n",
       "  </tbody>\n",
       "</table>\n",
       "</div>"
      ],
      "text/plain": [
       "           id  bedrooms  bathrooms  sqft_living  sqft_lot  floors  waterfront  \\\n",
       "0     1000102     6.000      3.000     2400.000  9373.000   2.000         NaN   \n",
       "1   100100050     3.000      1.000     1320.000 11090.000   1.000       0.000   \n",
       "2  1001200035     3.000      1.000     1350.000  7973.000   1.500         NaN   \n",
       "3  1001200050     4.000      1.500     1260.000  7248.000   1.500         NaN   \n",
       "4  1003000175     3.000      1.000      980.000  7606.000   1.000       0.000   \n",
       "5   100300280     3.000      2.250     1430.000  4777.000   2.000       0.000   \n",
       "6   100300500     3.000      2.500     1520.000  3041.000   2.000       0.000   \n",
       "7   100300530     3.000      2.500     1520.000  3003.000   2.000       0.000   \n",
       "8  1003400155     3.000      1.000     1100.000  7657.000   1.000       0.000   \n",
       "9  1003400245     3.000      1.000     1130.000  9907.000   1.000       0.000   \n",
       "\n",
       "   view  condition  grade  sqft_above  sqft_basement  yr_built  yr_renovated  \\\n",
       "0 0.000          3      7    2400.000          0.000      1991         0.000   \n",
       "1 0.000          3      7    1320.000          0.000      1955         0.000   \n",
       "2 0.000          3      7    1350.000          0.000      1954         0.000   \n",
       "3 0.000          5      7    1260.000          0.000      1955           NaN   \n",
       "4 0.000          3      7     980.000          0.000      1954         0.000   \n",
       "5 0.000          3      7    1430.000          0.000      2010         0.000   \n",
       "6 0.000          3      7    1520.000          0.000      2009           NaN   \n",
       "7 0.000          3      7    1520.000          0.000      2009         0.000   \n",
       "8 0.000          3      7    1100.000          0.000      1955         0.000   \n",
       "9 0.000          3      7    1130.000          0.000      1954         0.000   \n",
       "\n",
       "   zipcode    lat     long  sqft_living15  sqft_lot15  \n",
       "0    98002 47.326 -122.214       2060.000    7316.000  \n",
       "1    98155 47.775 -122.304       1320.000    8319.000  \n",
       "2    98188 47.432 -122.292       1310.000    7491.000  \n",
       "3    98188 47.433 -122.292       1300.000    7732.000  \n",
       "4    98188 47.436 -122.290        980.000    8125.000  \n",
       "5    98059 47.487 -122.152       1639.000    3854.000  \n",
       "6    98059 47.487 -122.152       1820.000    3229.000  \n",
       "7    98059 47.488 -122.153       1820.000    3030.000  \n",
       "8    98188 47.437 -122.285       1300.000    8000.000  \n",
       "9    98188 47.436 -122.286       1320.000    9907.000  "
      ]
     },
     "execution_count": 12,
     "metadata": {},
     "output_type": "execute_result"
    }
   ],
   "source": [
    "details_sqlalchemy.head(10)"
   ]
  },
  {
   "cell_type": "code",
   "execution_count": 13,
   "id": "a07eca64",
   "metadata": {},
   "outputs": [
    {
     "name": "stdout",
     "output_type": "stream",
     "text": [
      "<class 'pandas.core.frame.DataFrame'>\n",
      "RangeIndex: 21597 entries, 0 to 21596\n",
      "Data columns (total 21 columns):\n",
      " #   Column         Non-Null Count  Dtype         \n",
      "---  ------         --------------  -----         \n",
      " 0   id             21597 non-null  int64         \n",
      " 1   bedrooms       21597 non-null  float64       \n",
      " 2   bathrooms      21597 non-null  float64       \n",
      " 3   sqft_living    21597 non-null  float64       \n",
      " 4   sqft_lot       21597 non-null  float64       \n",
      " 5   floors         21597 non-null  float64       \n",
      " 6   waterfront     19206 non-null  float64       \n",
      " 7   view           21534 non-null  float64       \n",
      " 8   condition      21597 non-null  int64         \n",
      " 9   grade          21597 non-null  int64         \n",
      " 10  sqft_above     21597 non-null  float64       \n",
      " 11  sqft_basement  21145 non-null  float64       \n",
      " 12  yr_built       21597 non-null  int64         \n",
      " 13  yr_renovated   17749 non-null  float64       \n",
      " 14  zipcode        21597 non-null  int64         \n",
      " 15  lat            21597 non-null  float64       \n",
      " 16  long           21597 non-null  float64       \n",
      " 17  sqft_living15  21597 non-null  float64       \n",
      " 18  sqft_lot15     21597 non-null  float64       \n",
      " 19  date           21597 non-null  datetime64[ns]\n",
      " 20  price          21597 non-null  float64       \n",
      "dtypes: datetime64[ns](1), float64(15), int64(5)\n",
      "memory usage: 3.5 MB\n"
     ]
    }
   ],
   "source": [
    "from sqlalchemy import text\n",
    "\n",
    "# Your SQL query\n",
    "query = text(\"\"\"\n",
    "SELECT\n",
    "    kchd.*,\n",
    "    kchs.date,\n",
    "    kchs.price\n",
    "FROM eda.king_county_house_details AS kchd\n",
    "LEFT JOIN eda.king_county_house_sales AS kchs\n",
    "    ON kchd.id = kchs.house_id\n",
    "\"\"\")\n",
    "\n",
    "# Execute and read into a Pandas DataFrame\n",
    "df = pd.read_sql_query(query, db, parse_dates=[\"date\"])\n",
    "\n",
    "# Inspect the result\n",
    "df.info()"
   ]
  },
  {
   "cell_type": "code",
   "execution_count": 14,
   "id": "d73b96c6",
   "metadata": {},
   "outputs": [
    {
     "data": {
      "text/plain": [
       "(21597, 21)"
      ]
     },
     "execution_count": 14,
     "metadata": {},
     "output_type": "execute_result"
    }
   ],
   "source": [
    "df.shape"
   ]
  },
  {
   "cell_type": "code",
   "execution_count": 15,
   "id": "91973ab8",
   "metadata": {},
   "outputs": [
    {
     "data": {
      "text/html": [
       "<div>\n",
       "<style scoped>\n",
       "    .dataframe tbody tr th:only-of-type {\n",
       "        vertical-align: middle;\n",
       "    }\n",
       "\n",
       "    .dataframe tbody tr th {\n",
       "        vertical-align: top;\n",
       "    }\n",
       "\n",
       "    .dataframe thead th {\n",
       "        text-align: right;\n",
       "    }\n",
       "</style>\n",
       "<table border=\"1\" class=\"dataframe\">\n",
       "  <thead>\n",
       "    <tr style=\"text-align: right;\">\n",
       "      <th></th>\n",
       "      <th>id</th>\n",
       "      <th>bedrooms</th>\n",
       "      <th>bathrooms</th>\n",
       "      <th>sqft_living</th>\n",
       "      <th>sqft_lot</th>\n",
       "      <th>floors</th>\n",
       "      <th>waterfront</th>\n",
       "      <th>view</th>\n",
       "      <th>condition</th>\n",
       "      <th>grade</th>\n",
       "      <th>...</th>\n",
       "      <th>sqft_basement</th>\n",
       "      <th>yr_built</th>\n",
       "      <th>yr_renovated</th>\n",
       "      <th>zipcode</th>\n",
       "      <th>lat</th>\n",
       "      <th>long</th>\n",
       "      <th>sqft_living15</th>\n",
       "      <th>sqft_lot15</th>\n",
       "      <th>date</th>\n",
       "      <th>price</th>\n",
       "    </tr>\n",
       "  </thead>\n",
       "  <tbody>\n",
       "    <tr>\n",
       "      <th>0</th>\n",
       "      <td>7129300520</td>\n",
       "      <td>3.000</td>\n",
       "      <td>1.000</td>\n",
       "      <td>1180.000</td>\n",
       "      <td>5650.000</td>\n",
       "      <td>1.000</td>\n",
       "      <td>NaN</td>\n",
       "      <td>0.000</td>\n",
       "      <td>3</td>\n",
       "      <td>7</td>\n",
       "      <td>...</td>\n",
       "      <td>0.000</td>\n",
       "      <td>1955</td>\n",
       "      <td>0.000</td>\n",
       "      <td>98178</td>\n",
       "      <td>47.511</td>\n",
       "      <td>-122.257</td>\n",
       "      <td>1340.000</td>\n",
       "      <td>5650.000</td>\n",
       "      <td>2014-10-13</td>\n",
       "      <td>221900.000</td>\n",
       "    </tr>\n",
       "    <tr>\n",
       "      <th>1</th>\n",
       "      <td>6414100192</td>\n",
       "      <td>3.000</td>\n",
       "      <td>2.250</td>\n",
       "      <td>2570.000</td>\n",
       "      <td>7242.000</td>\n",
       "      <td>2.000</td>\n",
       "      <td>0.000</td>\n",
       "      <td>0.000</td>\n",
       "      <td>3</td>\n",
       "      <td>7</td>\n",
       "      <td>...</td>\n",
       "      <td>400.000</td>\n",
       "      <td>1951</td>\n",
       "      <td>19910.000</td>\n",
       "      <td>98125</td>\n",
       "      <td>47.721</td>\n",
       "      <td>-122.319</td>\n",
       "      <td>1690.000</td>\n",
       "      <td>7639.000</td>\n",
       "      <td>2014-12-09</td>\n",
       "      <td>538000.000</td>\n",
       "    </tr>\n",
       "    <tr>\n",
       "      <th>2</th>\n",
       "      <td>5631500400</td>\n",
       "      <td>2.000</td>\n",
       "      <td>1.000</td>\n",
       "      <td>770.000</td>\n",
       "      <td>10000.000</td>\n",
       "      <td>1.000</td>\n",
       "      <td>0.000</td>\n",
       "      <td>0.000</td>\n",
       "      <td>3</td>\n",
       "      <td>6</td>\n",
       "      <td>...</td>\n",
       "      <td>0.000</td>\n",
       "      <td>1933</td>\n",
       "      <td>NaN</td>\n",
       "      <td>98028</td>\n",
       "      <td>47.738</td>\n",
       "      <td>-122.233</td>\n",
       "      <td>2720.000</td>\n",
       "      <td>8062.000</td>\n",
       "      <td>2015-02-25</td>\n",
       "      <td>180000.000</td>\n",
       "    </tr>\n",
       "    <tr>\n",
       "      <th>3</th>\n",
       "      <td>2487200875</td>\n",
       "      <td>4.000</td>\n",
       "      <td>3.000</td>\n",
       "      <td>1960.000</td>\n",
       "      <td>5000.000</td>\n",
       "      <td>1.000</td>\n",
       "      <td>0.000</td>\n",
       "      <td>0.000</td>\n",
       "      <td>5</td>\n",
       "      <td>7</td>\n",
       "      <td>...</td>\n",
       "      <td>910.000</td>\n",
       "      <td>1965</td>\n",
       "      <td>0.000</td>\n",
       "      <td>98136</td>\n",
       "      <td>47.521</td>\n",
       "      <td>-122.393</td>\n",
       "      <td>1360.000</td>\n",
       "      <td>5000.000</td>\n",
       "      <td>2014-12-09</td>\n",
       "      <td>604000.000</td>\n",
       "    </tr>\n",
       "    <tr>\n",
       "      <th>4</th>\n",
       "      <td>1954400510</td>\n",
       "      <td>3.000</td>\n",
       "      <td>2.000</td>\n",
       "      <td>1680.000</td>\n",
       "      <td>8080.000</td>\n",
       "      <td>1.000</td>\n",
       "      <td>0.000</td>\n",
       "      <td>0.000</td>\n",
       "      <td>3</td>\n",
       "      <td>8</td>\n",
       "      <td>...</td>\n",
       "      <td>0.000</td>\n",
       "      <td>1987</td>\n",
       "      <td>0.000</td>\n",
       "      <td>98074</td>\n",
       "      <td>47.617</td>\n",
       "      <td>-122.045</td>\n",
       "      <td>1800.000</td>\n",
       "      <td>7503.000</td>\n",
       "      <td>2015-02-18</td>\n",
       "      <td>510000.000</td>\n",
       "    </tr>\n",
       "  </tbody>\n",
       "</table>\n",
       "<p>5 rows × 21 columns</p>\n",
       "</div>"
      ],
      "text/plain": [
       "           id  bedrooms  bathrooms  sqft_living  sqft_lot  floors  waterfront  \\\n",
       "0  7129300520     3.000      1.000     1180.000  5650.000   1.000         NaN   \n",
       "1  6414100192     3.000      2.250     2570.000  7242.000   2.000       0.000   \n",
       "2  5631500400     2.000      1.000      770.000 10000.000   1.000       0.000   \n",
       "3  2487200875     4.000      3.000     1960.000  5000.000   1.000       0.000   \n",
       "4  1954400510     3.000      2.000     1680.000  8080.000   1.000       0.000   \n",
       "\n",
       "   view  condition  grade  ...  sqft_basement  yr_built  yr_renovated  \\\n",
       "0 0.000          3      7  ...          0.000      1955         0.000   \n",
       "1 0.000          3      7  ...        400.000      1951     19910.000   \n",
       "2 0.000          3      6  ...          0.000      1933           NaN   \n",
       "3 0.000          5      7  ...        910.000      1965         0.000   \n",
       "4 0.000          3      8  ...          0.000      1987         0.000   \n",
       "\n",
       "   zipcode    lat     long  sqft_living15  sqft_lot15       date      price  \n",
       "0    98178 47.511 -122.257       1340.000    5650.000 2014-10-13 221900.000  \n",
       "1    98125 47.721 -122.319       1690.000    7639.000 2014-12-09 538000.000  \n",
       "2    98028 47.738 -122.233       2720.000    8062.000 2015-02-25 180000.000  \n",
       "3    98136 47.521 -122.393       1360.000    5000.000 2014-12-09 604000.000  \n",
       "4    98074 47.617 -122.045       1800.000    7503.000 2015-02-18 510000.000  \n",
       "\n",
       "[5 rows x 21 columns]"
      ]
     },
     "execution_count": 15,
     "metadata": {},
     "output_type": "execute_result"
    }
   ],
   "source": [
    "df.head()"
   ]
  },
  {
   "cell_type": "code",
   "execution_count": 16,
   "id": "3ec7f893",
   "metadata": {},
   "outputs": [
    {
     "data": {
      "text/plain": [
       "172    2014-05-02\n",
       "312    2014-05-02\n",
       "502    2014-05-02\n",
       "775    2014-05-02\n",
       "1040   2014-05-02\n",
       "Name: date, dtype: datetime64[ns]"
      ]
     },
     "execution_count": 16,
     "metadata": {},
     "output_type": "execute_result"
    }
   ],
   "source": [
    "df['date'].nsmallest()"
   ]
  },
  {
   "cell_type": "code",
   "execution_count": 17,
   "id": "dfee996b",
   "metadata": {},
   "outputs": [
    {
     "data": {
      "text/html": [
       "<div>\n",
       "<style scoped>\n",
       "    .dataframe tbody tr th:only-of-type {\n",
       "        vertical-align: middle;\n",
       "    }\n",
       "\n",
       "    .dataframe tbody tr th {\n",
       "        vertical-align: top;\n",
       "    }\n",
       "\n",
       "    .dataframe thead th {\n",
       "        text-align: right;\n",
       "    }\n",
       "</style>\n",
       "<table border=\"1\" class=\"dataframe\">\n",
       "  <thead>\n",
       "    <tr style=\"text-align: right;\">\n",
       "      <th></th>\n",
       "      <th>id</th>\n",
       "      <th>bedrooms</th>\n",
       "      <th>bathrooms</th>\n",
       "      <th>sqft_living</th>\n",
       "      <th>sqft_lot</th>\n",
       "      <th>floors</th>\n",
       "      <th>waterfront</th>\n",
       "      <th>view</th>\n",
       "      <th>condition</th>\n",
       "      <th>grade</th>\n",
       "      <th>...</th>\n",
       "      <th>sqft_basement</th>\n",
       "      <th>yr_built</th>\n",
       "      <th>yr_renovated</th>\n",
       "      <th>zipcode</th>\n",
       "      <th>lat</th>\n",
       "      <th>long</th>\n",
       "      <th>sqft_living15</th>\n",
       "      <th>sqft_lot15</th>\n",
       "      <th>date</th>\n",
       "      <th>price</th>\n",
       "    </tr>\n",
       "  </thead>\n",
       "  <tbody>\n",
       "    <tr>\n",
       "      <th>count</th>\n",
       "      <td>21597.000</td>\n",
       "      <td>21597.000</td>\n",
       "      <td>21597.000</td>\n",
       "      <td>21597.000</td>\n",
       "      <td>21597.000</td>\n",
       "      <td>21597.000</td>\n",
       "      <td>19206.000</td>\n",
       "      <td>21534.000</td>\n",
       "      <td>21597.000</td>\n",
       "      <td>21597.000</td>\n",
       "      <td>...</td>\n",
       "      <td>21145.000</td>\n",
       "      <td>21597.000</td>\n",
       "      <td>17749.000</td>\n",
       "      <td>21597.000</td>\n",
       "      <td>21597.000</td>\n",
       "      <td>21597.000</td>\n",
       "      <td>21597.000</td>\n",
       "      <td>21597.000</td>\n",
       "      <td>21597</td>\n",
       "      <td>21597.000</td>\n",
       "    </tr>\n",
       "    <tr>\n",
       "      <th>mean</th>\n",
       "      <td>4580474287.771</td>\n",
       "      <td>3.373</td>\n",
       "      <td>2.116</td>\n",
       "      <td>2080.322</td>\n",
       "      <td>15099.409</td>\n",
       "      <td>1.494</td>\n",
       "      <td>0.008</td>\n",
       "      <td>0.234</td>\n",
       "      <td>3.410</td>\n",
       "      <td>7.658</td>\n",
       "      <td>...</td>\n",
       "      <td>291.857</td>\n",
       "      <td>1971.000</td>\n",
       "      <td>836.651</td>\n",
       "      <td>98077.952</td>\n",
       "      <td>47.560</td>\n",
       "      <td>-122.214</td>\n",
       "      <td>1986.620</td>\n",
       "      <td>12758.284</td>\n",
       "      <td>2014-10-29 04:20:38.171968512</td>\n",
       "      <td>540296.574</td>\n",
       "    </tr>\n",
       "    <tr>\n",
       "      <th>min</th>\n",
       "      <td>1000102.000</td>\n",
       "      <td>1.000</td>\n",
       "      <td>0.500</td>\n",
       "      <td>370.000</td>\n",
       "      <td>520.000</td>\n",
       "      <td>1.000</td>\n",
       "      <td>0.000</td>\n",
       "      <td>0.000</td>\n",
       "      <td>1.000</td>\n",
       "      <td>3.000</td>\n",
       "      <td>...</td>\n",
       "      <td>0.000</td>\n",
       "      <td>1900.000</td>\n",
       "      <td>0.000</td>\n",
       "      <td>98001.000</td>\n",
       "      <td>47.156</td>\n",
       "      <td>-122.519</td>\n",
       "      <td>399.000</td>\n",
       "      <td>651.000</td>\n",
       "      <td>2014-05-02 00:00:00</td>\n",
       "      <td>78000.000</td>\n",
       "    </tr>\n",
       "    <tr>\n",
       "      <th>25%</th>\n",
       "      <td>2123049175.000</td>\n",
       "      <td>3.000</td>\n",
       "      <td>1.750</td>\n",
       "      <td>1430.000</td>\n",
       "      <td>5040.000</td>\n",
       "      <td>1.000</td>\n",
       "      <td>0.000</td>\n",
       "      <td>0.000</td>\n",
       "      <td>3.000</td>\n",
       "      <td>7.000</td>\n",
       "      <td>...</td>\n",
       "      <td>0.000</td>\n",
       "      <td>1951.000</td>\n",
       "      <td>0.000</td>\n",
       "      <td>98033.000</td>\n",
       "      <td>47.471</td>\n",
       "      <td>-122.328</td>\n",
       "      <td>1490.000</td>\n",
       "      <td>5100.000</td>\n",
       "      <td>2014-07-22 00:00:00</td>\n",
       "      <td>322000.000</td>\n",
       "    </tr>\n",
       "    <tr>\n",
       "      <th>50%</th>\n",
       "      <td>3904930410.000</td>\n",
       "      <td>3.000</td>\n",
       "      <td>2.250</td>\n",
       "      <td>1910.000</td>\n",
       "      <td>7618.000</td>\n",
       "      <td>1.500</td>\n",
       "      <td>0.000</td>\n",
       "      <td>0.000</td>\n",
       "      <td>3.000</td>\n",
       "      <td>7.000</td>\n",
       "      <td>...</td>\n",
       "      <td>0.000</td>\n",
       "      <td>1975.000</td>\n",
       "      <td>0.000</td>\n",
       "      <td>98065.000</td>\n",
       "      <td>47.572</td>\n",
       "      <td>-122.231</td>\n",
       "      <td>1840.000</td>\n",
       "      <td>7620.000</td>\n",
       "      <td>2014-10-16 00:00:00</td>\n",
       "      <td>450000.000</td>\n",
       "    </tr>\n",
       "    <tr>\n",
       "      <th>75%</th>\n",
       "      <td>7308900490.000</td>\n",
       "      <td>4.000</td>\n",
       "      <td>2.500</td>\n",
       "      <td>2550.000</td>\n",
       "      <td>10685.000</td>\n",
       "      <td>2.000</td>\n",
       "      <td>0.000</td>\n",
       "      <td>0.000</td>\n",
       "      <td>4.000</td>\n",
       "      <td>8.000</td>\n",
       "      <td>...</td>\n",
       "      <td>560.000</td>\n",
       "      <td>1997.000</td>\n",
       "      <td>0.000</td>\n",
       "      <td>98118.000</td>\n",
       "      <td>47.678</td>\n",
       "      <td>-122.125</td>\n",
       "      <td>2360.000</td>\n",
       "      <td>10083.000</td>\n",
       "      <td>2015-02-17 00:00:00</td>\n",
       "      <td>645000.000</td>\n",
       "    </tr>\n",
       "    <tr>\n",
       "      <th>max</th>\n",
       "      <td>9900000190.000</td>\n",
       "      <td>33.000</td>\n",
       "      <td>8.000</td>\n",
       "      <td>13540.000</td>\n",
       "      <td>1651359.000</td>\n",
       "      <td>3.500</td>\n",
       "      <td>1.000</td>\n",
       "      <td>4.000</td>\n",
       "      <td>5.000</td>\n",
       "      <td>13.000</td>\n",
       "      <td>...</td>\n",
       "      <td>4820.000</td>\n",
       "      <td>2015.000</td>\n",
       "      <td>20150.000</td>\n",
       "      <td>98199.000</td>\n",
       "      <td>47.778</td>\n",
       "      <td>-121.315</td>\n",
       "      <td>6210.000</td>\n",
       "      <td>871200.000</td>\n",
       "      <td>2015-05-27 00:00:00</td>\n",
       "      <td>7700000.000</td>\n",
       "    </tr>\n",
       "    <tr>\n",
       "      <th>std</th>\n",
       "      <td>2876735715.748</td>\n",
       "      <td>0.926</td>\n",
       "      <td>0.769</td>\n",
       "      <td>918.106</td>\n",
       "      <td>41412.637</td>\n",
       "      <td>0.540</td>\n",
       "      <td>0.087</td>\n",
       "      <td>0.766</td>\n",
       "      <td>0.651</td>\n",
       "      <td>1.173</td>\n",
       "      <td>...</td>\n",
       "      <td>442.491</td>\n",
       "      <td>29.375</td>\n",
       "      <td>4000.111</td>\n",
       "      <td>53.513</td>\n",
       "      <td>0.139</td>\n",
       "      <td>0.141</td>\n",
       "      <td>685.230</td>\n",
       "      <td>27274.442</td>\n",
       "      <td>NaN</td>\n",
       "      <td>367368.140</td>\n",
       "    </tr>\n",
       "  </tbody>\n",
       "</table>\n",
       "<p>8 rows × 21 columns</p>\n",
       "</div>"
      ],
      "text/plain": [
       "                  id  bedrooms  bathrooms  sqft_living    sqft_lot    floors  \\\n",
       "count      21597.000 21597.000  21597.000    21597.000   21597.000 21597.000   \n",
       "mean  4580474287.771     3.373      2.116     2080.322   15099.409     1.494   \n",
       "min      1000102.000     1.000      0.500      370.000     520.000     1.000   \n",
       "25%   2123049175.000     3.000      1.750     1430.000    5040.000     1.000   \n",
       "50%   3904930410.000     3.000      2.250     1910.000    7618.000     1.500   \n",
       "75%   7308900490.000     4.000      2.500     2550.000   10685.000     2.000   \n",
       "max   9900000190.000    33.000      8.000    13540.000 1651359.000     3.500   \n",
       "std   2876735715.748     0.926      0.769      918.106   41412.637     0.540   \n",
       "\n",
       "       waterfront      view  condition     grade  ...  sqft_basement  \\\n",
       "count   19206.000 21534.000  21597.000 21597.000  ...      21145.000   \n",
       "mean        0.008     0.234      3.410     7.658  ...        291.857   \n",
       "min         0.000     0.000      1.000     3.000  ...          0.000   \n",
       "25%         0.000     0.000      3.000     7.000  ...          0.000   \n",
       "50%         0.000     0.000      3.000     7.000  ...          0.000   \n",
       "75%         0.000     0.000      4.000     8.000  ...        560.000   \n",
       "max         1.000     4.000      5.000    13.000  ...       4820.000   \n",
       "std         0.087     0.766      0.651     1.173  ...        442.491   \n",
       "\n",
       "       yr_built  yr_renovated   zipcode       lat      long  sqft_living15  \\\n",
       "count 21597.000     17749.000 21597.000 21597.000 21597.000      21597.000   \n",
       "mean   1971.000       836.651 98077.952    47.560  -122.214       1986.620   \n",
       "min    1900.000         0.000 98001.000    47.156  -122.519        399.000   \n",
       "25%    1951.000         0.000 98033.000    47.471  -122.328       1490.000   \n",
       "50%    1975.000         0.000 98065.000    47.572  -122.231       1840.000   \n",
       "75%    1997.000         0.000 98118.000    47.678  -122.125       2360.000   \n",
       "max    2015.000     20150.000 98199.000    47.778  -121.315       6210.000   \n",
       "std      29.375      4000.111    53.513     0.139     0.141        685.230   \n",
       "\n",
       "       sqft_lot15                           date       price  \n",
       "count   21597.000                          21597   21597.000  \n",
       "mean    12758.284  2014-10-29 04:20:38.171968512  540296.574  \n",
       "min       651.000            2014-05-02 00:00:00   78000.000  \n",
       "25%      5100.000            2014-07-22 00:00:00  322000.000  \n",
       "50%      7620.000            2014-10-16 00:00:00  450000.000  \n",
       "75%     10083.000            2015-02-17 00:00:00  645000.000  \n",
       "max    871200.000            2015-05-27 00:00:00 7700000.000  \n",
       "std     27274.442                            NaN  367368.140  \n",
       "\n",
       "[8 rows x 21 columns]"
      ]
     },
     "execution_count": 17,
     "metadata": {},
     "output_type": "execute_result"
    }
   ],
   "source": [
    "df.describe()"
   ]
  },
  {
   "cell_type": "code",
   "execution_count": 18,
   "id": "3ea08ca6",
   "metadata": {},
   "outputs": [
    {
     "data": {
      "text/plain": [
       "array([1. , 2. , 1.5, 3. , 2.5, 3.5])"
      ]
     },
     "execution_count": 18,
     "metadata": {},
     "output_type": "execute_result"
    }
   ],
   "source": [
    "df['floors'].unique()"
   ]
  },
  {
   "cell_type": "code",
   "execution_count": 19,
   "id": "94f8f509",
   "metadata": {},
   "outputs": [
    {
     "data": {
      "text/plain": [
       "False    21597\n",
       "Name: count, dtype: int64"
      ]
     },
     "execution_count": 19,
     "metadata": {},
     "output_type": "execute_result"
    }
   ],
   "source": [
    "df.duplicated().value_counts()"
   ]
  },
  {
   "cell_type": "code",
   "execution_count": 20,
   "id": "1ada1acf",
   "metadata": {},
   "outputs": [
    {
     "data": {
      "text/plain": [
       "id                  0\n",
       "bedrooms            0\n",
       "bathrooms           0\n",
       "sqft_living         0\n",
       "sqft_lot            0\n",
       "floors              0\n",
       "waterfront       2391\n",
       "view               63\n",
       "condition           0\n",
       "grade               0\n",
       "sqft_above          0\n",
       "sqft_basement     452\n",
       "yr_built            0\n",
       "yr_renovated     3848\n",
       "zipcode             0\n",
       "lat                 0\n",
       "long                0\n",
       "sqft_living15       0\n",
       "sqft_lot15          0\n",
       "date                0\n",
       "price               0\n",
       "dtype: int64"
      ]
     },
     "execution_count": 20,
     "metadata": {},
     "output_type": "execute_result"
    }
   ],
   "source": [
    "import missingno as msno\n",
    "df.isna().sum()"
   ]
  },
  {
   "cell_type": "markdown",
   "id": "cddce9cd",
   "metadata": {},
   "source": [
    "Finding the ZIP codes for city center and countryside. First figure out how many and what kinds of different ZIP codes there are. (Answer: 70 zip codes + see below.) Google for the zip codes that are concidered Seattle center or the country side. Country zips correspond to nicer rural areas suitable for a vacation home."
   ]
  },
  {
   "cell_type": "code",
   "execution_count": 21,
   "id": "f3000cc1",
   "metadata": {},
   "outputs": [
    {
     "data": {
      "text/plain": [
       "70"
      ]
     },
     "execution_count": 21,
     "metadata": {},
     "output_type": "execute_result"
    }
   ],
   "source": [
    "df['zipcode'].nunique()\n",
    "#df['zipcode'].value_counts()"
   ]
  },
  {
   "cell_type": "code",
   "execution_count": 22,
   "id": "7f1b5874",
   "metadata": {},
   "outputs": [],
   "source": [
    "central_zips = [98101, 98102, 98104, 98109, 98119, 98122, 98144, 98105]\n",
    "#urban_zips_extended = central_zips + [\n",
    "#    98103, 98107, 98115, 98116, 98117, 98118, 98125, 98126, 98133, 98136, 98146,\n",
    "#    98004, 98005, 98006, 98007, 98008, 98033, 98034, 98039, 98040, 98052\n",
    "#]\n",
    "country_zips = [98010, 98014, 98024, 98045, 98051, 98065, 98068, 98072, 98077]\n",
    "\n",
    "#df['area_type'] = df['zipcode'].apply(lambda x: 'country' if x in country_zips else 'city')"
   ]
  },
  {
   "cell_type": "markdown",
   "id": "45d98054",
   "metadata": {},
   "source": [
    "Central houses.\n",
    "Since the client wants a house for two people, we only need houses with two bedrooms. This reduces the number of options to 274."
   ]
  },
  {
   "cell_type": "code",
   "execution_count": 23,
   "id": "370f07ed",
   "metadata": {},
   "outputs": [
    {
     "data": {
      "text/plain": [
       "(274, 21)"
      ]
     },
     "execution_count": 23,
     "metadata": {},
     "output_type": "execute_result"
    }
   ],
   "source": [
    "df_2bed_central = df[(df['bedrooms'] == 2) & (df['zipcode']).isin(central_zips)]\n",
    "df_2bed_central.shape"
   ]
  },
  {
   "cell_type": "code",
   "execution_count": 24,
   "id": "78c62bfb",
   "metadata": {},
   "outputs": [
    {
     "data": {
      "application/vnd.plotly.v1+json": {
       "config": {
        "plotlyServerURL": "https://plot.ly"
       },
       "data": [
        {
         "customdata": {
          "bdata": "AAAAAKDwGUEAAAAAYPP3QAAAAADAzRdBAAAAAGDz90AAAAAAcAonQQAAAABg8/dAAAAAAIBPIkEAAAAAYPP3QAAAAABAax1BAAAAAGDz90AAAAAAQHcrQQAAAABg8/dAAAAAAMBcFUEAAAAAYPP3QAAAAAAA2xpBAAAAAGDz90AAAAAA8O8gQQAAAABg8/dAAAAAAPBgI0EAAAAAYPP3QAAAAABAiRhBAAAAAGDz90AAAAAAoCwgQQAAAABg8/dAAAAAAODIIEEAAAAAYPP3QAAAAAC4pxhBAAAAAGDz90AAAAAAMN8YQQAAAABg8/dAAAAAADhpGEEAAAAAYPP3QAAAAABwHCRBAAAAAGDz90AAAAAA7EokQQAAAABg8/dAAAAAAKDSHkEAAAAAYPP3QAAAAAB48SNBAAAAAGDz90AAAAAAuIMeQQAAAABg8/dAAAAAAKAOJUEAAAAAYPP3QAAAAAA4aRhBAAAAAGDz90A=",
          "dtype": "f8",
          "shape": "23, 2"
         },
         "hovertemplate": "zip_str=98102<br>lat=%{lat}<br>long=%{lon}<br>price=%{customdata[0]}<br>zipcode=%{customdata[1]}<extra></extra>",
         "lat": {
          "bdata": "ZMxdS8jPR0CaCBueXtFHQEMc6+I20kdA7Q2+MJnSR0DuWkI+6NFHQAn5oGez0kdARwN4CyTQR0BEi2zn+9FHQO5aQj7o0UdAcvkP6bfPR0D8GHPXEtJHQHPXEvJBz0dAZMxdS8jPR0DD0ytlGdJHQP5l9+Rh0UdAYHZPHhbSR0DEQq1p3tFHQGDl0CLb0UdARGlv8IXRR0BvgQTFj9FHQAskKH6M0UdAcRsN4C3QR0Bgdk8eFtJHQA==",
          "dtype": "f8"
         },
         "legendgroup": "98102",
         "lon": {
          "bdata": "I9v5fmqUXsD4U+Olm5RewJMYBFYOlV7AsHJoke2UXsAUrkfhepRewD81XrpJlF7A2/l+aryUXsDb+X5qvJRewBSuR+F6lF7AI9v5fmqUXsCTGARWDpVewE5iEFg5lF7AI9v5fmqUXsCTGARWDpVewPhT46WblF7AkxgEVg6VXsCTGARWDpVewJMYBFYOlV7AsHJoke2UXsDb+X5qvJRewLByaJHtlF7A6SYxCKyUXsCTGARWDpVewA==",
          "dtype": "f8"
         },
         "marker": {
          "color": "rgb(102,194,165)"
         },
         "mode": "markers",
         "name": "98102",
         "showlegend": true,
         "subplot": "map",
         "type": "scattermap"
        },
        {
         "customdata": {
          "bdata": "AAAAAFjOIEEAAAAAkPP3QAAAAADQjyNBAAAAAJDz90AAAAAAYIogQQAAAACQ8/dAAAAAADjkIEEAAAAAkPP3QAAAAAAAQB9BAAAAAJDz90AAAAAAQOgdQQAAAACQ8/dAAAAAADAVIEEAAAAAkPP3QAAAAACIhCRBAAAAAJDz90AAAAAAoHMZQQAAAACQ8/dAAAAAAOAbGEEAAAAAkPP3QAAAAAAgoBxBAAAAAJDz90AAAAAA4G4fQQAAAACQ8/dAAAAAAHDyGkEAAAAAkPP3QAAAAAAgXyJBAAAAAJDz90AAAAAACBUfQQAAAACQ8/dAAAAAAMAgH0EAAAAAkPP3QAAAAABAdxtBAAAAAJDz90AAAAAAQF8fQQAAAACQ8/dAAAAAAOB6HUEAAAAAkPP3QAAAAABgsx5BAAAAAJDz90AAAAAAINAkQQAAAACQ8/dAAAAAAADbGkEAAAAAkPP3QAAAAABgSBtBAAAAAJDz90AAAAAAoGEcQQAAAACQ8/dAAAAAANCbIUEAAAAAkPP3QAAAAABI8yRBAAAAAJDz90AAAAAAgBMcQQAAAACQ8/dAAAAAAOCMGkEAAAAAkPP3QAAAAABIZCdBAAAAAJDz90AAAAAAgDEXQQAAAACQ8/dAAAAAAFjOIEEAAAAAkPP3QAAAAABg4yZBAAAAAJDz90AAAAAAIEcmQQAAAACQ8/dAAAAAAICKHUEAAAAAkPP3QAAAAAAwjCFBAAAAAJDz90AAAAAA4KolQQAAAACQ8/dAAAAAACDWI0EAAAAAkPP3QAAAAADAeiBBAAAAAJDz90AAAAAAGMggQQAAAACQ8/dAAAAAAPDvIEEAAAAAkPP3QAAAAABgASJBAAAAAJDz90A=",
          "dtype": "f8",
          "shape": "41, 2"
         },
         "hovertemplate": "zip_str=98105<br>lat=%{lat}<br>long=%{lon}<br>price=%{customdata[0]}<br>zipcode=%{customdata[1]}<extra></extra>",
         "lat": {
          "bdata": "2T15WKjVR0Ch+DHmrtVHQJOpglFJ1UdArrZif9nVR0Ch+DHmrtVHQC9uowG81UdAkxgEVg7VR0B2cRsN4NVHQAXFjzF31UdAWYY41sXVR0BLyAc9m9VHQIV80LNZ1UdAWmQ730/VR0Au/yH99tVHQL1SliGO1UdAaLPqc7XVR0DZPXlYqNVHQD0s1Jrm1UdAryXkg57VR0DLEMe6uNVHQL7BFyZT1UdA6Gor9pfVR0C9UpYhjtVHQECk374O1EdA24r9ZffUR0BZhjjWxdVHQJM6AU2E1UdAh6dXyjLUR0Dn+6nx0tVHQEvIBz2b1UdAvsEXJlPVR0BLyAc9m9VHQGdEaW/w1UdAaW/whcnUR0CTGARWDtVHQGlv8IXJ1EdAzhlR2hvUR0CvJeSDntVHQFvTvOMU1UdAW9O84xTVR0CF61G4HtVHQA==",
          "dtype": "f8"
         },
         "legendgroup": "98105",
         "lon": {
          "bdata": "XrpJDAKTXsCamZmZmZFewL6fGi/dlF7AokW28/2UXsBQjZduEpNewOkmMQislF7Avp8aL92UXsCLbOf7qZFewNv5fmq8lF7A/Knx0k2SXsDb+X5qvJRewArXo3A9kl7A7nw/NV6SXsBg5dAi25FewOkmMQislF7ADAIrhxaRXsBg5dAi25FewKJFtvP9lF7Avp8aL92UXsDD9Shcj5JewGDl0CLbkV7A30+Nl26SXsBOYhBYOZRewLByaJHtlF7AppvEILCSXsDfT42XbpJewNv5fmq8lF7A2/l+aryUXsB9PzVeupFewOkmMQislF7ACtejcD2SXsCkcD0K15NewJMYBFYOlV7AtMh2vp+SXsDfT42XbpJewM3MzMzMlF7Avp8aL92UXsBqvHSTGJRewBkEVg4tkl7AGQRWDi2SXsAK16NwPZJewA==",
          "dtype": "f8"
         },
         "marker": {
          "color": "rgb(252,141,98)"
         },
         "mode": "markers",
         "name": "98105",
         "showlegend": true,
         "subplot": "map",
         "type": "scattermap"
        },
        {
         "customdata": {
          "bdata": "AAAAAPCtG0EAAAAA0PP3QAAAAAAALR5BAAAAANDz90AAAAAAgMAkQQAAAADQ8/dAAAAAAKCpIEEAAAAA0PP3QAAAAABwKCJBAAAAANDz90AAAAAA0BIjQQAAAADQ8/dAAAAAACBlIUEAAAAA0PP3QAAAAABQLSlBAAAAANDz90AAAAAAEA4ZQQAAAADQ8/dAAAAAAID7H0EAAAAA0PP3QAAAAACgYSxBAAAAANDz90AAAAAAsBcaQQAAAADQ8/dAAAAAAKDwOUEAAAAA0PP3QAAAAABA7hxBAAAAANDz90AAAAAAyBkpQQAAAADQ8/dAAAAAAJhFI0EAAAAA0PP3QAAAAAAAdiZBAAAAANDz90AAAAAAwCwdQQAAAADQ8/dAAAAAAKDwKUEAAAAA0PP3QAAAAADAXCVBAAAAANDz90A=",
          "dtype": "f8",
          "shape": "20, 2"
         },
         "hovertemplate": "zip_str=98109<br>lat=%{lat}<br>long=%{lon}<br>price=%{customdata[0]}<br>zipcode=%{customdata[1]}<extra></extra>",
         "lat": {
          "bdata": "RwN4CyTQR0C3Yn/ZPdFHQG/whclU0UdAbcX+snvSR0C0yHa+n9JHQKg1zTtO0UdAqFfKMsTRR0Bhw9MrZdFHQFHaG3xh0kdAUWuad5zSR0BiEFg5tNBHQGEyVTAq0UdA8fRKWYbQR0B9PzVeutFHQHE9Ctej0EdAGJXUCWjSR0DSAN4CCdJHQMdLN4lB0EdA8fRKWYbQR0A2qz5XW9FHQA==",
          "dtype": "f8"
         },
         "legendgroup": "98109",
         "lon": {
          "bdata": "H4XrUbiWXsAfhetRuJZewKAaL90kll7AAiuHFtmWXsBKDAIrh5ZewEoMAiuHll7AZmZmZmaWXsBYObTIdpZewEoMAiuHll7ALbKd76eWXsCR7Xw/NZZewNnO91PjlV7AWDm0yHaWXsC8dJMYBJZewHWTGARWll7AAiuHFtmWXsA730+Nl5ZewK5H4XoUll7Ake18PzWWXsCgGi/dJJZewA==",
          "dtype": "f8"
         },
         "marker": {
          "color": "rgb(141,160,203)"
         },
         "mode": "markers",
         "name": "98109",
         "showlegend": true,
         "subplot": "map",
         "type": "scattermap"
        },
        {
         "customdata": {
          "bdata": "AAAAAFBLJEEAAAAAcPT3QAAAAACwxCJBAAAAAHD090AAAAAAdJwiQQAAAABw9PdAAAAAAHAWJUEAAAAAcPT3QAAAAABAdxtBAAAAAHD090AAAAAAoCwgQQAAAABw9PdAAAAAANASI0EAAAAAcPT3QAAAAADgqiVBAAAAAHD090AAAAAAcCgiQQAAAABw9PdAAAAAAJB2IkEAAAAAcPT3QAAAAADQEjNBAAAAAHD090AAAAAA0GUqQQAAAABw9PdAAAAAAFAtKUEAAAAAcPT3QAAAAABAlRZBAAAAAHD090AAAAAAgE8iQQAAAABw9PdAAAAAACBHFkEAAAAAcPT3QAAAAABg4yZBAAAAAHD090AAAAAAcCgiQQAAAABw9PdAAAAAABC1IkEAAAAAcPT3QAAAAADAaCNBAAAAAHD090AAAAAACGkhQQAAAABw9PdAAAAAAACOIkEAAAAAcPT3QAAAAACQBSBBAAAAAHD090AAAAAAYN0nQQAAAABw9PdAAAAAAGBIG0EAAAAAcPT3QAAAAAA6riJBAAAAAHD090AAAAAAkAUgQQAAAABw9PdAAAAAAKDwGUEAAAAAcPT3QAAAAAD43SBBAAAAAHD090AAAAAAwM0XQQAAAABw9PdAAAAAAODIIEEAAAAAcPT3QAAAAAAQAitBAAAAAHD090AAAAAAMP0jQQAAAABw9PdAAAAAAICiKUEAAAAAcPT3QAAAAABgxRtBAAAAAHD090AAAAAA4AMcQQAAAABw9PdAAAAAAHCrIUEAAAAAcPT3QAAAAADgdB5BAAAAAHD090AAAAAAkAUgQQAAAABw9PdAAAAAALCILEEAAAAAcPT3QAAAAADAuxpBAAAAAHD090A=",
          "dtype": "f8",
          "shape": "41, 2"
         },
         "hovertemplate": "zip_str=98119<br>lat=%{lat}<br>long=%{lon}<br>price=%{customdata[0]}<br>zipcode=%{customdata[1]}<extra></extra>",
         "lat": {
          "bdata": "NxrAWyDRR0BRa5p3nNJHQE9AE2HD00dAF7fRAN7SR0BBguLHmNNHQH3Qs1n10UdAU5YhjnXRR0CmCkYlddJHQLN78rBQ00dAYTJVMCrRR0BwzojS3tBHQNJvXwfO0UdAJzEIrBzSR0A2PL1SltFHQH/7OnDO0EdAF9nO91PTR0BSJ6CJsNFHQBpR2ht80UdAGXPXEvLRR0BDHOviNtJHQIqO5PIf0kdA4L4OnDPSR0DhC5OpgtFHQBpR2ht80UdAi2zn+6nRR0DPZtXnatNHQP5l9+Rh0UdA7zhFR3LRR0Aofoy5a9FHQKmkTkAT0UdA7C+7Jw/TR0BEaW/whdFHQAn5oGez0kdAm+Ydp+jQR0DHSzeJQdBHQO84RUdy0UdA8WPMXUvQR0DUK2UZ4tBHQBniWBe30UdAN4lBYOXQR0DvycNCrdFHQA==",
          "dtype": "f8"
         },
         "legendgroup": "98119",
         "lon": {
          "bdata": "9P3UeOmWXsAdWmQ735dewB1aZDvfl17AukkMAiuXXsAdWmQ735dewCuHFtnOl17AObTIdr6XXsBWDi2ynZdewEjhehSul17AyXa+nxqXXsCPwvUoXJdewNejcD0Kl17AHVpkO9+XXsAAAAAAAJhewGQ730+Nl17AZDvfT42XXsDl0CLb+ZZewI/C9Shcl17AObTIdr6XXsDJdr6fGpdewMl2vp8al17A16NwPQqXXsA5tMh2vpdewKwcWmQ7l17AAAAAAACYXsAOLbKd75dewJ7vp8ZLl17AZDvfT42XXsA5tMh2vpdewDm0yHa+l17AK4cW2c6XXsCPwvUoXJdewLpJDAIrl17AyXa+nxqXXsDJdr6fGpdewDm0yHa+l17A5dAi2/mWXsC6SQwCK5dewB1aZDvfl17AyXa+nxqXXsAAAAAAAJhewA==",
          "dtype": "f8"
         },
         "marker": {
          "color": "rgb(231,138,195)"
         },
         "mode": "markers",
         "name": "98119",
         "showlegend": true,
         "subplot": "map",
         "type": "scattermap"
        },
        {
         "customdata": {
          "bdata": "AAAAAGDjFkEAAAAAoPT3QAAAAADgkhlBAAAAAKD090AAAAAAIC8aQQAAAACg9PdAAAAAAGA2HkEAAAAAoPT3QAAAAACAJRlBAAAAAKD090AAAAAAwD4aQQAAAACg9PdAAAAAAICiGUEAAAAAoPT3QAAAAAAocxJBAAAAAKD090AAAAAA4IwaQQAAAACg9PdAAAAAAGABEkEAAAAAoPT3QAAAAAAAvQ9BAAAAAKD090AAAAAAwD4aQQAAAACg9PdAAAAAADBQG0EAAAAAoPT3QAAAAABg4yZBAAAAAKD090AAAAAAkHYiQQAAAACg9PdAAAAAAOCeF0EAAAAAoPT3QAAAAADwoR1BAAAAAKD090AAAAAAINYjQQAAAACg9PdAAAAAAMA4G0EAAAAAoPT3QAAAAACAExxBAAAAAKD090AAAAAAsMQiQQAAAACg9PdAAAAAAMDZFUEAAAAAoPT3QAAAAADAzRdBAAAAAKD090AAAAAAvFobQQAAAACg9PdAAAAAAPBgE0EAAAAAoPT3QAAAAACgVR5BAAAAAKD090AAAAAAwCAfQQAAAACg9PdAAAAAAIBPIkEAAAAAoPT3QAAAAAAA2xpBAAAAAKD090AAAAAAgIQeQQAAAACg9PdAAAAAAICcGkEAAAAAoPT3QAAAAABgURRBAAAAAKD090AAAAAAAGoYQQAAAACg9PdAAAAAAECVFkEAAAAAoPT3QAAAAADAnR9BAAAAAKD090AAAAAAwCAfQQAAAACg9PdAAAAAAMh4LkEAAAAAoPT3QAAAAABg4xZBAAAAAKD090AAAAAAAGoYQQAAAACg9PdAAAAAAKCpIEEAAAAAoPT3QAAAAAAgRxZBAAAAAKD090AAAAAAoPApQQAAAACg9PdAAAAAAJDnJEEAAAAAoPT3QAAAAABghCFBAAAAAKD090AAAAAAII4fQQAAAACg9PdAAAAAAMBcFUEAAAAAoPT3QAAAAABgARJBAAAAAKD090AAAAAAkAUgQQAAAACg9PdAAAAAABCSF0EAAAAAoPT3QAAAAADgPxJBAAAAAKD090AAAAAA4DkzQQAAAACg9PdAAAAAAAD5FUEAAAAAoPT3QAAAAADw7yBBAAAAAKD090AAAAAAAIgjQQAAAACg9PdAAAAAANASI0EAAAAAoPT3QAAAAAAAvR9BAAAAAKD090AAAAAAOPgVQQAAAACg9PdAAAAAACC4GEEAAAAAoPT3QAAAAADgAxxBAAAAAKD090AAAAAA4BUZQQAAAACg9PdAAAAAAACII0EAAAAAoPT3QAAAAABAdxtBAAAAAKD090AAAAAAgIQeQQAAAACg9PdAAAAAAB5HJkEAAAAAoPT3QAAAAABg4xZBAAAAAKD090A=",
          "dtype": "f8",
          "shape": "65, 2"
         },
         "hovertemplate": "zip_str=98122<br>lat=%{lat}<br>long=%{lon}<br>price=%{customdata[0]}<br>zipcode=%{customdata[1]}<extra></extra>",
         "lat": {
          "bdata": "L26jAbzNR0ADCYofY85HQCBB8WPMzUdAA3gLJCjOR0B2Tx4Was1HQDBMpgpGzUdAH/RsVn3OR0Ba9bnais1HQFpkO99PzUdABFYOLbLNR0D0bFZ9rs5HQPRsVn2uzkdAPnlYqDXNR0DmriXkg85HQNjw9EpZzkdAvJaQD3rOR0Dl0CLb+c5HQKyL22gAz0dA9wZfmEzNR0AQejarPs9HQMpUwaikzkdA845TdCTPR0ATYcPTK81HQPd14JwRzUdABOeMKO3NR0B1ApoIG85HQL1SliGOzUdAWmQ730/NR0DXo3A9Cs9HQMuhRbbzzUdAuycPC7XOR0DMXUvIB81HQCzUmuYdz0dA16NwPQrPR0ADCYofY85HQB4Wak3zzkdAWKg1zTvOR0CwA+eMKM1HQB/0bFZ9zkdAPnlYqDXNR0B2cRsN4M1HQDxO0ZFczkdAg1FJnYDOR0AsZRniWM9HQK7YX3ZPzkdAWvW52orNR0C6SQwCK89HQEoMAiuHzkdAPnlYqDXNR0DXo3A9Cs9HQFdbsb/szkdAc9cS8kHPR0BmiGNd3M5HQGUZ4lgXz0dAHhZqTfPOR0DJdr6fGs9HQIEExY8xz0dAdZMYBFbOR0CTGARWDs1HQL4wmSoYzUdALNSa5h3PR0CTGARWDs1HQFioNc07zkdAvAUSFD/OR0D1udqK/c1HQA==",
          "dtype": "f8"
         },
         "legendgroup": "98122",
         "lon": {
          "bdata": "wcqhRbaTXsCyne+nxpNewLTIdr6fkl7ApHA9CteTXsCHFtnO95NewM/3U+Olk17AXrpJDAKTXsB56SYxCJRewM/3U+Olk17AXrpJDAKTXsAzMzMzM5NewDMzMzMzk17ApHA9CteTXsDByqFFtpNewIlBYOXQkl7AXrpJDAKTXsCyne+nxpNewFCNl24Sk17Az/dT46WTXsAlBoGVQ5NewHsUrkfhkl7AUI2XbhKTXsCyne+nxpNewHsUrkfhkl7Az/dT46WTXsBCYOXQIpNewHsUrkfhkl7AlkOLbOeTXsBQjZduEpNewGq8dJMYlF7AmG4Sg8CSXsBCYOXQIpNewBfZzvdTk17AJQaBlUOTXsBqvHSTGJRewAisHFpkk17AmG4Sg8CSXsCyne+nxpNewF66SQwCk17AlkOLbOeTXsD6fmq8dJNewN9PjZdukl7AwcqhRbaTXsD6fmq8dJNewEJg5dAik17AI9v5fmqUXsB7FK5H4ZJewF66SQwCk17AwcqhRbaTXsBeukkMApNewLTIdr6fkl7AXrpJDAKTXsAX2c73U5NewDEIrBxalF7Aarx0kxiUXsCWQ4ts55NewCUGgZVDk17AexSuR+GSXsDByqFFtpNewGq8dJMYlF7AMQisHFqUXsDdJAaBlZNewLKd76fGk17Aarx0kxiUXsCkcD0K15NewA==",
          "dtype": "f8"
         },
         "marker": {
          "color": "rgb(166,216,84)"
         },
         "mode": "markers",
         "name": "98122",
         "showlegend": true,
         "subplot": "map",
         "type": "scattermap"
        },
        {
         "customdata": {
          "bdata": "AAAAALBTMEEAAAAAAPb3QAAAAACg8BlBAAAAAAD290AAAAAAOI8QQQAAAAAA9vdAAAAAAOAnFkEAAAAAAPb3QAAAAACgDhVBAAAAAAD290AAAAAA0KEgQQAAAAAA9vdAAAAAAEB3G0EAAAAAAPb3QAAAAABg4xZBAAAAAAD290AAAAAAmOIWQQAAAAAA9vdAAAAAACAwDkEAAAAAAPb3QAAAAADAUR5BAAAAAAD290AAAAAAQBgGQQAAAAAA9vdAAAAAAACIE0EAAAAAAPb3QAAAAABQsBhBAAAAAAD290AAAAAA4J4XQQAAAAAA9vdAAAAAAEAeFUEAAAAAAPb3QAAAAACQBSBBAAAAAAD290AAAAAAYH4SQQAAAAAA9vdAAAAAAACOEkEAAAAAAPb3QAAAAABAXw9BAAAAAAD290AAAAAAoA4VQQAAAAAA9vdAAAAAAICiGUEAAAAAAPb3QAAAAABgxRtBAAAAAAD290AAAAAAINYjQQAAAAAA9vdAAAAAACBlEUEAAAAAAPb3QAAAAABA6A1BAAAAAAD290AAAAAAuJ8hQQAAAAAA9vdAAAAAAGBOGkEAAAAAAPb3QAAAAADgmBhBAAAAAAD290AAAAAAAGoYQQAAAAAA9vdAAAAAACBlIUEAAAAAAPb3QAAAAACgnRJBAAAAAAD290AAAAAA0PQXQQAAAAAA9vdAAAAAAECVFkEAAAAAAPb3QAAAAACATxJBAAAAAAD290AAAAAAED4hQQAAAAAA9vdAAAAAAKAOFUEAAAAAAPb3QAAAAADgqhVBAAAAAAD290AAAAAAQLMRQQAAAAAA9vdAAAAAAEB3G0EAAAAAAPb3QAAAAACg8BlBAAAAAAD290AAAAAAwFwlQQAAAAAA9vdAAAAAAOAbGEEAAAAAAPb3QAAAAAAgRxZBAAAAAAD290AAAAAAEIoVQQAAAAAA9vdAAAAAALiHFUEAAAAAAPb3QAAAAAAAaihBAAAAAAD290AAAAAAQOgNQQAAAAAA9vdAAAAAAIA3FkEAAAAAAPb3QAAAAADAehBBAAAAAAD290AAAAAAICkbQQAAAAAA9vdAAAAAAKAOFUEAAAAAAPb3QAAAAADAzRdBAAAAAAD290AAAAAAgDEXQQAAAAAA9vdAAAAAAEB3G0EAAAAAAPb3QAAAAACIjxVBAAAAAAD290AAAAAAINAUQQAAAAAA9vdAAAAAAIDYEEEAAAAAAPb3QAAAAACgTx9BAAAAAAD290AAAAAAIE0VQQAAAAAA9vdAAAAAAPAvF0EAAAAAAPb3QAAAAACQ5xRBAAAAAAD290AAAAAAkGoUQQAAAAAA9vdAAAAAAJAFMEEAAAAAAPb3QAAAAABAEhdBAAAAAAD290AAAAAAILgYQQAAAAAA9vdAAAAAAIDAFEEAAAAAAPb3QAAAAACUGxRBAAAAAAD290AAAAAAwM0XQQAAAAAA9vdAAAAAABA+IUEAAAAAAPb3QAAAAACg6hpBAAAAAAD290AAAAAA8O8gQQAAAAAA9vdAAAAAAKAOFUEAAAAAAPb3QAAAAABAlRZBAAAAAAD290AAAAAAeKYTQQAAAAAA9vdAAAAAAFhAF0EAAAAAAPb3QAAAAADA0xZBAAAAAAD290AAAAAAwD4aQQAAAAAA9vdAAAAAAOCYGEEAAAAAAPb3QAAAAAAg1hNBAAAAAAD290AAAAAAoGcbQQAAAAAA9vdAAAAAABAgFkEAAAAAAPb3QAAAAADUihhBAAAAAAD290AAAAAAINYTQQAAAAAA9vdA",
          "dtype": "f8",
          "shape": "84, 2"
         },
         "hovertemplate": "zip_str=98144<br>lat=%{lat}<br>long=%{lon}<br>price=%{customdata[0]}<br>zipcode=%{customdata[1]}<extra></extra>",
         "lat": {
          "bdata": "s3vysFDLR0DOqs/VVsxHQBe30QDeykdAB84ZUdrLR0AGEhQ/xsxHQHctIR/0zEdAB84ZUdrLR0AkKH6MuctHQPrt68A5y0dAPzVeuknMR0BeukkMAstHQEMc6+I2ykdADJOpglHJR0D5MeauJcxHQECk374OzEdARdjw9ErJR0DPZtXnastHQEVHcvkPyUdAvp8aL93MR0Cyne+nxstHQNuK/WX3zEdAJQaBlUPLR0AwKqkT0MxHQEI+6NmsykdAT0ATYcPLR0Dr4jYawMtHQIenV8oyzEdATtGRXP7LR0DvOEVHcslHQAyTqYJRyUdAB84ZUdrLR0CIhVrTvMtHQCh+jLlryUdACRueXinLR0DQ1VbsL8tHQHicoiO5zEdABhIUP8bMR0Am5IOezcpHQPrt68A5y0dAwFsgQfHLR0B6Nqs+V8tHQF66SQwCy0dAexSuR+HKR0CkcD0K18tHQMHKoUW2y0dAaW/whcnMR0BOYhBYOcxHQOviNhrAy0dAFYxK6gTMR0Bv8IXJVMlHQOwvuycPy0dAB84ZUdrLR0CjAbwFEsxHQIZa07zjzEdAbHh6pSzLR0BB8WPMXctHQMSxLm6jyUdA8BZIUPzIR0ALtaZ5x8lHQFtCPujZzEdA3NeBc0bMR0DBqKROQMtHQO0NvjCZykdAaW/whcnMR0CkcD0K18tHQGB2Tx4WykdAiIVa07zLR0DtDb4wmcpHQCUGgZVDy0dApHA9CtfLR0Ai/fZ14MxHQKRwPQrXy0dAJQaBlUPLR0BAE2HD08tHQF8pyxDHykdAYHZPHhbKR0BdbcX+sstHQMP1KFyPykdAtoR80LPJR0AJih9j7spHQN21hHzQy0dApHA9CtfLR0AHX5hMFcxHQNxGA3gLzEdA",
          "dtype": "f8"
         },
         "legendgroup": "98144",
         "lon": {
          "bdata": "tMh2vp+SXsBCYOXQIpNewBfZzvdTk17AexSuR+GSXsDdJAaBlZNewLTIdr6fkl7Abef7qfGSXsCYbhKDwJJewE5iEFg5lF7AlkOLbOeTXsB7FK5H4ZJewN0kBoGVk17AhxbZzveTXsDP91PjpZNewFCNl24Sk17AwcqhRbaTXsCyne+nxpNewN9PjZdukl7A3SQGgZWTXsB7FK5H4ZJewEJg5dAik17A+n5qvHSTXsBQjZduEpNewJhuEoPAkl7AXrpJDAKTXsB7FK5H4ZJewIlBYOXQkl7AJQaBlUOTXsB56SYxCJRewN0kBoGVk17AmG4Sg8CSXsBeukkMApNewM/3U+Olk17AwcqhRbaTXsCWQ4ts55NewO58PzVekl7AMzMzMzOTXsBOYhBYOZRewFCNl24Sk17AwcqhRbaTXsCmm8QgsJJewKabxCCwkl7AiUFg5dCSXsB7FK5H4ZJewHsUrkfhkl7AMzMzMzOTXsCJQWDl0JJewHsUrkfhkl7AF9nO91OTXsCkcD0K15NewCUGgZVDk17AMzMzMzOTXsAX2c73U5NewOxRuB6Fk17AiUFg5dCSXsCJQWDl0JJewAisHFpkk17A7nw/NV6SXsDRItv5fpJewEJg5dAik17AUI2XbhKTXsD6fmq8dJNewGq8dJMYlF7A/Knx0k2SXsB7FK5H4ZJewFyPwvUolF7AexSuR+GSXsBqvHSTGJRewPp+arx0k17AF9nO91OTXsDsUbgehZNewBfZzvdTk17A7FG4HoWTXsB7FK5H4ZJewGq8dJMYlF7AXI/C9SiUXsB7FK5H4ZJewHnpJjEIlF7Asp3vp8aTXsB56SYxCJRewG3n+6nxkl7AexSuR+GSXsBCYOXQIpNewEJg5dAik17A",
          "dtype": "f8"
         },
         "marker": {
          "color": "rgb(255,217,47)"
         },
         "mode": "markers",
         "name": "98144",
         "showlegend": true,
         "subplot": "map",
         "type": "scattermap"
        }
       ],
       "layout": {
        "height": 600,
        "legend": {
         "title": {
          "text": "ZIP code"
         },
         "tracegroupgap": 0
        },
        "map": {
         "center": {
          "lat": 47.62087481751824,
          "lon": -122.31726277372263
         },
         "domain": {
          "x": [
           0,
           1
          ],
          "y": [
           0,
           1
          ]
         },
         "zoom": 9
        },
        "mapbox": {
         "center": {
          "lat": 47.62087481751824,
          "lon": -122.31726277372263
         },
         "style": "open-street-map",
         "zoom": 9
        },
        "margin": {
         "b": 0,
         "l": 0,
         "r": 0,
         "t": 40
        },
        "template": {
         "data": {
          "bar": [
           {
            "error_x": {
             "color": "#2a3f5f"
            },
            "error_y": {
             "color": "#2a3f5f"
            },
            "marker": {
             "line": {
              "color": "#E5ECF6",
              "width": 0.5
             },
             "pattern": {
              "fillmode": "overlay",
              "size": 10,
              "solidity": 0.2
             }
            },
            "type": "bar"
           }
          ],
          "barpolar": [
           {
            "marker": {
             "line": {
              "color": "#E5ECF6",
              "width": 0.5
             },
             "pattern": {
              "fillmode": "overlay",
              "size": 10,
              "solidity": 0.2
             }
            },
            "type": "barpolar"
           }
          ],
          "carpet": [
           {
            "aaxis": {
             "endlinecolor": "#2a3f5f",
             "gridcolor": "white",
             "linecolor": "white",
             "minorgridcolor": "white",
             "startlinecolor": "#2a3f5f"
            },
            "baxis": {
             "endlinecolor": "#2a3f5f",
             "gridcolor": "white",
             "linecolor": "white",
             "minorgridcolor": "white",
             "startlinecolor": "#2a3f5f"
            },
            "type": "carpet"
           }
          ],
          "choropleth": [
           {
            "colorbar": {
             "outlinewidth": 0,
             "ticks": ""
            },
            "type": "choropleth"
           }
          ],
          "contour": [
           {
            "colorbar": {
             "outlinewidth": 0,
             "ticks": ""
            },
            "colorscale": [
             [
              0,
              "#0d0887"
             ],
             [
              0.1111111111111111,
              "#46039f"
             ],
             [
              0.2222222222222222,
              "#7201a8"
             ],
             [
              0.3333333333333333,
              "#9c179e"
             ],
             [
              0.4444444444444444,
              "#bd3786"
             ],
             [
              0.5555555555555556,
              "#d8576b"
             ],
             [
              0.6666666666666666,
              "#ed7953"
             ],
             [
              0.7777777777777778,
              "#fb9f3a"
             ],
             [
              0.8888888888888888,
              "#fdca26"
             ],
             [
              1,
              "#f0f921"
             ]
            ],
            "type": "contour"
           }
          ],
          "contourcarpet": [
           {
            "colorbar": {
             "outlinewidth": 0,
             "ticks": ""
            },
            "type": "contourcarpet"
           }
          ],
          "heatmap": [
           {
            "colorbar": {
             "outlinewidth": 0,
             "ticks": ""
            },
            "colorscale": [
             [
              0,
              "#0d0887"
             ],
             [
              0.1111111111111111,
              "#46039f"
             ],
             [
              0.2222222222222222,
              "#7201a8"
             ],
             [
              0.3333333333333333,
              "#9c179e"
             ],
             [
              0.4444444444444444,
              "#bd3786"
             ],
             [
              0.5555555555555556,
              "#d8576b"
             ],
             [
              0.6666666666666666,
              "#ed7953"
             ],
             [
              0.7777777777777778,
              "#fb9f3a"
             ],
             [
              0.8888888888888888,
              "#fdca26"
             ],
             [
              1,
              "#f0f921"
             ]
            ],
            "type": "heatmap"
           }
          ],
          "histogram": [
           {
            "marker": {
             "pattern": {
              "fillmode": "overlay",
              "size": 10,
              "solidity": 0.2
             }
            },
            "type": "histogram"
           }
          ],
          "histogram2d": [
           {
            "colorbar": {
             "outlinewidth": 0,
             "ticks": ""
            },
            "colorscale": [
             [
              0,
              "#0d0887"
             ],
             [
              0.1111111111111111,
              "#46039f"
             ],
             [
              0.2222222222222222,
              "#7201a8"
             ],
             [
              0.3333333333333333,
              "#9c179e"
             ],
             [
              0.4444444444444444,
              "#bd3786"
             ],
             [
              0.5555555555555556,
              "#d8576b"
             ],
             [
              0.6666666666666666,
              "#ed7953"
             ],
             [
              0.7777777777777778,
              "#fb9f3a"
             ],
             [
              0.8888888888888888,
              "#fdca26"
             ],
             [
              1,
              "#f0f921"
             ]
            ],
            "type": "histogram2d"
           }
          ],
          "histogram2dcontour": [
           {
            "colorbar": {
             "outlinewidth": 0,
             "ticks": ""
            },
            "colorscale": [
             [
              0,
              "#0d0887"
             ],
             [
              0.1111111111111111,
              "#46039f"
             ],
             [
              0.2222222222222222,
              "#7201a8"
             ],
             [
              0.3333333333333333,
              "#9c179e"
             ],
             [
              0.4444444444444444,
              "#bd3786"
             ],
             [
              0.5555555555555556,
              "#d8576b"
             ],
             [
              0.6666666666666666,
              "#ed7953"
             ],
             [
              0.7777777777777778,
              "#fb9f3a"
             ],
             [
              0.8888888888888888,
              "#fdca26"
             ],
             [
              1,
              "#f0f921"
             ]
            ],
            "type": "histogram2dcontour"
           }
          ],
          "mesh3d": [
           {
            "colorbar": {
             "outlinewidth": 0,
             "ticks": ""
            },
            "type": "mesh3d"
           }
          ],
          "parcoords": [
           {
            "line": {
             "colorbar": {
              "outlinewidth": 0,
              "ticks": ""
             }
            },
            "type": "parcoords"
           }
          ],
          "pie": [
           {
            "automargin": true,
            "type": "pie"
           }
          ],
          "scatter": [
           {
            "fillpattern": {
             "fillmode": "overlay",
             "size": 10,
             "solidity": 0.2
            },
            "type": "scatter"
           }
          ],
          "scatter3d": [
           {
            "line": {
             "colorbar": {
              "outlinewidth": 0,
              "ticks": ""
             }
            },
            "marker": {
             "colorbar": {
              "outlinewidth": 0,
              "ticks": ""
             }
            },
            "type": "scatter3d"
           }
          ],
          "scattercarpet": [
           {
            "marker": {
             "colorbar": {
              "outlinewidth": 0,
              "ticks": ""
             }
            },
            "type": "scattercarpet"
           }
          ],
          "scattergeo": [
           {
            "marker": {
             "colorbar": {
              "outlinewidth": 0,
              "ticks": ""
             }
            },
            "type": "scattergeo"
           }
          ],
          "scattergl": [
           {
            "marker": {
             "colorbar": {
              "outlinewidth": 0,
              "ticks": ""
             }
            },
            "type": "scattergl"
           }
          ],
          "scattermap": [
           {
            "marker": {
             "colorbar": {
              "outlinewidth": 0,
              "ticks": ""
             }
            },
            "type": "scattermap"
           }
          ],
          "scattermapbox": [
           {
            "marker": {
             "colorbar": {
              "outlinewidth": 0,
              "ticks": ""
             }
            },
            "type": "scattermapbox"
           }
          ],
          "scatterpolar": [
           {
            "marker": {
             "colorbar": {
              "outlinewidth": 0,
              "ticks": ""
             }
            },
            "type": "scatterpolar"
           }
          ],
          "scatterpolargl": [
           {
            "marker": {
             "colorbar": {
              "outlinewidth": 0,
              "ticks": ""
             }
            },
            "type": "scatterpolargl"
           }
          ],
          "scatterternary": [
           {
            "marker": {
             "colorbar": {
              "outlinewidth": 0,
              "ticks": ""
             }
            },
            "type": "scatterternary"
           }
          ],
          "surface": [
           {
            "colorbar": {
             "outlinewidth": 0,
             "ticks": ""
            },
            "colorscale": [
             [
              0,
              "#0d0887"
             ],
             [
              0.1111111111111111,
              "#46039f"
             ],
             [
              0.2222222222222222,
              "#7201a8"
             ],
             [
              0.3333333333333333,
              "#9c179e"
             ],
             [
              0.4444444444444444,
              "#bd3786"
             ],
             [
              0.5555555555555556,
              "#d8576b"
             ],
             [
              0.6666666666666666,
              "#ed7953"
             ],
             [
              0.7777777777777778,
              "#fb9f3a"
             ],
             [
              0.8888888888888888,
              "#fdca26"
             ],
             [
              1,
              "#f0f921"
             ]
            ],
            "type": "surface"
           }
          ],
          "table": [
           {
            "cells": {
             "fill": {
              "color": "#EBF0F8"
             },
             "line": {
              "color": "white"
             }
            },
            "header": {
             "fill": {
              "color": "#C8D4E3"
             },
             "line": {
              "color": "white"
             }
            },
            "type": "table"
           }
          ]
         },
         "layout": {
          "annotationdefaults": {
           "arrowcolor": "#2a3f5f",
           "arrowhead": 0,
           "arrowwidth": 1
          },
          "autotypenumbers": "strict",
          "coloraxis": {
           "colorbar": {
            "outlinewidth": 0,
            "ticks": ""
           }
          },
          "colorscale": {
           "diverging": [
            [
             0,
             "#8e0152"
            ],
            [
             0.1,
             "#c51b7d"
            ],
            [
             0.2,
             "#de77ae"
            ],
            [
             0.3,
             "#f1b6da"
            ],
            [
             0.4,
             "#fde0ef"
            ],
            [
             0.5,
             "#f7f7f7"
            ],
            [
             0.6,
             "#e6f5d0"
            ],
            [
             0.7,
             "#b8e186"
            ],
            [
             0.8,
             "#7fbc41"
            ],
            [
             0.9,
             "#4d9221"
            ],
            [
             1,
             "#276419"
            ]
           ],
           "sequential": [
            [
             0,
             "#0d0887"
            ],
            [
             0.1111111111111111,
             "#46039f"
            ],
            [
             0.2222222222222222,
             "#7201a8"
            ],
            [
             0.3333333333333333,
             "#9c179e"
            ],
            [
             0.4444444444444444,
             "#bd3786"
            ],
            [
             0.5555555555555556,
             "#d8576b"
            ],
            [
             0.6666666666666666,
             "#ed7953"
            ],
            [
             0.7777777777777778,
             "#fb9f3a"
            ],
            [
             0.8888888888888888,
             "#fdca26"
            ],
            [
             1,
             "#f0f921"
            ]
           ],
           "sequentialminus": [
            [
             0,
             "#0d0887"
            ],
            [
             0.1111111111111111,
             "#46039f"
            ],
            [
             0.2222222222222222,
             "#7201a8"
            ],
            [
             0.3333333333333333,
             "#9c179e"
            ],
            [
             0.4444444444444444,
             "#bd3786"
            ],
            [
             0.5555555555555556,
             "#d8576b"
            ],
            [
             0.6666666666666666,
             "#ed7953"
            ],
            [
             0.7777777777777778,
             "#fb9f3a"
            ],
            [
             0.8888888888888888,
             "#fdca26"
            ],
            [
             1,
             "#f0f921"
            ]
           ]
          },
          "colorway": [
           "#636efa",
           "#EF553B",
           "#00cc96",
           "#ab63fa",
           "#FFA15A",
           "#19d3f3",
           "#FF6692",
           "#B6E880",
           "#FF97FF",
           "#FECB52"
          ],
          "font": {
           "color": "#2a3f5f"
          },
          "geo": {
           "bgcolor": "white",
           "lakecolor": "white",
           "landcolor": "#E5ECF6",
           "showlakes": true,
           "showland": true,
           "subunitcolor": "white"
          },
          "hoverlabel": {
           "align": "left"
          },
          "hovermode": "closest",
          "mapbox": {
           "style": "light"
          },
          "paper_bgcolor": "white",
          "plot_bgcolor": "#E5ECF6",
          "polar": {
           "angularaxis": {
            "gridcolor": "white",
            "linecolor": "white",
            "ticks": ""
           },
           "bgcolor": "#E5ECF6",
           "radialaxis": {
            "gridcolor": "white",
            "linecolor": "white",
            "ticks": ""
           }
          },
          "scene": {
           "xaxis": {
            "backgroundcolor": "#E5ECF6",
            "gridcolor": "white",
            "gridwidth": 2,
            "linecolor": "white",
            "showbackground": true,
            "ticks": "",
            "zerolinecolor": "white"
           },
           "yaxis": {
            "backgroundcolor": "#E5ECF6",
            "gridcolor": "white",
            "gridwidth": 2,
            "linecolor": "white",
            "showbackground": true,
            "ticks": "",
            "zerolinecolor": "white"
           },
           "zaxis": {
            "backgroundcolor": "#E5ECF6",
            "gridcolor": "white",
            "gridwidth": 2,
            "linecolor": "white",
            "showbackground": true,
            "ticks": "",
            "zerolinecolor": "white"
           }
          },
          "shapedefaults": {
           "line": {
            "color": "#2a3f5f"
           }
          },
          "ternary": {
           "aaxis": {
            "gridcolor": "white",
            "linecolor": "white",
            "ticks": ""
           },
           "baxis": {
            "gridcolor": "white",
            "linecolor": "white",
            "ticks": ""
           },
           "bgcolor": "#E5ECF6",
           "caxis": {
            "gridcolor": "white",
            "linecolor": "white",
            "ticks": ""
           }
          },
          "title": {
           "x": 0.05
          },
          "xaxis": {
           "automargin": true,
           "gridcolor": "white",
           "linecolor": "white",
           "ticks": "",
           "title": {
            "standoff": 15
           },
           "zerolinecolor": "white",
           "zerolinewidth": 2
          },
          "yaxis": {
           "automargin": true,
           "gridcolor": "white",
           "linecolor": "white",
           "ticks": "",
           "title": {
            "standoff": 15
           },
           "zerolinecolor": "white",
           "zerolinewidth": 2
          }
         }
        },
        "title": {
         "text": "Houses by ZIP"
        }
       }
      }
     },
     "metadata": {},
     "output_type": "display_data"
    }
   ],
   "source": [
    "import plotly.express as px\n",
    "df_2bed_central_map = (df_2bed_central.rename(columns={\"latitude\":\"lat\",\"longitude\":\"lon\"})\n",
    "                       .assign(zip_str=lambda d: d[\"zipcode\"].astype(str)))\n",
    "\n",
    "zip_order = sorted(df_2bed_central_map[\"zip_str\"].unique())\n",
    "\n",
    "palette = px.colors.qualitative.Set2\n",
    "\n",
    "fig_map_center = px.scatter_map(\n",
    "    df_2bed_central_map,\n",
    "    lat=\"lat\", \n",
    "    lon=\"long\",\n",
    "    color=\"zip_str\",\n",
    "    category_orders={\"zip_str\": zip_order},\n",
    "    color_discrete_sequence=palette,\n",
    "    hover_data=[\"price\",\"zipcode\"],\n",
    "    zoom=9, \n",
    "    height=600,\n",
    "    title=\"Houses by ZIP\"\n",
    ")\n",
    "fig_map_center.update_layout(mapbox_style=\"open-street-map\", margin=dict(l=0,r=0,t=40,b=0), legend_title_text=\"ZIP code\")\n",
    "\n",
    "fig_map_center"
   ]
  },
  {
   "cell_type": "markdown",
   "id": "dffc3671",
   "metadata": {},
   "source": [
    "Now let's figure out the pricing."
   ]
  },
  {
   "cell_type": "code",
   "execution_count": 25,
   "id": "2f964829",
   "metadata": {},
   "outputs": [
    {
     "data": {
      "text/plain": [
       "18061   1700000.000\n",
       "19896   1260000.000\n",
       "7421    1250000.000\n",
       "218     1070000.000\n",
       "20234   1050000.000\n",
       "13015    998500.000\n",
       "21301    935000.000\n",
       "15148    930000.000\n",
       "7189     900000.000\n",
       "19464    885000.000\n",
       "Name: price, dtype: float64"
      ]
     },
     "execution_count": 25,
     "metadata": {},
     "output_type": "execute_result"
    }
   ],
   "source": [
    "df_2bed_central['price'].nunique()\n",
    "df_2bed_central['price'].nsmallest(5)\n",
    "df_2bed_central['price'].nlargest(10)"
   ]
  },
  {
   "cell_type": "code",
   "execution_count": 26,
   "id": "3a9eb909",
   "metadata": {},
   "outputs": [
    {
     "data": {
      "text/html": [
       "<div>\n",
       "<style scoped>\n",
       "    .dataframe tbody tr th:only-of-type {\n",
       "        vertical-align: middle;\n",
       "    }\n",
       "\n",
       "    .dataframe tbody tr th {\n",
       "        vertical-align: top;\n",
       "    }\n",
       "\n",
       "    .dataframe thead th {\n",
       "        text-align: right;\n",
       "    }\n",
       "</style>\n",
       "<table border=\"1\" class=\"dataframe\">\n",
       "  <thead>\n",
       "    <tr style=\"text-align: right;\">\n",
       "      <th></th>\n",
       "      <th>zipcode</th>\n",
       "      <th>price</th>\n",
       "    </tr>\n",
       "  </thead>\n",
       "  <tbody>\n",
       "    <tr>\n",
       "      <th>0</th>\n",
       "      <td>98102</td>\n",
       "      <td>534684.783</td>\n",
       "    </tr>\n",
       "    <tr>\n",
       "      <th>1</th>\n",
       "      <td>98105</td>\n",
       "      <td>544411.561</td>\n",
       "    </tr>\n",
       "    <tr>\n",
       "      <th>2</th>\n",
       "      <td>98109</td>\n",
       "      <td>673645.000</td>\n",
       "    </tr>\n",
       "    <tr>\n",
       "      <th>3</th>\n",
       "      <td>98119</td>\n",
       "      <td>615175.000</td>\n",
       "    </tr>\n",
       "    <tr>\n",
       "      <th>4</th>\n",
       "      <td>98122</td>\n",
       "      <td>486638.062</td>\n",
       "    </tr>\n",
       "    <tr>\n",
       "      <th>5</th>\n",
       "      <td>98144</td>\n",
       "      <td>407804.262</td>\n",
       "    </tr>\n",
       "  </tbody>\n",
       "</table>\n",
       "</div>"
      ],
      "text/plain": [
       "   zipcode      price\n",
       "0    98102 534684.783\n",
       "1    98105 544411.561\n",
       "2    98109 673645.000\n",
       "3    98119 615175.000\n",
       "4    98122 486638.062\n",
       "5    98144 407804.262"
      ]
     },
     "execution_count": 26,
     "metadata": {},
     "output_type": "execute_result"
    }
   ],
   "source": [
    "av_price_by_zip = df_2bed_central.groupby('zipcode')['price'].mean().reset_index().sort_values(by='zipcode')\n",
    "av_price_by_zip.head(8)"
   ]
  },
  {
   "cell_type": "code",
   "execution_count": 27,
   "id": "21fba7d6",
   "metadata": {},
   "outputs": [
    {
     "data": {
      "image/png": "[encoded data removed]",
      "text/plain": [
       "<Figure size 800x400 with 1 Axes>"
      ]
     },
     "metadata": {},
     "output_type": "display_data"
    }
   ],
   "source": [
    "plt.figure(figsize=(8,4))\n",
    "sns.barplot(data=av_price_by_zip, x=\"zipcode\", y=\"price\", palette=\"viridis\")\n",
    "plt.title(\"Average House Price by ZIP Code\")\n",
    "plt.xlabel(\"ZIP Code\")\n",
    "plt.ylabel(\"Average Price (USD)\")\n",
    "plt.xticks(rotation=90)\n",
    "plt.ticklabel_format(style='plain', axis='y')\n",
    "plt.show()"
   ]
  },
  {
   "cell_type": "markdown",
   "id": "04dfad54",
   "metadata": {},
   "source": [
    "Apparently, some of the zip areas are more affluent than the others. What about the total distribution of prices?"
   ]
  },
  {
   "cell_type": "code",
   "execution_count": 28,
   "id": "53135fe1",
   "metadata": {},
   "outputs": [
    {
     "data": {
      "text/plain": [
       "count       274.000\n",
       "mean     508031.865\n",
       "std      182264.717\n",
       "min      181000.000\n",
       "25%      387000.000\n",
       "50%      460000.000\n",
       "75%      595000.000\n",
       "max     1700000.000\n",
       "Name: price, dtype: float64"
      ]
     },
     "execution_count": 28,
     "metadata": {},
     "output_type": "execute_result"
    }
   ],
   "source": [
    "df_2bed_central['price'].describe()"
   ]
  },
  {
   "cell_type": "code",
   "execution_count": 29,
   "id": "0b0b0f5e",
   "metadata": {},
   "outputs": [
    {
     "data": {
      "image/png": "[encoded data removed]",
      "text/plain": [
       "<Figure size 800x500 with 1 Axes>"
      ]
     },
     "metadata": {},
     "output_type": "display_data"
    }
   ],
   "source": [
    "sns.histplot(df_2bed_central['price'], bins=50, kde=True)\n",
    "plt.title(\"Distribution of House Prices\")\n",
    "plt.xlabel(\"Price in USD\")\n",
    "plt.ylabel(\"Number of houses\")\n",
    "plt.ticklabel_format(style='plain', axis='x')\n",
    "plt.show()"
   ]
  },
  {
   "cell_type": "markdown",
   "id": "5f1c6ccd",
   "metadata": {},
   "source": [
    "Because the distribution is skewed, it would be reasonable to focus on the bulk of the houses, prices for which lay between approximately 250000 and 800000 USD. Let's separate them into price categories and see what each of them has to offer. The categories are based on the largest and smallest prices (the extremes were removed) and the quartiles from the descriptive statistics above. "
   ]
  },
  {
   "cell_type": "code",
   "execution_count": 30,
   "id": "dc74a1dd",
   "metadata": {},
   "outputs": [
    {
     "data": {
      "text/plain": [
       "price_category\n",
       "up to 390000    74\n",
       "up to 460000    63\n",
       "up to 595000    69\n",
       "up to 800000    50\n",
       "Name: count, dtype: int64"
      ]
     },
     "execution_count": 30,
     "metadata": {},
     "output_type": "execute_result"
    }
   ],
   "source": [
    "bins = [245000, 390000, 460000, 595000, 800000]\n",
    "labels = ['up to 390000', 'up to 460000', 'up to 595000', 'up to 800000']\n",
    "df_2bed_central[\"price_category\"] = pd.cut(df_2bed_central[\"price\"], bins=bins, labels=labels, include_lowest=True)\n",
    "df_2bed_central[\"price_category\"].value_counts().sort_index()"
   ]
  },
  {
   "cell_type": "code",
   "execution_count": 125,
   "id": "a41b7e5e",
   "metadata": {},
   "outputs": [
    {
     "data": {
      "text/plain": [
       "Index(['id', 'bedrooms', 'bathrooms', 'sqft_living', 'sqft_lot', 'floors',\n",
       "       'waterfront', 'view', 'condition', 'grade', 'sqft_above',\n",
       "       'sqft_basement', 'yr_built', 'yr_renovated', 'zipcode', 'lat', 'long',\n",
       "       'sqft_living15', 'sqft_lot15', 'date', 'price', 'price_category',\n",
       "       'decade'],\n",
       "      dtype='object')"
      ]
     },
     "execution_count": 125,
     "metadata": {},
     "output_type": "execute_result"
    }
   ],
   "source": [
    "df_2bed_central.columns"
   ]
  },
  {
   "cell_type": "code",
   "execution_count": null,
   "id": "be8155bd",
   "metadata": {},
   "outputs": [
    {
     "data": {
      "text/html": [
       "<div>\n",
       "<style scoped>\n",
       "    .dataframe tbody tr th:only-of-type {\n",
       "        vertical-align: middle;\n",
       "    }\n",
       "\n",
       "    .dataframe tbody tr th {\n",
       "        vertical-align: top;\n",
       "    }\n",
       "\n",
       "    .dataframe thead th {\n",
       "        text-align: right;\n",
       "    }\n",
       "</style>\n",
       "<table border=\"1\" class=\"dataframe\">\n",
       "  <thead>\n",
       "    <tr style=\"text-align: right;\">\n",
       "      <th></th>\n",
       "      <th>sqft_living</th>\n",
       "      <th>sqft_lot</th>\n",
       "      <th>sqft_living15</th>\n",
       "      <th>sqft_lot15</th>\n",
       "      <th>bathrooms</th>\n",
       "      <th>floors</th>\n",
       "      <th>condition</th>\n",
       "      <th>grade</th>\n",
       "    </tr>\n",
       "    <tr>\n",
       "      <th>price_category</th>\n",
       "      <th></th>\n",
       "      <th></th>\n",
       "      <th></th>\n",
       "      <th></th>\n",
       "      <th></th>\n",
       "      <th></th>\n",
       "      <th></th>\n",
       "      <th></th>\n",
       "    </tr>\n",
       "  </thead>\n",
       "  <tbody>\n",
       "    <tr>\n",
       "      <th>up to 390000</th>\n",
       "      <td>991.900</td>\n",
       "      <td>2070.100</td>\n",
       "      <td>1320.500</td>\n",
       "      <td>2646.600</td>\n",
       "      <td>1.400</td>\n",
       "      <td>1.700</td>\n",
       "      <td>3.100</td>\n",
       "      <td>7.000</td>\n",
       "    </tr>\n",
       "    <tr>\n",
       "      <th>up to 460000</th>\n",
       "      <td>1119.900</td>\n",
       "      <td>2509.700</td>\n",
       "      <td>1469.800</td>\n",
       "      <td>2982.500</td>\n",
       "      <td>1.600</td>\n",
       "      <td>1.700</td>\n",
       "      <td>3.400</td>\n",
       "      <td>7.200</td>\n",
       "    </tr>\n",
       "    <tr>\n",
       "      <th>up to 595000</th>\n",
       "      <td>1291.200</td>\n",
       "      <td>2897.300</td>\n",
       "      <td>1552.900</td>\n",
       "      <td>3109.800</td>\n",
       "      <td>1.600</td>\n",
       "      <td>1.500</td>\n",
       "      <td>3.300</td>\n",
       "      <td>7.200</td>\n",
       "    </tr>\n",
       "    <tr>\n",
       "      <th>up to 800000</th>\n",
       "      <td>1459.400</td>\n",
       "      <td>3407.800</td>\n",
       "      <td>1745.500</td>\n",
       "      <td>3598.200</td>\n",
       "      <td>1.600</td>\n",
       "      <td>1.600</td>\n",
       "      <td>3.500</td>\n",
       "      <td>7.800</td>\n",
       "    </tr>\n",
       "  </tbody>\n",
       "</table>\n",
       "</div>"
      ],
      "text/plain": [
       "                sqft_living  sqft_lot  sqft_living15  sqft_lot15  bathrooms  \\\n",
       "price_category                                                                \n",
       "up to 390000        991.900  2070.100       1320.500    2646.600      1.400   \n",
       "up to 460000       1119.900  2509.700       1469.800    2982.500      1.600   \n",
       "up to 595000       1291.200  2897.300       1552.900    3109.800      1.600   \n",
       "up to 800000       1459.400  3407.800       1745.500    3598.200      1.600   \n",
       "\n",
       "                floors  condition  grade  \n",
       "price_category                            \n",
       "up to 390000     1.700      3.100  7.000  \n",
       "up to 460000     1.700      3.400  7.200  \n",
       "up to 595000     1.500      3.300  7.200  \n",
       "up to 800000     1.600      3.500  7.800  "
      ]
     },
     "execution_count": 126,
     "metadata": {},
     "output_type": "execute_result"
    }
   ],
   "source": [
    "df_2bed_central.groupby(\"price_category\")[[\"sqft_living\", \"sqft_lot\", \"sqft_living15\", \"sqft_lot15\", \n",
    "                                           \"bathrooms\", \"floors\", \"condition\", \"grade\"]].mean().round(1)"
   ]
  },
  {
   "cell_type": "code",
   "execution_count": 127,
   "id": "4f58e720",
   "metadata": {},
   "outputs": [
    {
     "data": {
      "text/html": [
       "<div>\n",
       "<style scoped>\n",
       "    .dataframe tbody tr th:only-of-type {\n",
       "        vertical-align: middle;\n",
       "    }\n",
       "\n",
       "    .dataframe tbody tr th {\n",
       "        vertical-align: top;\n",
       "    }\n",
       "\n",
       "    .dataframe thead th {\n",
       "        text-align: right;\n",
       "    }\n",
       "</style>\n",
       "<table border=\"1\" class=\"dataframe\">\n",
       "  <thead>\n",
       "    <tr style=\"text-align: right;\">\n",
       "      <th></th>\n",
       "      <th>sqft_living</th>\n",
       "      <th>sqft_lot</th>\n",
       "      <th>sqft_living15</th>\n",
       "      <th>sqft_lot15</th>\n",
       "      <th>bathrooms</th>\n",
       "      <th>floors</th>\n",
       "      <th>condition</th>\n",
       "      <th>grade</th>\n",
       "    </tr>\n",
       "    <tr>\n",
       "      <th>price_category</th>\n",
       "      <th></th>\n",
       "      <th></th>\n",
       "      <th></th>\n",
       "      <th></th>\n",
       "      <th></th>\n",
       "      <th></th>\n",
       "      <th></th>\n",
       "      <th></th>\n",
       "    </tr>\n",
       "  </thead>\n",
       "  <tbody>\n",
       "    <tr>\n",
       "      <th>up to 390000</th>\n",
       "      <td>980.000</td>\n",
       "      <td>1604.500</td>\n",
       "      <td>1290.000</td>\n",
       "      <td>2118.000</td>\n",
       "      <td>1.500</td>\n",
       "      <td>2.000</td>\n",
       "      <td>3.000</td>\n",
       "      <td>7.000</td>\n",
       "    </tr>\n",
       "    <tr>\n",
       "      <th>up to 460000</th>\n",
       "      <td>1090.000</td>\n",
       "      <td>1709.000</td>\n",
       "      <td>1390.000</td>\n",
       "      <td>3000.000</td>\n",
       "      <td>1.500</td>\n",
       "      <td>2.000</td>\n",
       "      <td>3.000</td>\n",
       "      <td>7.000</td>\n",
       "    </tr>\n",
       "    <tr>\n",
       "      <th>up to 595000</th>\n",
       "      <td>1200.000</td>\n",
       "      <td>3060.000</td>\n",
       "      <td>1580.000</td>\n",
       "      <td>3600.000</td>\n",
       "      <td>1.500</td>\n",
       "      <td>1.500</td>\n",
       "      <td>3.000</td>\n",
       "      <td>7.000</td>\n",
       "    </tr>\n",
       "    <tr>\n",
       "      <th>up to 800000</th>\n",
       "      <td>1450.000</td>\n",
       "      <td>3550.000</td>\n",
       "      <td>1680.000</td>\n",
       "      <td>3620.000</td>\n",
       "      <td>1.625</td>\n",
       "      <td>1.500</td>\n",
       "      <td>3.000</td>\n",
       "      <td>8.000</td>\n",
       "    </tr>\n",
       "  </tbody>\n",
       "</table>\n",
       "</div>"
      ],
      "text/plain": [
       "                sqft_living  sqft_lot  sqft_living15  sqft_lot15  bathrooms  \\\n",
       "price_category                                                                \n",
       "up to 390000        980.000  1604.500       1290.000    2118.000      1.500   \n",
       "up to 460000       1090.000  1709.000       1390.000    3000.000      1.500   \n",
       "up to 595000       1200.000  3060.000       1580.000    3600.000      1.500   \n",
       "up to 800000       1450.000  3550.000       1680.000    3620.000      1.625   \n",
       "\n",
       "                floors  condition  grade  \n",
       "price_category                            \n",
       "up to 390000     2.000      3.000  7.000  \n",
       "up to 460000     2.000      3.000  7.000  \n",
       "up to 595000     1.500      3.000  7.000  \n",
       "up to 800000     1.500      3.000  8.000  "
      ]
     },
     "execution_count": 127,
     "metadata": {},
     "output_type": "execute_result"
    }
   ],
   "source": [
    "df_2bed_central.groupby(\"price_category\")[[\"sqft_living\", \"sqft_lot\", \"sqft_living15\", \"sqft_lot15\", \n",
    "                                           \"bathrooms\", \"floors\", \"condition\", \"grade\"]].median()"
   ]
  },
  {
   "cell_type": "code",
   "execution_count": 32,
   "id": "8b4da5c2",
   "metadata": {},
   "outputs": [
    {
     "data": {
      "image/png": "[encoded data removed]",
      "text/plain": [
       "<Figure size 800x500 with 1 Axes>"
      ]
     },
     "metadata": {},
     "output_type": "display_data"
    }
   ],
   "source": [
    "df_2bed_central[\"decade\"] = (df_2bed_central[\"yr_built\"] // 10) * 10\n",
    "\n",
    "sns.countplot(\n",
    "    data=df_2bed_central[df_2bed_central[\"price_category\"] == \"up to 390000\"],\n",
    "    x=\"decade\",\n",
    "    color=\"skyblue\"\n",
    ")\n",
    "plt.title(\"Number of Houses Built per Decade (≤390k USD)\")\n",
    "plt.xlabel(\"Decade\")\n",
    "plt.ylabel(\"Count\")\n",
    "plt.xticks(rotation=45)\n",
    "plt.show()"
   ]
  },
  {
   "cell_type": "code",
   "execution_count": 33,
   "id": "75deee8e",
   "metadata": {},
   "outputs": [
    {
     "data": {
      "image/png": "[encoded data removed]",
      "text/plain": [
       "<Figure size 800x500 with 1 Axes>"
      ]
     },
     "metadata": {},
     "output_type": "display_data"
    }
   ],
   "source": [
    "sns.countplot(\n",
    "    data=df_2bed_central[df_2bed_central[\"price_category\"] == \"up to 460000\"],\n",
    "    x=\"decade\",\n",
    "    color=\"skyblue\"\n",
    ")\n",
    "plt.title(\"Number of Houses Built per Decade (≤460k USD)\")\n",
    "plt.xlabel(\"Decade\")\n",
    "plt.ylabel(\"Count\")\n",
    "plt.xticks(rotation=45)\n",
    "plt.show()"
   ]
  },
  {
   "cell_type": "code",
   "execution_count": 34,
   "id": "046ea67a",
   "metadata": {},
   "outputs": [
    {
     "data": {
      "text/plain": [
       "price_category\n",
       "up to 390000    2000\n",
       "up to 460000    2000\n",
       "up to 595000    2000\n",
       "up to 800000    1920\n",
       "Name: decade, dtype: int64"
      ]
     },
     "execution_count": 34,
     "metadata": {},
     "output_type": "execute_result"
    }
   ],
   "source": [
    "df_2bed_central.groupby('price_category')['decade'].agg(pd.Series.mode)"
   ]
  },
  {
   "cell_type": "markdown",
   "id": "d5a18cf3",
   "metadata": {},
   "source": [
    "Country houses.\n",
    "\n",
    "First, we look at all the countryhouses in the suitable zip area. After the first glance at the map, I noticed several outliers where either the ZIP code or the latitude/longitude were wrong. No I will throw them away."
   ]
  },
  {
   "cell_type": "code",
   "execution_count": 149,
   "id": "ba9b312e",
   "metadata": {},
   "outputs": [
    {
     "data": {
      "text/plain": [
       "(1303, 21)"
      ]
     },
     "execution_count": 149,
     "metadata": {},
     "output_type": "execute_result"
    }
   ],
   "source": [
    "df_all_country = df[df['zipcode'].isin(country_zips)]\n",
    "df_all_country.shape"
   ]
  },
  {
   "cell_type": "code",
   "execution_count": 150,
   "id": "2658ee3a",
   "metadata": {},
   "outputs": [
    {
     "data": {
      "text/plain": [
       "(1288, 21)"
      ]
     },
     "execution_count": 150,
     "metadata": {},
     "output_type": "execute_result"
    }
   ],
   "source": [
    "df_all_country = df_all_country[df_all_country[\"long\"] < -121.417]\n",
    "df_all_country.shape"
   ]
  },
  {
   "cell_type": "code",
   "execution_count": 151,
   "id": "f49d402b",
   "metadata": {},
   "outputs": [
    {
     "data": {
      "application/vnd.plotly.v1+json": {
       "config": {
        "plotlyServerURL": "https://plot.ly"
       },
       "data": [
        {
         "customdata": {
          "bdata": "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",
          "dtype": "f8",
          "shape": "100, 3"
         },
         "hovertemplate": "zip_str=98010<br>lat=%{lat}<br>long=%{lon}<br>price=%{customdata[0]}<br>zipcode=%{customdata[1]}<br>id=%{customdata[2]}<extra></extra>",
         "lat": {
          "bdata": "sp3vp8arR0Dc14FzRqxHQDm0yHa+p0dA1edqK/anR0BVMCqpE6hHQFZ9rrZip0dAXW3F/rKrR0DTTWIQWKlHQBlz1xLyqUdAXf5D+u2rR0CASL99HahHQBIUP8bcrUdAOpLLf0inR0BTBaOSOqlHQPkP6bevq0dApgpGJXWqR0CzDHGsi6tHQAK8BRIUp0dAMzMzMzOrR0BkXdxGA6hHQBKDwMqhrUdAp3nHKTqqR0CdEaW9wadHQM9m1edqq0dAYOXQItupR0BXW7G/7K5HQNnO91PjrUdA1QloImywR0A5RUdy+adHQJM6AU2EpUdAGy/dJAapR0D7XG3F/qpHQMiYu5aQp0dAGeJYF7epR0DecYqO5KpHQPwYc9cSqkdA2c73U+OtR0BzaJHtfKdHQLMMcayLq0dA+aBns+qrR0AJih9j7qpHQE+vlGWIq0dAyAc9m1WnR0AFNBE2PK1HQJyiI7n8p0dApU5AE2GrR0DgLZCg+KlHQMHKoUW2q0dABcWPMXetR0DjNhrAW7BHQMoyxLEurkdAC7WmecepR0DVeOkmMahHQH0/NV66qUdAorQ3+MKsR0Ay5q4l5KtHQMcpOpLLp0dA2ht8YTKtR0B1ApoIG65HQMPTK2UZqkdAq8/VVuynR0DMf0i/fa1HQEHxY8xdq0dApHA9CterR0AAb4EExadHQBHHuriNrkdAx7q4jQaoR0D5oGez6qtHQHUCmggbrkdAdQKaCBuuR0AkufyH9KtHQMKGp1fKqkdAk6mCUUmtR0APnDOitKdHQJ+rrdhfrkdAlrIMcayrR0Ag0m9fB65HQHlYqDXNq0dAD5wzorSnR0ArhxbZzqdHQLHh6ZWyrEdAp3nHKTqqR0AwTKYKRq1HQHh6pSxDrEdAAAAAAACoR0DBOSNKe6tHQNV46SYxqEdAUkmdgCaqR0COdXEbDahHQMBbIEHxq0dA7C+7Jw+rR0ASFD/G3K1HQCZTBaOSqkdAwTkjSnurR0By+Q/pt6dHQABvgQTFp0dA1XjpJjGoR0BhMlUwKqlHQHEbDeAtqEdAVg4tsp2nR0A=",
          "dtype": "f8"
         },
         "legendgroup": "98010",
         "lon": {
          "bdata": "mpmZmZmBXsDNzMzMzHxewNNNYhBYgV7AObTIdr5/XsAdWmQ7339ewGIQWDm0gF7AXrpJDAKDXsCJQWDl0IJewPLSTWIQgF7AmpmZmZmBXsC28/3UeIFewBfZzvdTe17ARrbz/dSAXsBvEoPAynlewFCNl24Sg17AF9nO91N7XsBt5/up8YJewAAAAAAAgF7AUI2XbhKDXsC28/3UeIFewFyPwvUofF7Abef7qfGCXsAOLbKd739ewMUgsHJoeV7A0SLb+X6CXsA730+Nl35ewGZmZmZmfl7A1XjpJjGAXsC28/3UeIFewHNoke18f17Ac2iR7Xx3XsAnMQisHIJewKrx0k1igF7A001iEFh5XsCJQWDl0IJewGIQWDm0gF7ArBxaZDt/XsBGtvP91HhewG3n+6nxgl7AUrgeheuBXsBEi2zn+4FewAaBlUOLfF7AqvHSTWKAXsBzaJHtfH9ewNV46SYxgF7AUI2XbhKDXsCq8dJNYoBewGDl0CLbgV7Aj8L1KFx/XsDy0k1iEIBewK5H4XoUfl7A30+Nl26CXsDy0k1iEIBewO58PzVegl7AI9v5fmp8XsD8qfHSTYJewHsUrkfhgl7AAiuHFtl+XsDJdr6fGn9ewPLSTWIQgF7AKVyPwvWAXsDJdr6fGn9ewCcxCKwcgl7AUrgeheuBXsDy0k1iEIBewIXrUbgefV7A46WbxCCAXsBQjZduEoNewKwcWmQ7f17ArBxaZDt/XsBCYOXQIoNewIlBYOXQgl7AyXa+nxp/XsCmm8QgsIJewKAaL90kfl7AJQaBlUODXsBeukkMAntewAisHFpkg17AtvP91HiBXsDVeOkmMYBewKRwPQrXe17Abef7qfGCXsBqvHSTGHxewOkmMQisfF7AHVpkO99/XsCYbhKDwHpewAAAAAAAgF7A8tJNYhCAXsC28/3UeIFewO58PzVegl7AJzEIrByCXsBeukkMAntewG3n+6nxgl7AUI2XbhKDXsCq8dJNYoBewA4tsp3vf17AtvP91HiBXsBcj8L1KHxewKjGSzeJgV7A46WbxCCAXsA=",
          "dtype": "f8"
         },
         "marker": {
          "color": "rgb(102,194,165)"
         },
         "mode": "markers",
         "name": "98010",
         "showlegend": true,
         "subplot": "map",
         "type": "scattermap"
        },
        {
         "customdata": {
          "bdata": "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",
          "dtype": "f8",
          "shape": "110, 3"
         },
         "hovertemplate": "zip_str=98014<br>lat=%{lat}<br>long=%{lon}<br>price=%{customdata[0]}<br>zipcode=%{customdata[1]}<br>id=%{customdata[2]}<extra></extra>",
         "lat": {
          "bdata": "ZmZmZmbWR0DQ1VbsL9NHQP+ye/Kw2EdA4zYawFvYR0BeS8gHPdNHQDj4wmSq2EdAF0hQ/BjTR0CGONbFbdRHQKYKRiV10kdAfoy5awnRR0DtDb4wmdJHQAHeAgmKz0dAjLlrCfnYR0AUP8bctdRHQHgLJCh+1EdAYVRSJ6DZR0BiEFg5tNhHQNBE2PD00kdAnl4pyxDXR0AbL90kBtlHQNDVVuwv00dAaW/whcnUR0CitDf4wtRHQDarPldb2UdAvw6cM6LUR0AXSFD8GNNHQM6I0t7g00dAH4XrUbjOR0BlGeJYF9dHQOM2GsBb2EdAS+oENBHWR0ApXI/C9dhHQHnpJjEI1EdAvHSTGATWR0Am5IOezdJHQF3cRgN400dARwN4CyTYR0CFfNCzWdVHQF8pyxDH2kdA1JrmHafQR0D/snvysNhHQIcW2c7300dAwcqhRbbTR0A1XrpJDNpHQFFrmnec0kdAGlHaG3zZR0CzDHGsi9NHQECk374O1EdAvAUSFD/OR0CQoPgx5s5HQEoMAiuH1kdA/tR46SbZR0Aep+hILtdHQMdLN4lB2EdAfT81XrrZR0CU9gZfmNRHQNnO91PjzUdA3+ALk6nSR0Df4AuTqdJHQF5LyAc900dAfa62Yn/RR0DGbTSAt9hHQFR0JJf/2EdAMuauJeTTR0DvOEVHctlHQGHD0ytl0UdASFD8GHPXR0CqYFRSJ9BHQPH0SlmG2EdAKVyPwvXYR0Bg5dAi29lHQNDVVuwv00dAF0hQ/BjTR0ClvcEXJtNHQKqCUUmd2EdA0NVW7C/TR0Di6ZWyDNlHQEXY8PRK2UdAtMh2vp/SR0C0yHa+n9JHQME5I0p700dAaW/whcnUR0CgibDh6c1HQEhQ/Bhz10dAcT0K16PQR0Ce76fGS9dHQG1Wfa620kdAm1Wfq63YR0A4+MJkqthHQNNNYhBY2UdAbVZ9rrbSR0DOiNLe4NNHQIEmwoanz0dADr4wmSrYR0AbDeAtkNBHQKOSOgFN1EdAz2bV52rTR0CppE5AE9lHQJoIG55e2UdAuB6F61HYR0Bhw9MrZdlHQJwzorQ32EdAcayL22jYR0Db+X5qvNRHQKJFtvP91EdAOPjCZKrYR0BdbcX+stNHQOwvuycP00dAqoJRSZ3YR0CcxCCwctBHQA==",
          "dtype": "f8"
         },
         "legendgroup": "98014",
         "lon": {
          "bdata": "LbKd76d2XsAZBFYOLXpewEjhehSud17Aw/UoXI96XsAnMQisHHpewN9PjZduel7AJzEIrBx6XsA9CtejcH1ewLbz/dR4eV7AFK5H4Xp8XsDufD81XnpewAaBlUOLfF7Anu+nxkt3XsAhsHJokX1ewAaBlUOLfF7A7nw/NV56XsBkO99PjXdewLTIdr6fel7AJzEIrBx6XsDJdr6fGndewCcxCKwcel7Avp8aL918XsAv3SQGgX1ewAAAAAAAeF7AhetRuB59XsAnMQisHHpewO58PzVeel7AkxgEVg59XsDfT42XbnpewPp+arx0e17Aj8L1KFx3XsCYbhKDwHpewO58PzVeel7Anu+nxkt3XsDFILByaHlewFK4HoXreV7A/Knx0k16XsAMAiuHFnlewAwCK4cWeV7A/Knx0k16XsBkO99PjXdewN9PjZduel7AXI/C9Sh8XsDwp8ZLN3lewH0/NV66eV7A+FPjpZt8XsDb+X5qvHxewBkEVg4tel7AsHJoke18XsCiRbbz/XxewJzEILByeF7AXrpJDAJ7XsDD9Shcj3pewO58PzVeel7AAiuHFtl2XsAMAiuHFnlewLByaJHtfF7AYOXQItt5XsBg5dAi23lewPyp8dJNel7A6SYxCKx8XsBt5/up8XpewNEi2/l+el7AJzEIrBx6XsDD9Shcj3pewFyPwvUofF7ANV66SQx6XsA9CtejcH1ewLTIdr6fel7Aw/UoXI96XsAMAiuHFnlewLTIdr6fel7Aw/UoXI96XsAnMQisHHpewHsUrkfhel7Aw/UoXI96XsDfT42XbnpewLTIdr6fel7Ai2zn+6l5XsCLbOf7qXlewE5iEFg5fF7AZDvfT413XsDhehSuR3lewMP1KFyPel7AmpmZmZl5XsDfT42XbnpewBkEVg4tel7ASOF6FK53XsCLbOf7qXlewHsUrkfhel7AYOXQItt5XsDfT42XbnpewFYOLbKdd17AGQRWDi16XsD8qfHSTXpewCGwcmiRfV7ARIts5/t5XsBt5/up8XpewKabxCCwel7A30+Nl256XsDufD81XnpewN9PjZduel7AppvEILB6XsAj2/l+anxewNV46SYxeF7AexSuR+F6XsBMN4lBYH1ewPyp8dJNel7AVg4tsp13XsCoxks3iXlewA==",
          "dtype": "f8"
         },
         "marker": {
          "color": "rgb(252,141,98)"
         },
         "mode": "markers",
         "name": "98014",
         "showlegend": true,
         "subplot": "map",
         "type": "scattermap"
        },
        {
         "customdata": {
          "bdata": "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",
          "dtype": "f8",
          "shape": "80, 3"
         },
         "hovertemplate": "zip_str=98024<br>lat=%{lat}<br>long=%{lon}<br>price=%{customdata[0]}<br>zipcode=%{customdata[1]}<br>id=%{customdata[2]}<extra></extra>",
         "lat": {
          "bdata": "sHJoke3ER0Abnl4py8hHQMSxLm6jyUdA6gQ0ETbMR0Ch1jTvOM1HQKyt2F92x0dA5IOezarHR0Atsp3vp8ZHQI51cRsNyEdA5BQdyeXHR0AhH/RsVs1HQBdIUPwYw0dAG55eKcvIR0BCYOXQIsNHQBBYObTIxkdA8fRKWYbIR0APnDOitMdHQF5LyAc9w0dARwN4CyTIR0CcxCCwcshHQBx8YTJVyEdAGw3gLZDIR0A6I0p7g8dHQDojSnuDx0dAW7G/7J7MR0C5/If028dHQC9uowG8xUdAVg4tsp3HR0DqBDQRNsRHQPjCZKpgxEdArIvbaADHR0Byio7k8sdHQHL5D+m3x0dAQmDl0CLDR0Cq8dJNYshHQAN4CyQoxkdAGw3gLZDIR0CwcmiR7cRHQEaU9gZfyEdAdLUV+8vGR0D+Q/rt68hHQFYOLbKdx0dA2T15WKjNR0BGlPYGX8hHQP8h/fZ1yEdAdQKaCBvGR0BGlPYGX8hHQCxlGeJYx0dAf2q8dJPIR0Bjf9k9echHQDeJQWDlyEdAHcnlP6THR0CMSuoENMlHQHlYqDXNw0dA8fRKWYbIR0AAkX77OshHQJ0Rpb3Bx0dAHOviNhrIR0BUUiegichHQBx8YTJVyEdAjgbwFkjIR0Bj7lpCPshHQAkbnl4pw0dAOGdEaW/IR0Djx5i7lshHQNxoAG+BxEdAAG+BBMXHR0A/xty1hMRHQEa28/3UyEdAObTIdr7HR0AQWDm0yMZHQFZ9rrZix0dAKqkT0ETIR0DdtYR80MNHQHKKjuTyx0dACKwcWmTDR0DBqKROQMNHQPCnxks3yUdAeHqlLEPER0AX2c73U8tHQA==",
          "dtype": "f8"
         },
         "legendgroup": "98024",
         "lon": {
          "bdata": "/Knx0k16XsCoxks3iXlewM3MzMzMfF7AzczMzMx8XsAxCKwcWnxewEoMAiuHdl7A/Knx0k16XsApXI/C9XhewJhuEoPAel7A5dAi2/l2XsB3vp8aL31ewCUGgZVDe17AtvP91Hh5XsAlBoGVQ3tewAaBlUOLfF7AfT81Xrp5XsDXo3A9CndewOxRuB6Fe17Az/dT46V7XsDwp8ZLN3lewClcj8L1eF7AUrgehet5XsBg5dAi23lewGDl0CLbeV7A2/l+arx8XsCoxks3iXlewOxRuB6Fe17Ac2iR7Xx3XsApXI/C9XhewI2XbhKDeF7ADAIrhxZ5XsBCYOXQIntewPCnxks3eV7A3SQGgZV7XsApXI/C9XhewGIQWDm0eF7Ad76fGi99XsDTTWIQWHlewPCnxks3eV7ADAIrhxZ5XsC28/3UeHlewIts5/upeV7AsHJoke18XsApXI/C9XhewFTjpZvEeF7A7FG4HoV7XsD6fmq8dHtewClcj8L1eF7A/tR46SZ5XsBiEFg5tHhewH0/NV66eV7AZmZmZmZ2XsDRItv5fnpewIts5/upeV7ANV66SQx6XsDFILByaHlewDvfT42Xdl7Ai2zn+6l5XsBSuB6F63lewH0/NV66eV7AbxKDwMp5XsC28/3UeHlewCUGgZVDe17ArBxaZDt3XsApXI/C9XhewI2XbhKDeF7AL90kBoF9XsDFILByaHlewCGwcmiRfV7AUrgehet5XsBU46WbxHhewBsv3SQGeV7ApHA9Ctd7XsBU46WbxHhewLpJDAIrd17AVOOlm8R4XsBiEFg5tHhewCUGgZVDe17AwcqhRbZ7XsBqvHSTGHxewA==",
          "dtype": "f8"
         },
         "marker": {
          "color": "rgb(141,160,203)"
         },
         "mode": "markers",
         "name": "98024",
         "showlegend": true,
         "subplot": "map",
         "type": "scattermap"
        },
        {
         "customdata": {
          "bdata": "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",
          "dtype": "f8",
          "shape": "219, 3"
         },
         "hovertemplate": "zip_str=98045<br>lat=%{lat}<br>long=%{lon}<br>price=%{customdata[0]}<br>zipcode=%{customdata[1]}<br>id=%{customdata[2]}<extra></extra>",
         "lat": {
          "bdata": "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",
          "dtype": "f8"
         },
         "legendgroup": "98045",
         "lon": {
          "bdata": "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",
          "dtype": "f8"
         },
         "marker": {
          "color": "rgb(231,138,195)"
         },
         "mode": "markers",
         "name": "98045",
         "showlegend": true,
         "subplot": "map",
         "type": "scattermap"
        },
        {
         "customdata": {
          "bdata": "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",
          "dtype": "f8",
          "shape": "308, 3"
         },
         "hovertemplate": "zip_str=98065<br>lat=%{lat}<br>long=%{lon}<br>price=%{customdata[0]}<br>zipcode=%{customdata[1]}<br>id=%{customdata[2]}<extra></extra>",
         "lat": {
          "bdata": "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",
          "dtype": "f8"
         },
         "legendgroup": "98065",
         "lon": {
          "bdata": "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",
          "dtype": "f8"
         },
         "marker": {
          "color": "rgb(166,216,84)"
         },
         "mode": "markers",
         "name": "98065",
         "showlegend": true,
         "subplot": "map",
         "type": "scattermap"
        },
        {
         "customdata": {
          "bdata": "AAAAAOCAHEEAAAAAgPH3QAAA4E6U4PpBAAAAADgWIUEAAAAAgPH3QAAAAOwy4qdBAAAAAPBOFkEAAAAAgPH3QAAA8JQnugFCAAAAAABqGEEAAAAAgPH3QAAAABJGb9pBAAAAANBNHkEAAAAAgPH3QAAAALVvydZBAAAAAOC2E0EAAAAAgPH3QAAAgDeZdtpBAAAAAIArGEEAAAAAgPH3QAAAAHgkdtpBAAAAAABMHUEAAAAAgPH3QAAAsJmyoQFCAAAAAOD9HEEAAAAAgPH3QAAA4KuW4PpBAAAAAKDwGUEAAAAAgPH3QAAAAOskdtpBAAAAABA+IUEAAAAAgPH3QAAAgKGyoQFCAAAAAHAcJEEAAAAAgPH3QAAAwJmgTNhBAAAAAGDjFkEAAAAAgPH3QAAAAIzG8qpBAAAAAKAOFUEAAAAAgPH3QAAAwAKCov1BAAAAAABeGkEAAAAAgPH3QAAAgC8kdtpBAAAAACC+F0EAAAAAgPH3QAAAgH88NQFCAAAAAFDpK0EAAAAAgPH3QAAAwG5VfeJBAAAAAKhIKUEAAAAAgPH3QAAAwLDzZ+9BAAAAAICiGUEAAAAAgPH3QAAAYFuU4PpBAAAAAAC9H0EAAAAAgPH3QAAAsCg6hgFCAAAAAFiDIEEAAAAAgPH3QAAAANeR4PpBAAAAAHDyKkEAAAAAgPH3QAAAAH9VfeJBAAAAAOD9HEEAAAAAgPH3QAAAwI3zZ+9BAAAAAKAgIkEAAAAAgPH3QAAAQAmbVOFBAAAAAIBPIkEAAAAAgPH3QAAAwECeSutBAAAAABiqFUEAAAAAgPH3QAAA4K+ElPBBAAAAANASI0EAAAAAgPH3QAAAwAmsY+lBAAAAAJSTJEEAAAAAgPH3QAAAAN108tBBAAAAAOD9HEEAAAAAgPH3QAAAwEWeAPpBAAAAAGjcIEEAAAAAgPH3QAAAwHWPZ+RBAAAAALBBE0EAAAAAgPH3QAAAgGEkdtpBAAAAAJDtE0EAAAAAgPH3QAAAgLNt4uxBAAAAAGABIkEAAAAAgPH3QAAAYC7xJO5BAAAAALCmJ0EAAAAAgPH3QAAAQORes9xBAAAAAGBUGUEAAAAAgPH3QAAAAFoLRdJBAAAAAECzIUEAAAAAgPH3QAAAAEV28tBBAAAAAIC6FUEAAAAAgPH3QAAAgBoEYNpBAAAAAGBUGUEAAAAAgPH3QAAAAP8kdtpBAAAAAPziJkEAAAAAgPH3QAAAAGl18tBBAAAAAIAxJ0EAAAAAgPH3QAAAgLPL2NNBAAAAAICKHUEAAAAAgPH3QAAAgLYDYNpBAAAAALCmJ0EAAAAAgPH3QAAAAGQJDp5BAAAAAGA2HkEAAAAAgPH3QAAAIJhCNQFCAAAAAIDAJEEAAAAAgPH3QAAAgChXE+JBAAAAAKhIGUEAAAAAgPH3QAAAAGkkdtpBAAAAACBHJkEAAAAAgPH3QAAAACKTx9BBAAAAAPzWFUEAAAAAgPH3QAAAAEW2dtpBAAAAAEB3G0EAAAAAgPH3QAAAQJODwtNBAAAAAKAsMEEAAAAAgPH3QAAA4AmsY+lBAAAAAJAFIEEAAAAAgPH3QAAAICTSuQFCAAAAAGB+IkEAAAAAgPH3QAAA0FsvKwBCAAAAANBlKkEAAAAAgPH3QAAAwOVes9xBAAAAAMDrIkEAAAAAgPH3QAAAAC8lZblBAAAAAEBxHEEAAAAAgPH3QAAAwKN64exBAAAAALCTFkEAAAAAgPH3QAAAgDR18tBBAAAAAOCMGkEAAAAAgPH3QAAAQLV64exBAAAAAJA6LEEAAAAAgPH3QAAA0MCczwFCAAAAABA+IUEAAAAAgPH3QAAA4NL/kPtBAAAAAMCvHEEAAAAAgPH3QAAAoE0iGP5BAAAAAKBhLEEAAAAAgPH3QAAAAJ3L2NNBAAAAANASI0EAAAAAgPH3QAAAgKng7dBBAAAAAFD8HEEAAAAAgPH3QAAAQN9yGP5BAAAAANASI0EAAAAAgPH3QAAAgBL/dNpBAAAAAPBUJUEAAAAAgPH3QAAAoCRANQFCAAAAAMB6IEEAAAAAgPH3QAAAQJMEoPRBAAAAAIBPIkEAAAAAgPH3QAAAwI1kLOhBAAAAAGA8HUEAAAAAgPH3QAAAABKjdtpBAAAAAGByFEEAAAAAgPH3QAAAgKaidtpBAAAAAIBPIkEAAAAAgPH3QAAA8BY6NQFCAAAAANBlKkEAAAAAgPH3QAAAwP+Sx9BBAAAAAEDuHEEAAAAAgPH3QAAAABkkdtpBAAAAALBTIEEAAAAAgPH3QAAAAKMnugFCAAAAAIDAJEEAAAAAgPH3QAAAALUoK8VBAAAAAHh6IkEAAAAAgPH3QAAAoG6xoQFCAAAAAKCdMkEAAAAAgPH3QAAAACUhjN5BAAAAAEAGGUEAAAAAgPH3QAAAwLlt4uxBAAAAAECbFUEAAAAAgPH3QAAAgPgjdtpBAAAAAERoHEEAAAAAgPH3QAAAAKRCNQFCAAAAACBHFkEAAAAAgPH3QAAAAFE/isJBAAAAAKAUFEEAAAAAgPH3QAAAQLdt4uxBAAAAAACII0EAAAAAgPH3QAAAcA86NQFCAAAAAMDrEkEAAAAAgPH3QAAAAPYjdtpBAAAAABA+IUEAAAAAgPH3QAAAAITAJ9tBAAAAAADbGkEAAAAAgPH3QAAA8JpCNQFCAAAAAADbGkEAAAAAgPH3QAAAgMT+dNpBAAAAACC4KEEAAAAAgPH3QAAAQCr3W+BBAAAAAOCMGkEAAAAAgPH3QAAAgMADYNpBAAAAAHgDIUEAAAAAgPH3QAAAQA8ldtpBAAAAAIBPIkEAAAAAgPH3QAAAcJ2yoQFCAAAAAODIIEEAAAAAgPH3QAAAAKgLDp5BAAAAAMB6IEEAAAAAgPH3QAAAYKOyoQFCAAAAAHCZJEEAAAAAgPH3QAAA4CdXE+JBAAAAAEBrHUEAAAAAgPH3QAAAEJ0nugFCAAAAAFBLJEEAAAAAgPH3QAAAIGs6WOlBAAAAAHAoIkEAAAAAgPH3QAAA4HM6WOlBAAAAAJB2IkEAAAAAgPH3QAAA4Co6hgFCAAAAAOD9HEEAAAAAgPH3QAAAgNDrz9ZBAAAAAEj/IkEAAAAAgPH3QAAAQEx//eRBAAAAAOAbGEEAAAAAgPH3QAAAAI+PdtpBAAAAAPCnHEEAAAAAgPH3QAAAAKNGb9pBAAAAAFDaIUEAAAAAgPH3QAAAoJvXR/1BAAAAADDTKkEAAAAAgPH3QAAAQIpVfeJBAAAAABq/IkEAAAAAgPH3QAAAkEPruwFCAAAAAOAbGEEAAAAAgPH3QAAAACgIDp5BAAAAADCMIUEAAAAAgPH3QAAAwCdANQFCAAAAAED0G0EAAAAAgPH3QAAAwPh64exBAAAAAOCMGkEAAAAAgPH3QAAAgPVxlOVBAAAAAADnGEEAAAAAgPH3QAAAAOF64exBAAAAACDQJEEAAAAAgPH3QAAAoCQ6hgFCAAAAAECVFkEAAAAAgPH3QAAAEKcnugFCAAAAAGDjFkEAAAAAgPH3QAAAoJknugFCAAAAAIBbIEEAAAAAgPH3QAAA4PgFdQBCAAAAAGDFK0EAAAAAgPH3QAAAICtXE+JBAAAAAMBcJUEAAAAAgPH3QAAAwED3W+BBAAAAADCGIkEAAAAAgPH3QAAAMJyyoQFCAAAAALAVGUEAAAAAgPH3QAAAAOcjdtpBAAAAAADbKkEAAAAAgPH3QAAAwBWTx9BBAAAAAABYG0EAAAAAgPH3QAAAINCW4PpBAAAAABCFGkEAAAAAgPH3QAAAQKZ64exBAAAAACDEFkEAAAAAgPH3QAAAgMer6f1BAAAAAKAmIUEAAAAAgPH3QAAAQGYLRdJBAAAAACC4GEEAAAAAgPH3QAAAQJx64exBAAAAACBlIUEAAAAAgPH3QAAAAL7G8qpBAAAAAND0N0EAAAAAgPH3QAAAALDG8qpBAAAAAIDMEkEAAAAAgPH3QAAAcJJXCAFCAAAAAHCZNEEAAAAAgPH3QAAAwGY6WOlBAAAAAABSHEEAAAAAgPH3QAAA0KFCNQFCAAAAAECzMUEAAAAAgPH3QAAAAPJes9xBAAAAAGg1J0EAAAAAgPH3QAAAgCiTx9BBAAAAACBHFkEAAAAAgPH3QAAAAMeidtpBAAAAABA+IUEAAAAAgPH3QAAAsOHxzgFCAAAAAEB3G0EAAAAAgPH3QAAAAAD+Za5BAAAAABBzLUEAAAAAgPH3QAAAwGlVfeJBAAAAACDEFkEAAAAAgPH3QAAAgJVy4uxBAAAAACApG0EAAAAAgPH3QAAAMOTxzgFCAAAAAABSHEEAAAAAgPH3QAAAgHiPdtpBAAAAAICEHkEAAAAAgPH3QAAA8GKivAFCAAAAAKB/F0EAAAAAgPH3QAAAABTsz9ZBAAAAAMBcFUEAAAAAgPH3QAAA4JBXCAFCAAAAAEDOGUEAAAAAgPH3QAAAgAF74exBAAAAAGDFG0EAAAAAgPH3QAAAgAX/dNpBAAAAAMDNF0EAAAAAgPH3QAAAgI+DwtNBAAAAAAD5FUEAAAAAgPH3QAAAwHkWqe9BAAAAAKDwGUEAAAAAgPH3QAAAAMOW4PpBAAAAACBHJkEAAAAAgPH3QAAAgJ4EoPRBAAAAALiDHkEAAAAAgPH3QAAAgBl3Z+RBAAAAADCMIUEAAAAAgPH3QAAAAEXv5/9BAAAAAICEHkEAAAAAgPH3QAAAAOLG8qpBAAAAAKhgJUEAAAAAgPH3QAAAgGZ18tBBAAAAAHBdLkEAAAAAgPH3QAAAwAp0vdZBAAAAAJg1HkEAAAAAgPH3QAAAQLPg7dBBAAAAAAAXMUEAAAAAgPH3QAAAwKpQfeJBAAAAANChIEEAAAAAgPH3QAAAQFgLRdJBAAAAAGDjFkEAAAAAgPH3QAAAkIbC0fhBAAAAAEBfH0EAAAAAgPH3QAAAAHLG8qpBAAAAAKDdCEEAAAAAgPH3QAAA2HKVugFCAAAAAMB6MEEAAAAAgPH3QAAAgAWsY+lBAAAAAABqGEEAAAAAgPH3QAAAAHuFdtpBAAAAAOC8IkEAAAAAgPH3QAAAgLaW4PpBAAAAAFBLJEEAAAAAgPH3QAAAwEX3W+BBAAAAAOCqFUEAAAAAgPH3QAAAgF+PdtpBAAAAAEAGGUEAAAAAgPH3QAAAAJz9Za5BAAAAANb5JkEAAAAAgPH3QAAAQKyDwtNBAAAAAKBhHEEAAAAAgPH3QAAAQIP4vgFCAAAAAOAbGEEAAAAAgPH3QAAAgOdFb9pBAAAAAKBhHEEAAAAAgPH3QAAAgMAkdtpBAAAAAPCnHEEAAAAAgPH3QAAAAIckdtpBAAAAAICKHUEAAAAAgPH3QAAAADWZdtpBAAAAAMBcFUEAAAAAgPH3QAAAwBhp4uxBAAAAAABMHUEAAAAAgPH3QAAA4FiU4PpBAAAAAJAFIEEAAAAAgPH3QAAAcJiyoQFCAAAAAHAoIkEAAAAAgPH3QAAA4A06NQFCAAAAAGDjFkEAAAAAgPH3QAAAgDO2dtpBAAAAAODIIEEAAAAAgPH3QAAAMKGyoQFCAAAAACCaHUEAAAAAgPH3QAAAQNnxzgFCAAAAAJhXIEEAAAAAgPH3QAAAYNX/kPtBAAAAAHDgHUEAAAAAgPH3QAAAAMTG8qpBAAAAAEAGGUEAAAAAgPH3QAAAAK8kdtpBAAAAAFieI0EAAAAAgPH3QAAAMETruwFCAAAAAABqGEEAAAAAgPH3QAAAQJZCNQFCAAAAALBHIkEAAAAAgPH3QAAAQJZCNQFCAAAAAKD2KEEAAAAAgPH3QAAAwL3g7dBBAAAAAADbGkEAAAAAgPH3QAAAAD4/isJBAAAAAOAbGEEAAAAAgPH3QAAAgMV64exBAAAAAABqCEEAAAAAgPH3QAAAADQIDp5BAAAAAICEHkEAAAAAgPH3QAAAgPIDYNpBAAAAACBlIUEAAAAAgPH3QAAAwJdkLOhBAAAAADCMIUEAAAAAgPH3QAAAADLH8qpBAAAAAEC5IEEAAAAAgPH3QAAAkN75qQBCAAAAAKDwGUEAAAAAgPH3QAAAAJRGb9pBAAAAACBlMUEAAAAAgPH3QAAAgHxVfeJBAAAAAAD5JUEAAAAAgPH3QAAAADU/isJBAAAAAJAFMEEAAAAAgPH3QAAAgC5XE+JBAAAAAOAbKEEAAAAAgPH3QAAAgKXzZ+9BAAAAABCFKkEAAAAAgPH3QAAAgP7L2NNBAAAAAFCeK0EAAAAAgPH3QAAAAFk6WOlBAAAAAKAsIEEAAAAAgPH3QAAAsPYFdQBCAAAAAMCjHkEAAAAAgPH3QAAAQFcLRdJBAAAAABhgKUEAAAAAgPH3QAAAACfSLNFBAAAAAEAkFEEAAAAAgPH3QAAA0IQ8NQFCAAAAAMDTFkEAAAAAgPH3QAAAgBSZdtpBAAAAAIAfGkEAAAAAgPH3QAAAYEKU4PpBAAAAACC4KEEAAAAAgPH3QAAAQNgdTOlBAAAAAGDFG0EAAAAAgPH3QAAAALrg7dBBAAAAAAB2FkEAAAAAgPH3QAAAMH88NQFCAAAAALDaH0EAAAAAgPH3QAAA4F8vKwBCAAAAAICQHEEAAAAAgPH3QAAAAPp64exBAAAAAMDlE0EAAAAAgPH3QAAAEIE8NQFCAAAAAEgRIEEAAAAAgPH3QAAAYNRDNQFCAAAAAICiGUEAAAAAgPH3QAAAYEaeAPpBAAAAAMA+GkEAAAAAgPH3QAAAABMEYNpBAAAAAOBQIEEAAAAAgPH3QAAAANhvydZBAAAAAKAOJUEAAAAAgPH3QAAAADmqhtNBAAAAAMBcNUEAAAAAgPH3QAAAgKGDwtNBAAAAAFBjIEEAAAAAgPH3QAAAIDyU4PpBAAAAALDEIkEAAAAAgPH3QAAAAODG8qpBAAAAAHCxIEEAAAAAgPH3QAAAAPQHDp5BAAAAANChMEEAAAAAgPH3QAAAgKuDwtNBAAAAAAALI0EAAAAAgPH3QAAAwBSTx9BBAAAAALihGUEAAAAAgPH3QAAAgApGb9pBAAAAAADbGkEAAAAAgPH3QAAAEOHxzgFCAAAAAGBIG0EAAAAAgPH3QAAAQOVxlOVBAAAAACDWI0EAAAAAgPH3QAAAgB7xJO5BAAAAANBTHUEAAAAAgPH3QAAAgOxFb9pBAAAAAPDpIUEAAAAAgPH3QAAAAF0yjdVBAAAAAGDjFkEAAAAAgPH3QAAAoK6ElPBBAAAAANASI0EAAAAAgPH3QAAAwB46NQFCAAAAAMBoE0EAAAAAgPH3QAAAoP+Bov1BAAAAAGBUGUEAAAAAgPH3QAAAgBV74exBAAAAAJDtI0EAAAAAgPH3QAAAIB46NQFCAAAAABBeJEEAAAAAgPH3QAAAgAOTx9BBAAAAAGA2HkEAAAAAgPH3QAAAABJ3Z+RBAAAAALDEIkEAAAAAgPH3QAAAIIulq/dBAAAAAHBdLkEAAAAAgPH3QAAAgACgONVBAAAAAJBkFUEAAAAAgPH3QAAAQL964exBAAAAAODIEEEAAAAAgPH3QAAA8Ic8NQFCAAAAAIBPMkEAAAAAgPH3QAAAABmTx9BBAAAAAOD9HEEAAAAAgPH3QAAA4OKR4PpBAAAAAFCeK0EAAAAAgPH3QAAAQKhLfeJBAAAAAEDoHUEAAAAAgPH3QAAA4NOR4PpBAAAAABBzLUEAAAAAgPH3QAAAQLdLfeJBAAAAAICiKUEAAAAAgPH3QAAAAKxrb7NBAAAAAICcGkEAAAAAgPH3QAAAQAp74exBAAAAAOCGG0EAAAAAgPH3QAAAgCN3Z+RBAAAAADBiKEEAAAAAgPH3QAAAACwIDp5BAAAAAODIIEEAAAAAgPH3QAAA4BI6NQFCAAAAACCsGkEAAAAAgPH3QAAAgDJGb9pBAAAAAGDFG0EAAAAAgPH3QAAAQOpxlOVBAAAAADqbIUEAAAAAgPH3QAAAQDDSStVBAAAAAADJHUEAAAAAgPH3QAAAINv5qQBCAAAAAIC6JUEAAAAAgPH3QAAAwBT/dNpBAAAAAMAgH0EAAAAAgPH3QAAAoIhkLOhBAAAAAIBPEkEAAAAAgPH3QAAAAI+FdtpBAAAAAKDSHkEAAAAAgPH3QAAAAAR74exBAAAAAPBgM0EAAAAAgPH3QAAAQDCTx9BBAAAAAICELkEAAAAAgPH3QAAAALgMDp5BAAAAAICcKkEAAAAAgPH3QAAA4CtXE+JBAAAAAFDaIUEAAAAAgPH3QAAAgLfg7dBBAAAAAJDbFkEAAAAAgPH3QAAAwJJXCAFCAAAAABAsJEEAAAAAgPH3QAAA4Fc6WOlBAAAAAGBgF0EAAAAAgPH3QAAAwHL/RNhBAAAAAGBsFUEAAAAAgPH3QAAAgAhp4uxBAAAAAAD/FEEAAAAAgPH3QAAAgGskdtpBAAAAABhCLkEAAAAAgPH3QAAAACugONVBAAAAAKB/F0EAAAAAgPH3QAAAAL2gTNhBAAAAAJAFIEEAAAAAgPH3QAAAAEKeAPpBAAAAAIDAJEEAAAAAgPH3QAAAwLaKZ+RBAAAAAIBbIEEAAAAAgPH3QAAAMDo2wQFCAAAAAECnI0EAAAAAgPH3QAAAAJWKZ+RBAAAAAPi4IkEAAAAAgPH3QAAAALOFZ+RBAAAAAOBuH0EAAAAAgPH3QAAAUDg2wQFCAAAAAGBUGUEAAAAAgPH3QAAAoEc2wQFCAAAAAIgFI0EAAAAAgPH3QAAAwMqKZ+RB",
          "dtype": "f8",
          "shape": "273, 3"
         },
         "hovertemplate": "zip_str=98072<br>lat=%{lat}<br>long=%{lon}<br>price=%{customdata[0]}<br>zipcode=%{customdata[1]}<br>id=%{customdata[2]}<extra></extra>",
         "lat": {
          "bdata": "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",
          "dtype": "f8"
         },
         "legendgroup": "98072",
         "lon": {
          "bdata": "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",
          "dtype": "f8"
         },
         "marker": {
          "color": "rgb(255,217,47)"
         },
         "mode": "markers",
         "name": "98072",
         "showlegend": true,
         "subplot": "map",
         "type": "scattermap"
        },
        {
         "customdata": {
          "bdata": "AAAAAFxcJUEAAAAA0PH3QAAAsER+4PpBAAAAAIDAJEEAAAAA0PH3QAAAALSinNtBAAAAADgfLEEAAAAA0PH3QAAAQMZ9vdZBAAAAAABqKEEAAAAA0PH3QAAAAHBrb7NBAAAAAJDnNEEAAAAA0PH3QAAAwIRYNe5BAAAAAHzIEEEAAAAA0PH3QAAAgHpXTepBAAAAAOD9LEEAAAAA0PH3QAAAAMyWmcJBAAAAALpQI0EAAAAA0PH3QAAAAOAccNpBAAAAAKBhLEEAAAAA0PH3QAAAwON9vdZBAAAAAKDMH0EAAAAA0PH3QAAA4HN54PpBAAAAAFAPLkEAAAAA0PH3QAAAgM+inNtBAAAAAECVJkEAAAAA0PH3QAAAABtonshBAAAAAKCdEkEAAAAA0PH3QAAAgA7VY9pBAAAAAODIMEEAAAAA0PH3QAAAwPD8eflBAAAAAEAkJEEAAAAA0PH3QAAAAOH8AvBBAAAAAABqKEEAAAAA0PH3QAAAwHj/N/xBAAAAAOA5I0EAAAAA0PH3QAAAYNb8AvBBAAAAAICiKUEAAAAA0PH3QAAAAMowsfxBAAAAAKBhHEEAAAAA0PH3QAAAAFduuNlBAAAAAABMHUEAAAAA0PH3QAAA4JF54PpBAAAAANASM0EAAAAA0PH3QAAAwFddNe5BAAAAAKCdIkEAAAAA0PH3QAAAAGh54PpBAAAAAMAgH0EAAAAA0PH3QAAAgA8dcNpBAAAAAFAtKUEAAAAA0PH3QAAAwNIwsfxBAAAAAIBPIkEAAAAA0PH3QAAAgJvDqMJBAAAAABCRKEEAAAAA0PH3QAAA4HU46P9BAAAAADBuFkEAAAAA0PH3QAAAADxAZNpBAAAAAABeGkEAAAAA0PH3QAAAwG5uuNlBAAAAAKAIFkEAAAAA0PH3QAAAABQ2ZNpBAAAAACjgH0EAAAAA0PH3QAAAANSbcNpBAAAAAECtEkEAAAAA0PH3QAAAwE5uuNlBAAAAAOA/EkEAAAAA0PH3QAAAwMpes9xBAAAAAACIE0EAAAAA0PH3QAAAgCVAZNpBAAAAAIATHEEAAAAA0PH3QAAAgC5onshBAAAAAIBJE0EAAAAA0PH3QAAAgLI/ZNpBAAAAAAAdIEEAAAAA0PH3QAAAYB584PpBAAAAAJDJKUEAAAAA0PH3QAAAAKmWmcJBAAAAAPCzKkEAAAAA0PH3QAAAYJQpsfxBAAAAANCDJUEAAAAA0PH3QAAA8AUKLABCAAAAAOznJ0EAAAAA0PH3QAAAQAVnNe5BAAAAAFyLIEEAAAAA0PH3QAAAwOF74PpBAAAAALCmJ0EAAAAA0PH3QAAAAA6CgbFBAAAAAICiGUEAAAAA0PH3QAAAgHRuuNlBAAAAAEB3G0EAAAAA0PH3QAAAgDP2OthBAAAAAOhhKkEAAAAA0PH3QAAAoGH/N/xBAAAAAOCqFUEAAAAA0PH3QAAAAAVonshBAAAAAGDFK0EAAAAA0PH3QAAAwJ1YNe5BAAAAAKBnK0EAAAAA0PH3QAAAgCRiNe5BAAAAAIAxF0EAAAAA0PH3QAAAAFJuuNlBAAAAAJBRFEEAAAAA0PH3QAAAgPg1ZNpBAAAAAEAGKUEAAAAA0PH3QAAAIFwpsfxBAAAAAHCfI0EAAAAA0PH3QAAAAIxrb7NBAAAAAKDwKUEAAAAA0PH3QAAAACuDmcJBAAAAAHAoIkEAAAAA0PH3QAAAQOeM4PpBAAAAAFDaIUEAAAAA0PH3QAAAwNFes9xBAAAAAMxnJ0EAAAAA0PH3QAAAwHP/N/xBAAAAAOB6HUEAAAAA0PH3QAAAgENonshBAAAAABCvE0EAAAAA0PH3QAAAAJ7UY9pBAAAAAED0G0EAAAAA0PH3QAAAAAxonshBAAAAAKCLFUEAAAAA0PH3QAAAgB3VY9pBAAAAALBTIEEAAAAA0PH3QAAAgC72OthBAAAAAEB3K0EAAAAA0PH3QAAAACJrb7NBAAAAAAhFJ0EAAAAA0PH3QAAAAKSWmcJBAAAAACBHJkEAAAAA0PH3QAAAAOKUmcJBAAAAANASI0EAAAAA0PH3QAAAgO7tNehBAAAAAIAxJ0EAAAAA0PH3QAAAAPGUmcJBAAAAAECzIUEAAAAA0PH3QAAAgF8JcNpBAAAAAPCzKkEAAAAA0PH3QAAAQLV1Ne5BAAAAADDfKEEAAAAA0PH3QAAAAGtMZblBAAAAABCvI0EAAAAA0PH3QAAAAFWBmcJBAAAAAOAbKEEAAAAA0PH3QAAAgHpSTepBAAAAAJgAIkEAAAAA0PH3QAAAAEBJlM5BAAAAAOA5I0EAAAAA0PH3QAAAgFVJlM5BAAAAAIBPIkEAAAAA0PH3QAAAQBP2OthBAAAAAOD9LEEAAAAA0PH3QAAAACAtW79BAAAAALA1JUEAAAAA0PH3QAAAwPW+Ne5BAAAAAEB3G0EAAAAA0PH3QAAAAMZYmctBAAAAADADI0EAAAAA0PH3QAAAIOmM4PpBAAAAACgiJUEAAAAA0PH3QAAAACNrb7NBAAAAAFBFJUEAAAAA0PH3QAAAgJImcNpBAAAAABAgJkEAAAAA0PH3QAAAAHuDmcJBAAAAAEAkFEEAAAAA0PH3QAAAAFBAZNpBAAAAAKCdEkEAAAAA0PH3QAAAgNzUY9pBAAAAAMB6IEEAAAAA0PH3QAAAAFpJlM5BAAAAACCaLUEAAAAA0PH3QAAAAK91Ne5BAAAAAPCzKkEAAAAA0PH3QAAAAJuinNtBAAAAALDEIkEAAAAA0PH3QAAAAMcmcNpBAAAAALBHIkEAAAAA0PH3QAAAAItrb7NBAAAAAIAxJ0EAAAAA0PH3QAAAAH5rb7NBAAAAAMDNF0EAAAAA0PH3QAAAwArCddpBAAAAAADbKkEAAAAA0PH3QAAAAORYmctBAAAAAICEDkEAAAAA0PH3QAAAgCo2ZNpBAAAAABAgJkEAAAAA0PH3QAAA4LPcbgFCAAAAAACIE0EAAAAA0PH3QAAAADI2ZNpBAAAAAPCzKkEAAAAA0PH3QAAAACnRHtlBAAAAACCxJUEAAAAA0PH3QAAAAKYLg7FBAAAAAEhSKkEAAAAA0PH3QAAAwLkwsfxBAAAAAKDwKUEAAAAA0PH3QAAAgHNuuNlBAAAAAMAgH0EAAAAA0PH3QAAAQIJ54PpBAAAAAMB6MEEAAAAA0PH3QAAAAIEpsfxBAAAAADDTKkEAAAAA0PH3QAAAAMpYmctBAAAAACBHJkEAAAAA0PH3QAAAgD0/39RBAAAAAGABMkEAAAAA0PH3QAAAAOaVmcJBAAAAAJBqJEEAAAAA0PH3QAAAAD8JcNpBAAAAABAgJkEAAAAA0PH3QAAAAD+DmcJBAAAAAODIIEEAAAAA0PH3QAAAgMkccNpBAAAAAIBPIkEAAAAA0PH3QAAAgOf4qvxBAAAAALCmJ0EAAAAA0PH3QAAAgFeinNtBAAAAAEAGKUEAAAAA0PH3QAAAgLF1Ne5BAAAAAIAxF0EAAAAA0PH3QAAAACDVY9pBAAAAAGByFEEAAAAA0PH3QAAAgN81ZNpBAAAAAJA6HEEAAAAA0PH3QAAAwCT2OthBAAAAAMBcJUEAAAAA0PH3QAAAQEIkr/hBAAAAABA4IkEAAAAA0PH3QAAA4GUPYPNBAAAAAMz8I0EAAAAA0PH3QAAAAIxSTepBAAAAAPByIEEAAAAA0PH3QAAAgFFJlM5BAAAAANBlGkEAAAAA0PH3QAAAYLRe3/ZBAAAAADCMIUEAAAAA0PH3QAAA4F9+4PpBAAAAADCMMUEAAAAA0PH3QAAAAIaWmcJBAAAAADD9I0EAAAAA0PH3QAAAwB184PpBAAAAAAC9L0EAAAAA0PH3QAAAwFxdNe5BAAAAAOA5I0EAAAAA0PH3QAAAAFl+4PpBAAAAAGDFO0EAAAAA0PH3QAAAgBpnNe5BAAAAALBTMEEAAAAA0PH3QAAAAG2WmcJBAAAAADAJIkEAAAAA0PH3QAAAABwdcNpBAAAAAMBcNUEAAAAA0PH3QAAAABhnNe5BAAAAAEB3G0EAAAAA0PH3QAAAAHIiocJBAAAAAGBOKkEAAAAA0PH3QAAA4JEpsfxBAAAAAOCMKkEAAAAA0PH3QAAA4JEpsfxBAAAAAGABIkEAAAAA0PH3QAAAwNX8AvBBAAAAAEB3K0EAAAAA0PH3QAAAYKsIzeVBAAAAACBlMUEAAAAA0PH3QAAAQM2cx9BBAAAAALBTIEEAAAAA0PH3QAAAgMoiocJBAAAAACDWE0EAAAAA0PH3QAAAgK0/ZNpBAAAAAJAFIEEAAAAA0PH3QAAAAGQLDp5BAAAAAEDoHUEAAAAA0PH3QAAAAMRe3/ZBAAAAAIAlKUEAAAAA0PH3QAAAANoJg7FBAAAAAGABIkEAAAAA0PH3QAAAALgIg7FBAAAAAHB7KUEAAAAA0PH3QAAAALmVmcJBAAAAANChMEEAAAAA0PH3QAAAAAmWmcJBAAAAACBlIUEAAAAA0PH3QAAAINx74PpBAAAAAICiKUEAAAAA0PH3QAAAgKkwsfxBAAAAAABYK0EAAAAA0PH3QAAAQBRnNe5BAAAAACDQJEEAAAAA0PH3QAAAgCJJlM5BAAAAAND0J0EAAAAA0PH3QAAAABpJlM5BAAAAAFDaIUEAAAAA0PH3QAAAgGkJcNpBAAAAACDWE0EAAAAA0PH3QAAAALfUY9pBAAAAAPCzKkEAAAAA0PH3QAAAIGEpsfxBAAAAAEB3G0EAAAAA0PH3QAAAgM9es9xBAAAAAOBuH0EAAAAA0PH3QAAAAG1rb7NBAAAAAPBCKEEAAAAA0PH3QAAAwFD/N/xBAAAAAKCdIkEAAAAA0PH3QAAAgOL4qvxBAAAAAHB7KUEAAAAA0PH3QAAAgHBXTepBAAAAAGhBJUEAAAAA0PH3QAAAAKkmcNpBAAAAADD9I0EAAAAA0PH3QAAAAFFuuNlBAAAAAEAGOUEAAAAA0PH3QAAAQL9wNe5BAAAAAJDnJEEAAAAA0PH3QAAA0LTcbgFCAAAAACApK0EAAAAA0PH3QAAAoGMpsfxBAAAAALCCHUEAAAAA0PH3QAAAQEH2OthBAAAAAPDjIkEAAAAA0PH3QAAAAEdJlM5BAAAAAACII0EAAAAA0PH3QAAAoALGMPtBAAAAAGBmJkEAAAAA0PH3QAAAAIoNq8JBAAAAAGhNI0EAAAAA0PH3QAAAQF3/N/xBAAAAAOA5E0EAAAAA0PH3QAAAgJvUY9pBAAAAAAD5FUEAAAAA0PH3QAAAAEY2ZNpBAAAAAICEHkEAAAAA0PH3QAAAgBv2OthBAAAAAPBCKEEAAAAA0PH3QAAAwL4wsfxBAAAAAKDwGUEAAAAA0PH3QAAAoBCFrgFCAAAAAABMPUEAAAAA0PH3QAAAANegTNhBAAAAAEBrHUEAAAAA0PH3QAAA4LZe3/ZBAAAAABD2LEEAAAAA0PH3QAAAAOgKg7FBAAAAAABMHUEAAAAA0PH3QAAAAMtYmctBAAAAAADbGkEAAAAA0PH3QAAAAF5onshBAAAAAHzIIEEAAAAA0PH3QAAAQHaK4PpBAAAAAIDAFEEAAAAA0PH3QAAAgHjUY9pBAAAAABCRKEEAAAAA0PH3QAAAQMPjleBBAAAAALCaKUEAAAAA0PH3QAAAgDNJlM5BAAAAAFBLJEEAAAAA0PH3QAAA4F2P4PpBAAAAAKAsIEEAAAAA0PH3QAAAQNKgTNhBAAAAAJjOIUEAAAAA0PH3QAAAQNKgTNhBAAAAAEAkFEEAAAAA0PH3QAAAgCLVY9pBAAAAAFAPLkEAAAAA0PH3QAAAgGpYNe5BAAAAAABqKEEAAAAA0PH3QAAAQKApsfxBAAAAAMyRIEEAAAAA0PH3QAAAAGdMZblBAAAAAJDJKUEAAAAA0PH3QAAAIF//N/xBAAAAAKAsMEEAAAAA0PH3QAAAAA+VmcJBAAAAAGB4E0EAAAAA0PH3QAAAAO7UY9pBAAAAAPxTKUEAAAAA0PH3QAAAAMQLg7FBAAAAACDWI0EAAAAA0PH3QAAAQOm+Ne5BAAAAAOD9HEEAAAAA0PH3QAAAAGZrrcJBAAAAAIDAJEEAAAAA0PH3QAAAgCG6Ne5BAAAAAKAmIUEAAAAA0PH3QAAAADn2OthBAAAAALBTIEEAAAAA0PH3QAAAAGBonshBAAAAADCMMUEAAAAA0PH3QAAAgNSinNtBAAAAABCRKEEAAAAA0PH3QAAAoGv/N/xBAAAAALzVI0EAAAAA0PH3QAAAgIhYmctBAAAAALA2GUEAAAAA0PH3QAAAADlJlM5BAAAAAPziJkEAAAAA0PH3QAAA8AtVr/hB",
          "dtype": "f8",
          "shape": "198, 3"
         },
         "hovertemplate": "zip_str=98077<br>lat=%{lat}<br>long=%{lon}<br>price=%{customdata[0]}<br>zipcode=%{customdata[1]}<br>id=%{customdata[2]}<extra></extra>",
         "lat": {
          "bdata": "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",
          "dtype": "f8"
         },
         "legendgroup": "98077",
         "lon": {
          "bdata": "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",
          "dtype": "f8"
         },
         "marker": {
          "color": "rgb(229,196,148)"
         },
         "mode": "markers",
         "name": "98077",
         "showlegend": true,
         "subplot": "map",
         "type": "scattermap"
        }
       ],
       "layout": {
        "height": 600,
        "legend": {
         "title": {
          "text": "ZIP code"
         },
         "tracegroupgap": 0
        },
        "map": {
         "center": {
          "lat": 47.5989599378882,
          "lon": -121.95028183229813
         },
         "domain": {
          "x": [
           0,
           1
          ],
          "y": [
           0,
           1
          ]
         },
         "zoom": 8
        },
        "mapbox": {
         "center": {
          "lat": 47.5989599378882,
          "lon": -121.95028183229813
         },
         "style": "open-street-map",
         "zoom": 8
        },
        "margin": {
         "b": 0,
         "l": 0,
         "r": 0,
         "t": 40
        },
        "template": {
         "data": {
          "bar": [
           {
            "error_x": {
             "color": "#2a3f5f"
            },
            "error_y": {
             "color": "#2a3f5f"
            },
            "marker": {
             "line": {
              "color": "#E5ECF6",
              "width": 0.5
             },
             "pattern": {
              "fillmode": "overlay",
              "size": 10,
              "solidity": 0.2
             }
            },
            "type": "bar"
           }
          ],
          "barpolar": [
           {
            "marker": {
             "line": {
              "color": "#E5ECF6",
              "width": 0.5
             },
             "pattern": {
              "fillmode": "overlay",
              "size": 10,
              "solidity": 0.2
             }
            },
            "type": "barpolar"
           }
          ],
          "carpet": [
           {
            "aaxis": {
             "endlinecolor": "#2a3f5f",
             "gridcolor": "white",
             "linecolor": "white",
             "minorgridcolor": "white",
             "startlinecolor": "#2a3f5f"
            },
            "baxis": {
             "endlinecolor": "#2a3f5f",
             "gridcolor": "white",
             "linecolor": "white",
             "minorgridcolor": "white",
             "startlinecolor": "#2a3f5f"
            },
            "type": "carpet"
           }
          ],
          "choropleth": [
           {
            "colorbar": {
             "outlinewidth": 0,
             "ticks": ""
            },
            "type": "choropleth"
           }
          ],
          "contour": [
           {
            "colorbar": {
             "outlinewidth": 0,
             "ticks": ""
            },
            "colorscale": [
             [
              0,
              "#0d0887"
             ],
             [
              0.1111111111111111,
              "#46039f"
             ],
             [
              0.2222222222222222,
              "#7201a8"
             ],
             [
              0.3333333333333333,
              "#9c179e"
             ],
             [
              0.4444444444444444,
              "#bd3786"
             ],
             [
              0.5555555555555556,
              "#d8576b"
             ],
             [
              0.6666666666666666,
              "#ed7953"
             ],
             [
              0.7777777777777778,
              "#fb9f3a"
             ],
             [
              0.8888888888888888,
              "#fdca26"
             ],
             [
              1,
              "#f0f921"
             ]
            ],
            "type": "contour"
           }
          ],
          "contourcarpet": [
           {
            "colorbar": {
             "outlinewidth": 0,
             "ticks": ""
            },
            "type": "contourcarpet"
           }
          ],
          "heatmap": [
           {
            "colorbar": {
             "outlinewidth": 0,
             "ticks": ""
            },
            "colorscale": [
             [
              0,
              "#0d0887"
             ],
             [
              0.1111111111111111,
              "#46039f"
             ],
             [
              0.2222222222222222,
              "#7201a8"
             ],
             [
              0.3333333333333333,
              "#9c179e"
             ],
             [
              0.4444444444444444,
              "#bd3786"
             ],
             [
              0.5555555555555556,
              "#d8576b"
             ],
             [
              0.6666666666666666,
              "#ed7953"
             ],
             [
              0.7777777777777778,
              "#fb9f3a"
             ],
             [
              0.8888888888888888,
              "#fdca26"
             ],
             [
              1,
              "#f0f921"
             ]
            ],
            "type": "heatmap"
           }
          ],
          "histogram": [
           {
            "marker": {
             "pattern": {
              "fillmode": "overlay",
              "size": 10,
              "solidity": 0.2
             }
            },
            "type": "histogram"
           }
          ],
          "histogram2d": [
           {
            "colorbar": {
             "outlinewidth": 0,
             "ticks": ""
            },
            "colorscale": [
             [
              0,
              "#0d0887"
             ],
             [
              0.1111111111111111,
              "#46039f"
             ],
             [
              0.2222222222222222,
              "#7201a8"
             ],
             [
              0.3333333333333333,
              "#9c179e"
             ],
             [
              0.4444444444444444,
              "#bd3786"
             ],
             [
              0.5555555555555556,
              "#d8576b"
             ],
             [
              0.6666666666666666,
              "#ed7953"
             ],
             [
              0.7777777777777778,
              "#fb9f3a"
             ],
             [
              0.8888888888888888,
              "#fdca26"
             ],
             [
              1,
              "#f0f921"
             ]
            ],
            "type": "histogram2d"
           }
          ],
          "histogram2dcontour": [
           {
            "colorbar": {
             "outlinewidth": 0,
             "ticks": ""
            },
            "colorscale": [
             [
              0,
              "#0d0887"
             ],
             [
              0.1111111111111111,
              "#46039f"
             ],
             [
              0.2222222222222222,
              "#7201a8"
             ],
             [
              0.3333333333333333,
              "#9c179e"
             ],
             [
              0.4444444444444444,
              "#bd3786"
             ],
             [
              0.5555555555555556,
              "#d8576b"
             ],
             [
              0.6666666666666666,
              "#ed7953"
             ],
             [
              0.7777777777777778,
              "#fb9f3a"
             ],
             [
              0.8888888888888888,
              "#fdca26"
             ],
             [
              1,
              "#f0f921"
             ]
            ],
            "type": "histogram2dcontour"
           }
          ],
          "mesh3d": [
           {
            "colorbar": {
             "outlinewidth": 0,
             "ticks": ""
            },
            "type": "mesh3d"
           }
          ],
          "parcoords": [
           {
            "line": {
             "colorbar": {
              "outlinewidth": 0,
              "ticks": ""
             }
            },
            "type": "parcoords"
           }
          ],
          "pie": [
           {
            "automargin": true,
            "type": "pie"
           }
          ],
          "scatter": [
           {
            "fillpattern": {
             "fillmode": "overlay",
             "size": 10,
             "solidity": 0.2
            },
            "type": "scatter"
           }
          ],
          "scatter3d": [
           {
            "line": {
             "colorbar": {
              "outlinewidth": 0,
              "ticks": ""
             }
            },
            "marker": {
             "colorbar": {
              "outlinewidth": 0,
              "ticks": ""
             }
            },
            "type": "scatter3d"
           }
          ],
          "scattercarpet": [
           {
            "marker": {
             "colorbar": {
              "outlinewidth": 0,
              "ticks": ""
             }
            },
            "type": "scattercarpet"
           }
          ],
          "scattergeo": [
           {
            "marker": {
             "colorbar": {
              "outlinewidth": 0,
              "ticks": ""
             }
            },
            "type": "scattergeo"
           }
          ],
          "scattergl": [
           {
            "marker": {
             "colorbar": {
              "outlinewidth": 0,
              "ticks": ""
             }
            },
            "type": "scattergl"
           }
          ],
          "scattermap": [
           {
            "marker": {
             "colorbar": {
              "outlinewidth": 0,
              "ticks": ""
             }
            },
            "type": "scattermap"
           }
          ],
          "scattermapbox": [
           {
            "marker": {
             "colorbar": {
              "outlinewidth": 0,
              "ticks": ""
             }
            },
            "type": "scattermapbox"
           }
          ],
          "scatterpolar": [
           {
            "marker": {
             "colorbar": {
              "outlinewidth": 0,
              "ticks": ""
             }
            },
            "type": "scatterpolar"
           }
          ],
          "scatterpolargl": [
           {
            "marker": {
             "colorbar": {
              "outlinewidth": 0,
              "ticks": ""
             }
            },
            "type": "scatterpolargl"
           }
          ],
          "scatterternary": [
           {
            "marker": {
             "colorbar": {
              "outlinewidth": 0,
              "ticks": ""
             }
            },
            "type": "scatterternary"
           }
          ],
          "surface": [
           {
            "colorbar": {
             "outlinewidth": 0,
             "ticks": ""
            },
            "colorscale": [
             [
              0,
              "#0d0887"
             ],
             [
              0.1111111111111111,
              "#46039f"
             ],
             [
              0.2222222222222222,
              "#7201a8"
             ],
             [
              0.3333333333333333,
              "#9c179e"
             ],
             [
              0.4444444444444444,
              "#bd3786"
             ],
             [
              0.5555555555555556,
              "#d8576b"
             ],
             [
              0.6666666666666666,
              "#ed7953"
             ],
             [
              0.7777777777777778,
              "#fb9f3a"
             ],
             [
              0.8888888888888888,
              "#fdca26"
             ],
             [
              1,
              "#f0f921"
             ]
            ],
            "type": "surface"
           }
          ],
          "table": [
           {
            "cells": {
             "fill": {
              "color": "#EBF0F8"
             },
             "line": {
              "color": "white"
             }
            },
            "header": {
             "fill": {
              "color": "#C8D4E3"
             },
             "line": {
              "color": "white"
             }
            },
            "type": "table"
           }
          ]
         },
         "layout": {
          "annotationdefaults": {
           "arrowcolor": "#2a3f5f",
           "arrowhead": 0,
           "arrowwidth": 1
          },
          "autotypenumbers": "strict",
          "coloraxis": {
           "colorbar": {
            "outlinewidth": 0,
            "ticks": ""
           }
          },
          "colorscale": {
           "diverging": [
            [
             0,
             "#8e0152"
            ],
            [
             0.1,
             "#c51b7d"
            ],
            [
             0.2,
             "#de77ae"
            ],
            [
             0.3,
             "#f1b6da"
            ],
            [
             0.4,
             "#fde0ef"
            ],
            [
             0.5,
             "#f7f7f7"
            ],
            [
             0.6,
             "#e6f5d0"
            ],
            [
             0.7,
             "#b8e186"
            ],
            [
             0.8,
             "#7fbc41"
            ],
            [
             0.9,
             "#4d9221"
            ],
            [
             1,
             "#276419"
            ]
           ],
           "sequential": [
            [
             0,
             "#0d0887"
            ],
            [
             0.1111111111111111,
             "#46039f"
            ],
            [
             0.2222222222222222,
             "#7201a8"
            ],
            [
             0.3333333333333333,
             "#9c179e"
            ],
            [
             0.4444444444444444,
             "#bd3786"
            ],
            [
             0.5555555555555556,
             "#d8576b"
            ],
            [
             0.6666666666666666,
             "#ed7953"
            ],
            [
             0.7777777777777778,
             "#fb9f3a"
            ],
            [
             0.8888888888888888,
             "#fdca26"
            ],
            [
             1,
             "#f0f921"
            ]
           ],
           "sequentialminus": [
            [
             0,
             "#0d0887"
            ],
            [
             0.1111111111111111,
             "#46039f"
            ],
            [
             0.2222222222222222,
             "#7201a8"
            ],
            [
             0.3333333333333333,
             "#9c179e"
            ],
            [
             0.4444444444444444,
             "#bd3786"
            ],
            [
             0.5555555555555556,
             "#d8576b"
            ],
            [
             0.6666666666666666,
             "#ed7953"
            ],
            [
             0.7777777777777778,
             "#fb9f3a"
            ],
            [
             0.8888888888888888,
             "#fdca26"
            ],
            [
             1,
             "#f0f921"
            ]
           ]
          },
          "colorway": [
           "#636efa",
           "#EF553B",
           "#00cc96",
           "#ab63fa",
           "#FFA15A",
           "#19d3f3",
           "#FF6692",
           "#B6E880",
           "#FF97FF",
           "#FECB52"
          ],
          "font": {
           "color": "#2a3f5f"
          },
          "geo": {
           "bgcolor": "white",
           "lakecolor": "white",
           "landcolor": "#E5ECF6",
           "showlakes": true,
           "showland": true,
           "subunitcolor": "white"
          },
          "hoverlabel": {
           "align": "left"
          },
          "hovermode": "closest",
          "mapbox": {
           "style": "light"
          },
          "paper_bgcolor": "white",
          "plot_bgcolor": "#E5ECF6",
          "polar": {
           "angularaxis": {
            "gridcolor": "white",
            "linecolor": "white",
            "ticks": ""
           },
           "bgcolor": "#E5ECF6",
           "radialaxis": {
            "gridcolor": "white",
            "linecolor": "white",
            "ticks": ""
           }
          },
          "scene": {
           "xaxis": {
            "backgroundcolor": "#E5ECF6",
            "gridcolor": "white",
            "gridwidth": 2,
            "linecolor": "white",
            "showbackground": true,
            "ticks": "",
            "zerolinecolor": "white"
           },
           "yaxis": {
            "backgroundcolor": "#E5ECF6",
            "gridcolor": "white",
            "gridwidth": 2,
            "linecolor": "white",
            "showbackground": true,
            "ticks": "",
            "zerolinecolor": "white"
           },
           "zaxis": {
            "backgroundcolor": "#E5ECF6",
            "gridcolor": "white",
            "gridwidth": 2,
            "linecolor": "white",
            "showbackground": true,
            "ticks": "",
            "zerolinecolor": "white"
           }
          },
          "shapedefaults": {
           "line": {
            "color": "#2a3f5f"
           }
          },
          "ternary": {
           "aaxis": {
            "gridcolor": "white",
            "linecolor": "white",
            "ticks": ""
           },
           "baxis": {
            "gridcolor": "white",
            "linecolor": "white",
            "ticks": ""
           },
           "bgcolor": "#E5ECF6",
           "caxis": {
            "gridcolor": "white",
            "linecolor": "white",
            "ticks": ""
           }
          },
          "title": {
           "x": 0.05
          },
          "xaxis": {
           "automargin": true,
           "gridcolor": "white",
           "linecolor": "white",
           "ticks": "",
           "title": {
            "standoff": 15
           },
           "zerolinecolor": "white",
           "zerolinewidth": 2
          },
          "yaxis": {
           "automargin": true,
           "gridcolor": "white",
           "linecolor": "white",
           "ticks": "",
           "title": {
            "standoff": 15
           },
           "zerolinecolor": "white",
           "zerolinewidth": 2
          }
         }
        },
        "title": {
         "text": "Country houses by ZIP"
        }
       }
      }
     },
     "metadata": {},
     "output_type": "display_data"
    }
   ],
   "source": [
    "#df_2bed_country_map = (df_2bed_country.rename(columns={\"latitude\":\"lat\",\"longitude\":\"lon\"})\n",
    "#                       .assign(zip_str=lambda d: d[\"zipcode\"].astype(str)))\n",
    "\n",
    "df_all_country_map = (df_all_country.assign(zip_str=lambda d: d[\"zipcode\"].astype(str)))\n",
    "\n",
    "zip_order = sorted(df_all_country_map[\"zip_str\"].unique())\n",
    "\n",
    "palette = px.colors.qualitative.Set2\n",
    "\n",
    "fig_map_center = px.scatter_map(\n",
    "    df_all_country_map,\n",
    "    lat=\"lat\", \n",
    "    lon=\"long\",\n",
    "    color=\"zip_str\",\n",
    "    category_orders={\"zip_str\": zip_order},\n",
    "    color_discrete_sequence=palette,\n",
    "    hover_data=[\"price\",\"zipcode\", \"id\"],\n",
    "    zoom=8, \n",
    "    height=600,\n",
    "    title=\"Country houses by ZIP\"\n",
    ")\n",
    "fig_map_center.update_layout(mapbox_style=\"open-street-map\", margin=dict(l=0,r=0,t=40,b=0), legend_title_text=\"ZIP code\")\n",
    "\n",
    "fig_map_center"
   ]
  },
  {
   "cell_type": "markdown",
   "id": "fee2f50b",
   "metadata": {},
   "source": [
    "Since the best timing was in the client's request, we ask: Is there a better season to look for a house? In particular, are the prices lower in some season? Let's see how active sales were in each month."
   ]
  },
  {
   "cell_type": "code",
   "execution_count": 152,
   "id": "b15af2fe",
   "metadata": {},
   "outputs": [
    {
     "data": {
      "text/html": [
       "<div>\n",
       "<style scoped>\n",
       "    .dataframe tbody tr th:only-of-type {\n",
       "        vertical-align: middle;\n",
       "    }\n",
       "\n",
       "    .dataframe tbody tr th {\n",
       "        vertical-align: top;\n",
       "    }\n",
       "\n",
       "    .dataframe thead th {\n",
       "        text-align: right;\n",
       "    }\n",
       "</style>\n",
       "<table border=\"1\" class=\"dataframe\">\n",
       "  <thead>\n",
       "    <tr style=\"text-align: right;\">\n",
       "      <th></th>\n",
       "      <th>date</th>\n",
       "      <th>count</th>\n",
       "    </tr>\n",
       "  </thead>\n",
       "  <tbody>\n",
       "    <tr>\n",
       "      <th>0</th>\n",
       "      <td>2014-05-02</td>\n",
       "      <td>9</td>\n",
       "    </tr>\n",
       "    <tr>\n",
       "      <th>1</th>\n",
       "      <td>2014-05-03</td>\n",
       "      <td>1</td>\n",
       "    </tr>\n",
       "    <tr>\n",
       "      <th>2</th>\n",
       "      <td>2014-05-05</td>\n",
       "      <td>1</td>\n",
       "    </tr>\n",
       "    <tr>\n",
       "      <th>3</th>\n",
       "      <td>2014-05-06</td>\n",
       "      <td>3</td>\n",
       "    </tr>\n",
       "    <tr>\n",
       "      <th>4</th>\n",
       "      <td>2014-05-07</td>\n",
       "      <td>6</td>\n",
       "    </tr>\n",
       "    <tr>\n",
       "      <th>...</th>\n",
       "      <td>...</td>\n",
       "      <td>...</td>\n",
       "    </tr>\n",
       "    <tr>\n",
       "      <th>276</th>\n",
       "      <td>2015-05-07</td>\n",
       "      <td>1</td>\n",
       "    </tr>\n",
       "    <tr>\n",
       "      <th>277</th>\n",
       "      <td>2015-05-08</td>\n",
       "      <td>1</td>\n",
       "    </tr>\n",
       "    <tr>\n",
       "      <th>278</th>\n",
       "      <td>2015-05-10</td>\n",
       "      <td>1</td>\n",
       "    </tr>\n",
       "    <tr>\n",
       "      <th>279</th>\n",
       "      <td>2015-05-11</td>\n",
       "      <td>2</td>\n",
       "    </tr>\n",
       "    <tr>\n",
       "      <th>280</th>\n",
       "      <td>2015-05-12</td>\n",
       "      <td>4</td>\n",
       "    </tr>\n",
       "  </tbody>\n",
       "</table>\n",
       "<p>281 rows × 2 columns</p>\n",
       "</div>"
      ],
      "text/plain": [
       "          date  count\n",
       "0   2014-05-02      9\n",
       "1   2014-05-03      1\n",
       "2   2014-05-05      1\n",
       "3   2014-05-06      3\n",
       "4   2014-05-07      6\n",
       "..         ...    ...\n",
       "276 2015-05-07      1\n",
       "277 2015-05-08      1\n",
       "278 2015-05-10      1\n",
       "279 2015-05-11      2\n",
       "280 2015-05-12      4\n",
       "\n",
       "[281 rows x 2 columns]"
      ]
     },
     "execution_count": 152,
     "metadata": {},
     "output_type": "execute_result"
    }
   ],
   "source": [
    "df_all_country_count = df_all_country.groupby('date')['date'].count().reset_index(name=\"count\")\n",
    "df_all_country_count"
   ]
  },
  {
   "cell_type": "code",
   "execution_count": 156,
   "id": "fdeadabb",
   "metadata": {},
   "outputs": [
    {
     "data": {
      "image/png": "[encoded data removed]",
      "text/plain": [
       "<Figure size 800x500 with 1 Axes>"
      ]
     },
     "metadata": {},
     "output_type": "display_data"
    }
   ],
   "source": [
    "df_all_country_count[\"month\"] = df_all_country_count[\"date\"].dt.to_period(\"M\").astype(str)\n",
    "\n",
    "#excluding the 2015-05 because the data are incomplete for this month, hence not representative\n",
    "df_all_country_count = df_all_country_count[df_all_country_count['month'] != '2015-05']\n",
    "\n",
    "sns.histplot(\n",
    "    data=df_all_country_count,\n",
    "    x=\"month\",\n",
    "    weights=\"count\",   # use counts as weights\n",
    "    bins=len(df_all_country_count[\"month\"].unique()),\n",
    "    color=\"skyblue\"\n",
    ")\n",
    "plt.xticks(rotation=45)\n",
    "plt.title(\"Distribution of Sales by Month\")\n",
    "plt.xlabel(\"Month\")\n",
    "plt.ylabel(\"Number of Sales\")\n",
    "plt.show()"
   ]
  },
  {
   "cell_type": "markdown",
   "id": "d0fef2d4",
   "metadata": {},
   "source": [
    "In the above diagram I threw away 2015-05 because the data is available only until 2015-05-11:"
   ]
  },
  {
   "cell_type": "code",
   "execution_count": 158,
   "id": "a6f1306b",
   "metadata": {},
   "outputs": [
    {
     "data": {
      "text/plain": [
       "6714    2015-05-12\n",
       "8675    2015-05-12\n",
       "8986    2015-05-12\n",
       "18028   2015-05-12\n",
       "2539    2015-05-11\n",
       "Name: date, dtype: datetime64[ns]"
      ]
     },
     "execution_count": 158,
     "metadata": {},
     "output_type": "execute_result"
    }
   ],
   "source": [
    "#df_all_country['date'].nsmallest()\n",
    "df_all_country['date'].nlargest()"
   ]
  },
  {
   "cell_type": "code",
   "execution_count": 159,
   "id": "1f35d86a",
   "metadata": {},
   "outputs": [
    {
     "data": {
      "text/html": [
       "<div>\n",
       "<style scoped>\n",
       "    .dataframe tbody tr th:only-of-type {\n",
       "        vertical-align: middle;\n",
       "    }\n",
       "\n",
       "    .dataframe tbody tr th {\n",
       "        vertical-align: top;\n",
       "    }\n",
       "\n",
       "    .dataframe thead th {\n",
       "        text-align: right;\n",
       "    }\n",
       "</style>\n",
       "<table border=\"1\" class=\"dataframe\">\n",
       "  <thead>\n",
       "    <tr style=\"text-align: right;\">\n",
       "      <th></th>\n",
       "      <th>month</th>\n",
       "      <th>med_price</th>\n",
       "    </tr>\n",
       "  </thead>\n",
       "  <tbody>\n",
       "    <tr>\n",
       "      <th>0</th>\n",
       "      <td>2014-05</td>\n",
       "      <td>482750.000</td>\n",
       "    </tr>\n",
       "    <tr>\n",
       "      <th>1</th>\n",
       "      <td>2014-06</td>\n",
       "      <td>532306.000</td>\n",
       "    </tr>\n",
       "    <tr>\n",
       "      <th>2</th>\n",
       "      <td>2014-07</td>\n",
       "      <td>480000.000</td>\n",
       "    </tr>\n",
       "    <tr>\n",
       "      <th>3</th>\n",
       "      <td>2014-08</td>\n",
       "      <td>472500.000</td>\n",
       "    </tr>\n",
       "    <tr>\n",
       "      <th>4</th>\n",
       "      <td>2014-09</td>\n",
       "      <td>485000.000</td>\n",
       "    </tr>\n",
       "    <tr>\n",
       "      <th>5</th>\n",
       "      <td>2014-10</td>\n",
       "      <td>468500.000</td>\n",
       "    </tr>\n",
       "    <tr>\n",
       "      <th>6</th>\n",
       "      <td>2014-11</td>\n",
       "      <td>439000.000</td>\n",
       "    </tr>\n",
       "    <tr>\n",
       "      <th>7</th>\n",
       "      <td>2014-12</td>\n",
       "      <td>475000.000</td>\n",
       "    </tr>\n",
       "    <tr>\n",
       "      <th>8</th>\n",
       "      <td>2015-01</td>\n",
       "      <td>489750.000</td>\n",
       "    </tr>\n",
       "    <tr>\n",
       "      <th>9</th>\n",
       "      <td>2015-02</td>\n",
       "      <td>464000.000</td>\n",
       "    </tr>\n",
       "    <tr>\n",
       "      <th>10</th>\n",
       "      <td>2015-03</td>\n",
       "      <td>499950.000</td>\n",
       "    </tr>\n",
       "    <tr>\n",
       "      <th>11</th>\n",
       "      <td>2015-04</td>\n",
       "      <td>512500.000</td>\n",
       "    </tr>\n",
       "  </tbody>\n",
       "</table>\n",
       "</div>"
      ],
      "text/plain": [
       "      month  med_price\n",
       "0   2014-05 482750.000\n",
       "1   2014-06 532306.000\n",
       "2   2014-07 480000.000\n",
       "3   2014-08 472500.000\n",
       "4   2014-09 485000.000\n",
       "5   2014-10 468500.000\n",
       "6   2014-11 439000.000\n",
       "7   2014-12 475000.000\n",
       "8   2015-01 489750.000\n",
       "9   2015-02 464000.000\n",
       "10  2015-03 499950.000\n",
       "11  2015-04 512500.000"
      ]
     },
     "execution_count": 159,
     "metadata": {},
     "output_type": "execute_result"
    }
   ],
   "source": [
    "df_all_country['month'] = df_all_country['date'].dt.to_period('M').astype('str')\n",
    "med_price_by_month = df_all_country.groupby('month')['price'].median().reset_index(name = 'med_price')\n",
    "med_price_by_month = med_price_by_month[med_price_by_month['month'] != '2015-05'] #drop for consistency\n",
    "med_price_by_month\n"
   ]
  },
  {
   "cell_type": "code",
   "execution_count": 160,
   "id": "cb1c976d",
   "metadata": {},
   "outputs": [
    {
     "data": {
      "image/png": "[encoded data removed]",
      "text/plain": [
       "<Figure size 800x500 with 1 Axes>"
      ]
     },
     "metadata": {},
     "output_type": "display_data"
    }
   ],
   "source": [
    "sns.histplot(\n",
    "    data=med_price_by_month,\n",
    "    x=\"month\",\n",
    "    weights=\"med_price\",\n",
    "    bins=len(med_price_by_month[\"month\"].unique()),\n",
    "    color=\"skyblue\"\n",
    ")\n",
    "plt.xticks(rotation=45)\n",
    "plt.title(\"Median Price by Month\")\n",
    "plt.xlabel(\"Month\")\n",
    "plt.ylabel(\"Median price\")\n",
    "plt.show()"
   ]
  },
  {
   "cell_type": "markdown",
   "id": "9793cb89",
   "metadata": {},
   "source": [
    "Looking at these two diagrams, there is a dip in sales in the winter months, but it is not much reflected by the price. So apparently, timing is not a factor for a price. I'd suggest april to october, because there are more houses for sale.\n",
    "Just out of interest, let's look at the price distribution for the country houses:"
   ]
  },
  {
   "cell_type": "code",
   "execution_count": 161,
   "id": "6c4105f2",
   "metadata": {},
   "outputs": [
    {
     "data": {
      "image/png": "[encoded data removed]",
      "text/plain": [
       "<Figure size 800x500 with 1 Axes>"
      ]
     },
     "metadata": {},
     "output_type": "display_data"
    }
   ],
   "source": [
    "sns.histplot(df_all_country['price'], bins=50, kde=True)\n",
    "plt.title(\"Distribution of House Prices - country\")\n",
    "plt.xlabel(\"Price in USD\")\n",
    "plt.ylabel(\"Number of houses\")\n",
    "plt.ticklabel_format(style='plain', axis='x')\n",
    "plt.show()"
   ]
  },
  {
   "cell_type": "markdown",
   "id": "c68dded8",
   "metadata": {},
   "source": [
    "Now to the topic of renovated vs. non-renovated houses. Are the latter cheaper?"
   ]
  },
  {
   "cell_type": "code",
   "execution_count": 162,
   "id": "0744551d",
   "metadata": {},
   "outputs": [
    {
     "data": {
      "text/plain": [
       "(1288, 22)"
      ]
     },
     "execution_count": 162,
     "metadata": {},
     "output_type": "execute_result"
    }
   ],
   "source": [
    "df_all_country.shape"
   ]
  },
  {
   "cell_type": "markdown",
   "id": "54288734",
   "metadata": {},
   "source": [
    "First, drop all the NaNs and bring the yr_renovated to a normal 4-digit format."
   ]
  },
  {
   "cell_type": "code",
   "execution_count": 163,
   "id": "c6103a46",
   "metadata": {},
   "outputs": [
    {
     "data": {
      "text/plain": [
       "np.int64(210)"
      ]
     },
     "execution_count": 163,
     "metadata": {},
     "output_type": "execute_result"
    }
   ],
   "source": [
    "df_all_country['yr_renovated'].isna().sum()"
   ]
  },
  {
   "cell_type": "code",
   "execution_count": 164,
   "id": "8f6f9c41",
   "metadata": {},
   "outputs": [],
   "source": [
    "df_all_country_nonan = df_all_country.dropna(subset=['yr_renovated'])"
   ]
  },
  {
   "cell_type": "code",
   "execution_count": 165,
   "id": "23fc10bd",
   "metadata": {},
   "outputs": [],
   "source": [
    "df_all_country_nonan['yr_renovated'] = df_all_country_nonan['yr_renovated']/10\n",
    "df_all_country_nonan['yr_renovated'] = df_all_country_nonan['yr_renovated'].astype('int64')"
   ]
  },
  {
   "cell_type": "code",
   "execution_count": 166,
   "id": "210b32a5",
   "metadata": {},
   "outputs": [
    {
     "data": {
      "text/plain": [
       "array([   0, 1951, 1956, 1960, 1965, 1972, 1973, 1977, 1978, 1980, 1983,\n",
       "       1984, 1985, 1986, 1987, 1989, 1990, 1995, 1996, 1998, 2000, 2001,\n",
       "       2002, 2004, 2007])"
      ]
     },
     "execution_count": 166,
     "metadata": {},
     "output_type": "execute_result"
    }
   ],
   "source": [
    "np.sort(df_all_country_nonan['yr_renovated'].unique())"
   ]
  },
  {
   "cell_type": "code",
   "execution_count": 167,
   "id": "835da11b",
   "metadata": {},
   "outputs": [
    {
     "data": {
      "text/plain": [
       "Index(['id', 'bedrooms', 'bathrooms', 'sqft_living', 'sqft_lot', 'floors',\n",
       "       'waterfront', 'view', 'condition', 'grade', 'sqft_above',\n",
       "       'sqft_basement', 'yr_built', 'yr_renovated', 'zipcode', 'lat', 'long',\n",
       "       'sqft_living15', 'sqft_lot15', 'date', 'price', 'month'],\n",
       "      dtype='object')"
      ]
     },
     "execution_count": 167,
     "metadata": {},
     "output_type": "execute_result"
    }
   ],
   "source": [
    "df_all_country_nonan.columns"
   ]
  },
  {
   "cell_type": "code",
   "execution_count": 168,
   "id": "adb06608",
   "metadata": {},
   "outputs": [
    {
     "data": {
      "image/png": "[encoded data removed]",
      "text/plain": [
       "<Figure size 800x500 with 1 Axes>"
      ]
     },
     "metadata": {},
     "output_type": "display_data"
    }
   ],
   "source": [
    "sns.scatterplot(\n",
    "    data=df_all_country_nonan[df_all_country_nonan['yr_renovated'] != 0],\n",
    "    #data=df_all_country_nonan[(df_all_country_nonan['yr_renovated'] != 0) & (df_all_country_nonan['bedrooms'] == 2)],\n",
    "    x=\"yr_renovated\",\n",
    "    y=\"price\",\n",
    "    color=\"steelblue\",\n",
    "    alpha=0.6\n",
    ")\n",
    "\n",
    "plt.title(\"Price vs. Year of Renovation\")\n",
    "plt.xlabel(\"Year Renovated\")\n",
    "plt.ylabel(\"Price (USD)\")\n",
    "plt.ticklabel_format(style='plain', axis='y')\n",
    "plt.show()\n"
   ]
  },
  {
   "cell_type": "markdown",
   "id": "b1b0979f",
   "metadata": {},
   "source": [
    "The year of renovation itself is not very informative of the expected price. Obviously, there are many factors that determine the price. Let's keep at least one of them standardized and focus exclusively on the 2-bedroom houses."
   ]
  },
  {
   "cell_type": "code",
   "execution_count": 169,
   "id": "8df957ae",
   "metadata": {},
   "outputs": [
    {
     "data": {
      "image/png": "[encoded data removed]",
      "text/plain": [
       "<Figure size 800x500 with 1 Axes>"
      ]
     },
     "metadata": {},
     "output_type": "display_data"
    }
   ],
   "source": [
    "sns.boxplot(\n",
    "    data=df_all_country_nonan[(df_all_country_nonan[\"bedrooms\"] == 2) \n",
    "                              & (df_all_country_nonan[\"price\"] < 900000)], #remove an outlier\n",
    "    x=(df_all_country_nonan[\"yr_renovated\"] > 0).map({True: \"Renovated\", False: \"Not renovated\"}),\n",
    "    y=\"price\",\n",
    "    palette=\"Set2\"\n",
    ")\n",
    "plt.title(\"Price Comparison: 2-Bedroom Houses (Renovated vs Not)\")\n",
    "plt.xlabel(\"\")\n",
    "plt.ylabel(\"Price (USD)\")\n",
    "plt.ticklabel_format(style='plain', axis='y')\n",
    "plt.show()"
   ]
  },
  {
   "cell_type": "markdown",
   "id": "3717988c",
   "metadata": {},
   "source": [
    "It turns out that renovated houses actually cost less than non-renovated. This is worth digging deeper. We need a smaller data frame with only 2-bedroom country houses without NaNs in the column 'yr_renovated'. This limits our search to 70 houses now instead of 1078."
   ]
  },
  {
   "cell_type": "code",
   "execution_count": 170,
   "id": "100c94fb",
   "metadata": {},
   "outputs": [
    {
     "data": {
      "text/plain": [
       "(1078, 22)"
      ]
     },
     "execution_count": 170,
     "metadata": {},
     "output_type": "execute_result"
    }
   ],
   "source": [
    "df_all_country_nonan.shape"
   ]
  },
  {
   "cell_type": "code",
   "execution_count": 172,
   "id": "e928f3db",
   "metadata": {},
   "outputs": [
    {
     "data": {
      "text/plain": [
       "(70, 22)"
      ]
     },
     "execution_count": 172,
     "metadata": {},
     "output_type": "execute_result"
    }
   ],
   "source": [
    "df_2bed_country = df_all_country_nonan[df_all_country_nonan['bedrooms'] == 2]\n",
    "df_2bed_country.shape"
   ]
  },
  {
   "cell_type": "markdown",
   "id": "47ca1f02",
   "metadata": {},
   "source": [
    "Now we add a new column \"renovated\", where the contents are only \"Yes\" or \"No\". This will help to compare renovated vs non-renovated houses."
   ]
  },
  {
   "cell_type": "code",
   "execution_count": 173,
   "id": "67d238cf",
   "metadata": {},
   "outputs": [
    {
     "data": {
      "text/html": [
       "<div>\n",
       "<style scoped>\n",
       "    .dataframe tbody tr th:only-of-type {\n",
       "        vertical-align: middle;\n",
       "    }\n",
       "\n",
       "    .dataframe tbody tr th {\n",
       "        vertical-align: top;\n",
       "    }\n",
       "\n",
       "    .dataframe thead th {\n",
       "        text-align: right;\n",
       "    }\n",
       "</style>\n",
       "<table border=\"1\" class=\"dataframe\">\n",
       "  <thead>\n",
       "    <tr style=\"text-align: right;\">\n",
       "      <th></th>\n",
       "      <th>id</th>\n",
       "      <th>bedrooms</th>\n",
       "      <th>bathrooms</th>\n",
       "      <th>sqft_living</th>\n",
       "      <th>sqft_lot</th>\n",
       "      <th>floors</th>\n",
       "      <th>waterfront</th>\n",
       "      <th>view</th>\n",
       "      <th>condition</th>\n",
       "      <th>grade</th>\n",
       "      <th>...</th>\n",
       "      <th>yr_renovated</th>\n",
       "      <th>zipcode</th>\n",
       "      <th>lat</th>\n",
       "      <th>long</th>\n",
       "      <th>sqft_living15</th>\n",
       "      <th>sqft_lot15</th>\n",
       "      <th>date</th>\n",
       "      <th>price</th>\n",
       "      <th>month</th>\n",
       "      <th>renovated</th>\n",
       "    </tr>\n",
       "  </thead>\n",
       "  <tbody>\n",
       "    <tr>\n",
       "      <th>233</th>\n",
       "      <td>943100260</td>\n",
       "      <td>2.000</td>\n",
       "      <td>1.000</td>\n",
       "      <td>1000.000</td>\n",
       "      <td>10200.000</td>\n",
       "      <td>1.000</td>\n",
       "      <td>0.000</td>\n",
       "      <td>0.000</td>\n",
       "      <td>3</td>\n",
       "      <td>6</td>\n",
       "      <td>...</td>\n",
       "      <td>0</td>\n",
       "      <td>98024</td>\n",
       "      <td>47.569</td>\n",
       "      <td>-121.899</td>\n",
       "      <td>1150.000</td>\n",
       "      <td>13702.000</td>\n",
       "      <td>2014-11-20</td>\n",
       "      <td>213000.000</td>\n",
       "      <td>2014-11</td>\n",
       "      <td>No</td>\n",
       "    </tr>\n",
       "    <tr>\n",
       "      <th>569</th>\n",
       "      <td>4045500710</td>\n",
       "      <td>2.000</td>\n",
       "      <td>0.750</td>\n",
       "      <td>1160.000</td>\n",
       "      <td>15029.000</td>\n",
       "      <td>1.000</td>\n",
       "      <td>0.000</td>\n",
       "      <td>0.000</td>\n",
       "      <td>4</td>\n",
       "      <td>6</td>\n",
       "      <td>...</td>\n",
       "      <td>0</td>\n",
       "      <td>98014</td>\n",
       "      <td>47.693</td>\n",
       "      <td>-121.870</td>\n",
       "      <td>1870.000</td>\n",
       "      <td>25346.000</td>\n",
       "      <td>2014-12-18</td>\n",
       "      <td>405000.000</td>\n",
       "      <td>2014-12</td>\n",
       "      <td>No</td>\n",
       "    </tr>\n",
       "    <tr>\n",
       "      <th>676</th>\n",
       "      <td>7846700310</td>\n",
       "      <td>2.000</td>\n",
       "      <td>1.000</td>\n",
       "      <td>1010.000</td>\n",
       "      <td>3000.000</td>\n",
       "      <td>1.000</td>\n",
       "      <td>NaN</td>\n",
       "      <td>0.000</td>\n",
       "      <td>4</td>\n",
       "      <td>7</td>\n",
       "      <td>...</td>\n",
       "      <td>0</td>\n",
       "      <td>98045</td>\n",
       "      <td>47.496</td>\n",
       "      <td>-121.785</td>\n",
       "      <td>1150.000</td>\n",
       "      <td>7000.000</td>\n",
       "      <td>2014-06-23</td>\n",
       "      <td>280000.000</td>\n",
       "      <td>2014-06</td>\n",
       "      <td>No</td>\n",
       "    </tr>\n",
       "    <tr>\n",
       "      <th>981</th>\n",
       "      <td>7853340860</td>\n",
       "      <td>2.000</td>\n",
       "      <td>2.750</td>\n",
       "      <td>1760.000</td>\n",
       "      <td>4139.000</td>\n",
       "      <td>2.000</td>\n",
       "      <td>0.000</td>\n",
       "      <td>0.000</td>\n",
       "      <td>3</td>\n",
       "      <td>8</td>\n",
       "      <td>...</td>\n",
       "      <td>0</td>\n",
       "      <td>98065</td>\n",
       "      <td>47.517</td>\n",
       "      <td>-121.878</td>\n",
       "      <td>1870.000</td>\n",
       "      <td>3076.000</td>\n",
       "      <td>2015-03-10</td>\n",
       "      <td>420000.000</td>\n",
       "      <td>2015-03</td>\n",
       "      <td>No</td>\n",
       "    </tr>\n",
       "    <tr>\n",
       "      <th>1240</th>\n",
       "      <td>226059078</td>\n",
       "      <td>2.000</td>\n",
       "      <td>1.000</td>\n",
       "      <td>1840.000</td>\n",
       "      <td>81892.000</td>\n",
       "      <td>1.000</td>\n",
       "      <td>NaN</td>\n",
       "      <td>0.000</td>\n",
       "      <td>3</td>\n",
       "      <td>6</td>\n",
       "      <td>...</td>\n",
       "      <td>0</td>\n",
       "      <td>98072</td>\n",
       "      <td>47.769</td>\n",
       "      <td>-122.124</td>\n",
       "      <td>2550.000</td>\n",
       "      <td>40089.000</td>\n",
       "      <td>2015-02-27</td>\n",
       "      <td>375000.000</td>\n",
       "      <td>2015-02</td>\n",
       "      <td>No</td>\n",
       "    </tr>\n",
       "  </tbody>\n",
       "</table>\n",
       "<p>5 rows × 23 columns</p>\n",
       "</div>"
      ],
      "text/plain": [
       "              id  bedrooms  bathrooms  sqft_living  sqft_lot  floors  \\\n",
       "233    943100260     2.000      1.000     1000.000 10200.000   1.000   \n",
       "569   4045500710     2.000      0.750     1160.000 15029.000   1.000   \n",
       "676   7846700310     2.000      1.000     1010.000  3000.000   1.000   \n",
       "981   7853340860     2.000      2.750     1760.000  4139.000   2.000   \n",
       "1240   226059078     2.000      1.000     1840.000 81892.000   1.000   \n",
       "\n",
       "      waterfront  view  condition  grade  ...  yr_renovated  zipcode    lat  \\\n",
       "233        0.000 0.000          3      6  ...             0    98024 47.569   \n",
       "569        0.000 0.000          4      6  ...             0    98014 47.693   \n",
       "676          NaN 0.000          4      7  ...             0    98045 47.496   \n",
       "981        0.000 0.000          3      8  ...             0    98065 47.517   \n",
       "1240         NaN 0.000          3      6  ...             0    98072 47.769   \n",
       "\n",
       "         long  sqft_living15  sqft_lot15       date      price    month  \\\n",
       "233  -121.899       1150.000   13702.000 2014-11-20 213000.000  2014-11   \n",
       "569  -121.870       1870.000   25346.000 2014-12-18 405000.000  2014-12   \n",
       "676  -121.785       1150.000    7000.000 2014-06-23 280000.000  2014-06   \n",
       "981  -121.878       1870.000    3076.000 2015-03-10 420000.000  2015-03   \n",
       "1240 -122.124       2550.000   40089.000 2015-02-27 375000.000  2015-02   \n",
       "\n",
       "     renovated  \n",
       "233         No  \n",
       "569         No  \n",
       "676         No  \n",
       "981         No  \n",
       "1240        No  \n",
       "\n",
       "[5 rows x 23 columns]"
      ]
     },
     "execution_count": 173,
     "metadata": {},
     "output_type": "execute_result"
    }
   ],
   "source": [
    "df_2bed_country[\"renovated\"] = df_2bed_country[\"yr_renovated\"] != 0\n",
    "df_2bed_country[\"renovated\"] = df_2bed_country[\"renovated\"].map({True: \"Yes\", False: \"No\"})\n",
    "df_2bed_country.head()"
   ]
  },
  {
   "cell_type": "markdown",
   "id": "b95f041a",
   "metadata": {},
   "source": [
    "What is it about the non-renovated houses that makes them more expensive? The reason is obvious: they offer larger footage. (See below, mean and median.)"
   ]
  },
  {
   "cell_type": "code",
   "execution_count": 174,
   "id": "b2f95cf3",
   "metadata": {},
   "outputs": [
    {
     "data": {
      "text/html": [
       "<div>\n",
       "<style scoped>\n",
       "    .dataframe tbody tr th:only-of-type {\n",
       "        vertical-align: middle;\n",
       "    }\n",
       "\n",
       "    .dataframe tbody tr th {\n",
       "        vertical-align: top;\n",
       "    }\n",
       "\n",
       "    .dataframe thead th {\n",
       "        text-align: right;\n",
       "    }\n",
       "</style>\n",
       "<table border=\"1\" class=\"dataframe\">\n",
       "  <thead>\n",
       "    <tr style=\"text-align: right;\">\n",
       "      <th></th>\n",
       "      <th>sqft_living</th>\n",
       "      <th>sqft_lot</th>\n",
       "      <th>bathrooms</th>\n",
       "      <th>floors</th>\n",
       "      <th>condition</th>\n",
       "      <th>grade</th>\n",
       "      <th>price</th>\n",
       "    </tr>\n",
       "    <tr>\n",
       "      <th>renovated</th>\n",
       "      <th></th>\n",
       "      <th></th>\n",
       "      <th></th>\n",
       "      <th></th>\n",
       "      <th></th>\n",
       "      <th></th>\n",
       "      <th></th>\n",
       "    </tr>\n",
       "  </thead>\n",
       "  <tbody>\n",
       "    <tr>\n",
       "      <th>No</th>\n",
       "      <td>1452.000</td>\n",
       "      <td>112245.900</td>\n",
       "      <td>1.500</td>\n",
       "      <td>1.200</td>\n",
       "      <td>3.200</td>\n",
       "      <td>6.800</td>\n",
       "      <td>406883.500</td>\n",
       "    </tr>\n",
       "    <tr>\n",
       "      <th>Yes</th>\n",
       "      <td>1146.200</td>\n",
       "      <td>26587.000</td>\n",
       "      <td>1.200</td>\n",
       "      <td>1.100</td>\n",
       "      <td>3.500</td>\n",
       "      <td>6.400</td>\n",
       "      <td>294775.000</td>\n",
       "    </tr>\n",
       "  </tbody>\n",
       "</table>\n",
       "</div>"
      ],
      "text/plain": [
       "           sqft_living   sqft_lot  bathrooms  floors  condition  grade  \\\n",
       "renovated                                                                \n",
       "No            1452.000 112245.900      1.500   1.200      3.200  6.800   \n",
       "Yes           1146.200  26587.000      1.200   1.100      3.500  6.400   \n",
       "\n",
       "               price  \n",
       "renovated             \n",
       "No        406883.500  \n",
       "Yes       294775.000  "
      ]
     },
     "execution_count": 174,
     "metadata": {},
     "output_type": "execute_result"
    }
   ],
   "source": [
    "df_2bed_country.groupby('renovated')[[\"sqft_living\", \"sqft_lot\", \"bathrooms\", \"floors\",\n",
    "                                       \"condition\", \"grade\", \"price\"]].mean().round(1)"
   ]
  },
  {
   "cell_type": "code",
   "execution_count": 175,
   "id": "a4de6b78",
   "metadata": {},
   "outputs": [
    {
     "data": {
      "text/html": [
       "<div>\n",
       "<style scoped>\n",
       "    .dataframe tbody tr th:only-of-type {\n",
       "        vertical-align: middle;\n",
       "    }\n",
       "\n",
       "    .dataframe tbody tr th {\n",
       "        vertical-align: top;\n",
       "    }\n",
       "\n",
       "    .dataframe thead th {\n",
       "        text-align: right;\n",
       "    }\n",
       "</style>\n",
       "<table border=\"1\" class=\"dataframe\">\n",
       "  <thead>\n",
       "    <tr style=\"text-align: right;\">\n",
       "      <th></th>\n",
       "      <th>sqft_living</th>\n",
       "      <th>sqft_lot</th>\n",
       "      <th>bathrooms</th>\n",
       "      <th>floors</th>\n",
       "      <th>condition</th>\n",
       "      <th>grade</th>\n",
       "      <th>price</th>\n",
       "    </tr>\n",
       "    <tr>\n",
       "      <th>renovated</th>\n",
       "      <th></th>\n",
       "      <th></th>\n",
       "      <th></th>\n",
       "      <th></th>\n",
       "      <th></th>\n",
       "      <th></th>\n",
       "      <th></th>\n",
       "    </tr>\n",
       "  </thead>\n",
       "  <tbody>\n",
       "    <tr>\n",
       "      <th>No</th>\n",
       "      <td>1320.000</td>\n",
       "      <td>18036.000</td>\n",
       "      <td>1.000</td>\n",
       "      <td>1.000</td>\n",
       "      <td>3.000</td>\n",
       "      <td>7.000</td>\n",
       "      <td>321000.000</td>\n",
       "    </tr>\n",
       "    <tr>\n",
       "      <th>Yes</th>\n",
       "      <td>995.000</td>\n",
       "      <td>14748.000</td>\n",
       "      <td>1.000</td>\n",
       "      <td>1.000</td>\n",
       "      <td>3.500</td>\n",
       "      <td>6.500</td>\n",
       "      <td>285500.000</td>\n",
       "    </tr>\n",
       "  </tbody>\n",
       "</table>\n",
       "</div>"
      ],
      "text/plain": [
       "           sqft_living  sqft_lot  bathrooms  floors  condition  grade  \\\n",
       "renovated                                                               \n",
       "No            1320.000 18036.000      1.000   1.000      3.000  7.000   \n",
       "Yes            995.000 14748.000      1.000   1.000      3.500  6.500   \n",
       "\n",
       "               price  \n",
       "renovated             \n",
       "No        321000.000  \n",
       "Yes       285500.000  "
      ]
     },
     "execution_count": 175,
     "metadata": {},
     "output_type": "execute_result"
    }
   ],
   "source": [
    "df_2bed_country.groupby('renovated')[[\"sqft_living\", \"sqft_lot\", \"bathrooms\", \"floors\", \n",
    "                                      \"condition\", \"grade\", \"price\"]].median()"
   ]
  }
 ],
 "metadata": {
  "kernelspec": {
   "display_name": ".venv",
   "language": "python",
   "name": "python3"
  },
  "language_info": {
   "codemirror_mode": {
    "name": "ipython",
    "version": 3
   },
   "file_extension": ".py",
   "mimetype": "text/x-python",
   "name": "python",
   "nbconvert_exporter": "python",
   "pygments_lexer": "ipython3",
   "version": "3.11.3"
  }
 },
 "nbformat": 4,
 "nbformat_minor": 5
}
